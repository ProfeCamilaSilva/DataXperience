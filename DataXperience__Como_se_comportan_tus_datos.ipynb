{
  "cells": [
    {
      "cell_type": "markdown",
      "id": "b00d6f27",
      "metadata": {
        "id": "b00d6f27"
      },
      "source": [
        "# Cuaderno de Análisis de Datos: Distribuciones, Asimetría, Curtosis, Normalización y Estandarización"
      ]
    },
    {
      "cell_type": "markdown",
      "id": "21f6b95c",
      "metadata": {
        "id": "21f6b95c"
      },
      "source": [
        "## Introducción"
      ]
    },
    {
      "cell_type": "markdown",
      "id": "ac19d70f",
      "metadata": {
        "id": "ac19d70f"
      },
      "source": [
        "En el vasto y complejo mundo del análisis de datos y el Machine Learning, la comprensión profunda de las características de nuestros datos es un pilar fundamental. Más allá de las medidas básicas de tendencia central y dispersión, la forma en que los datos se distribuyen nos revela patrones y tendencias cruciales que son invisibles a primera vista. Este cuaderno interactivo de Google Colab está diseñado para ser una guía práctica, dinámica y pedagógica que te sumergirá en conceptos esenciales de estadística descriptiva y preprocesamiento de datos. Exploraremos la importancia de las distribuciones, cómo medir su forma a través de la asimetría y la curtosis, y la necesidad vital de escalar los datos mediante la normalización y la estandarización para preparar nuestros modelos de Machine Learning.\n",
        "\n",
        "A lo largo de este cuaderno, utilizaremos un conjunto de datos público para ilustrar cada concepto con ejemplos prácticos en Python y R, permitiéndote aplicar y experimentar con las técnicas aprendidas. ¡Prepárate para transformar tu comprensión de los datos y potenciar tus habilidades en ciencia de datos!"
      ]
    },
    {
      "cell_type": "markdown",
      "id": "548561ee",
      "metadata": {
        "id": "548561ee"
      },
      "source": [
        "## 1. Comprendiendo el Comportamiento de tus Datos: Las Distribuciones"
      ]
    },
    {
      "cell_type": "markdown",
      "id": "425dc5f8",
      "metadata": {
        "id": "425dc5f8"
      },
      "source": [
        "La distribución de los datos es un concepto estadístico que describe cómo se agrupan o dispersan los valores de una variable. Nos proporciona una visión de la frecuencia con la que ocurren diferentes valores en un conjunto de datos, revelando su forma, centro y dispersión. Comprender la distribución de una variable es crucial porque muchos modelos estadísticos y algoritmos de Machine Learning asumen ciertas distribuciones para funcionar de manera óptima. Ignorar la distribución de los datos puede llevar a conclusiones erróneas y a modelos predictivos ineficaces.\n",
        "\n",
        "#"
      ]
    },
    {
      "cell_type": "markdown",
      "id": "ba54fdd1",
      "metadata": {
        "id": "ba54fdd1"
      },
      "source": [
        "## La Distribución Normal: La 'Reina' de las Distribuciones"
      ]
    },
    {
      "cell_type": "markdown",
      "id": "44d44e8b",
      "metadata": {
        "id": "44d44e8b"
      },
      "source": [
        "La distribución normal, también conocida como distribución gaussiana o \"curva de campana\", es, sin lugar a dudas, la distribución de probabilidad más importante y omnipresente en la estadística. Su relevancia radica en que muchos fenómenos naturales, sociales y económicos se aproximan a esta distribución. Ejemplos clásicos incluyen la altura de las personas, los errores de medición en experimentos científicos, las puntuaciones en exámenes estandarizados, y la presión arterial en una población sana. Su forma simétrica y predecible la convierte en una herramienta poderosa para la inferencia estadística.\n",
        "\n",
        "**Características clave de la Distribución Normal:**\n",
        "\n",
        "*   **Simetría:** Es perfectamente simétrica alrededor de su media. Esto significa que si dobláramos la curva por la mitad, ambas mitades coincidirían. En una distribución normal, la media, la mediana y la moda son idénticas y se encuentran en el centro de la distribución.\n",
        "*   **Forma de Campana:** Posee una forma distintiva que se asemeja a una campana, con la mayoría de los datos agrupados cerca del centro y la frecuencia disminuyendo gradualmente a medida que nos alejamos del centro en ambas direcciones.\n",
        "*   **Asintótica:** Las colas de la distribución se extienden infinitamente en ambas direcciones, acercándose al eje horizontal pero nunca tocándolo.\n",
        "*   **Parámetros:** Está completamente definida por dos parámetros: su media (μ), que determina la ubicación del centro de la campana, y su desviación estándar (σ), que controla la dispersión o el \"ancho\" de la campana. Una desviación estándar pequeña indica que los datos están muy agrupados alrededor de la media, mientras que una grande sugiere una mayor dispersión.\n",
        "\n",
        "**¿Cómo detectar una distribución normal?**\n",
        "\n",
        "Detectar si un conjunto de datos sigue una distribución normal es un paso fundamental en el análisis exploratorio de datos. Existen varias aproximaciones para ello:\n",
        "\n",
        "1.  **Visualmente:** La forma más intuitiva es crear un histograma de los datos. Si el histograma se asemeja a una campana simétrica, es una buena indicación de normalidad. Otra herramienta visual útil es el gráfico Q-Q (quantile-quantile plot), que compara los cuantiles de la distribución de nuestros datos con los cuantiles de una distribución normal teórica. Si los puntos se alinean aproximadamente a lo largo de una línea recta, sugiere normalidad.\n",
        "2.  **Pruebas Estadísticas:** Para una evaluación más rigurosa, se utilizan pruebas de hipótesis formales. Las más comunes incluyen:\n",
        "    *   **Prueba de Shapiro-Wilk:** Es una de las pruebas más potentes para la normalidad y es adecuada para tamaños de muestra pequeños a moderados (generalmente n < 50). La hipótesis nula es que los datos provienen de una distribución normal.\n",
        "    *   **Prueba de Kolmogorov-Smirnov (Lilliefors):** Esta prueba compara la función de distribución acumulada de los datos con la de una distribución normal. Es más adecuada para muestras grandes. Una variante común es la prueba de Lilliefors, que se utiliza cuando la media y la desviación estándar de la población no se conocen (lo cual es lo más común en la práctica).\n",
        "    *   **Prueba de Anderson-Darling:** Similar a Kolmogorov-Smirnov, pero da más peso a las colas de la distribución, lo que la hace más sensible a las desviaciones de la normalidad en los extremos.\n",
        "\n",
        "Es importante recordar que estas pruebas no \"prueban\" que una distribución es normal, sino que no encuentran evidencia suficiente para rechazar la hipótesis de normalidad. Un p-valor alto (típicamente > 0.05) sugiere que no hay evidencia para rechazar la normalidad. Sin embargo, para muestras muy grandes, incluso pequeñas desviaciones de la normalidad pueden resultar en un p-valor bajo, por lo que la inspección visual siempre debe complementar las pruebas estadísticas."
      ]
    },
    {
      "cell_type": "markdown",
      "id": "0a937e78",
      "metadata": {
        "id": "0a937e78"
      },
      "source": [
        "## 2. Asimetría (Skewness) y Curtosis (Kurtosis): Describiendo la Forma de la Distribución"
      ]
    },
    {
      "cell_type": "markdown",
      "id": "9a40b8d9",
      "metadata": {
        "id": "9a40b8d9"
      },
      "source": [
        "Mientras que la media y la desviación estándar nos dan información sobre el centro y la dispersión de una distribución, la asimetría y la curtosis nos proporcionan detalles cruciales sobre su forma. Estas dos medidas son el tercer y cuarto momento estandarizado de una distribución, respectivamente, y nos permiten ir más allá de la simple observación visual para cuantificar cuán simétrica es una distribución y cuán \"puntiaguda\" o \"aplanada\" es en comparación con una distribución normal.\n",
        "\n"
      ]
    },
    {
      "cell_type": "markdown",
      "id": "70fddd7e",
      "metadata": {
        "id": "70fddd7e"
      },
      "source": [
        "## Asimetría (Skewness)"
      ]
    },
    {
      "cell_type": "markdown",
      "id": "dee25b19",
      "metadata": {
        "id": "dee25b19"
      },
      "source": [
        "La asimetría es una medida de la falta de simetría en una distribución de probabilidad. Una distribución simétrica tiene una asimetría de cero. Si la asimetría es diferente de cero, la distribución es asimétrica, y la dirección del sesgo nos indica hacia dónde se extiende la \"cola\" de la distribución.\n",
        "\n",
        "*   **Asimetría Positiva (o Sesgo a la Derecha):**\n",
        "    *   **Características:** La cola de la distribución es más larga hacia el lado derecho. La mayoría de los datos se agrupan en el lado izquierdo de la distribución, cerca de los valores más bajos. La media es mayor que la mediana, y la mediana es mayor que la moda (Media > Mediana > Moda).\n",
        "    *   **Ejemplo:** Los ingresos en una población. La mayoría de las personas tienen ingresos moderados o bajos, mientras que un pequeño número de individuos tienen ingresos muy altos, creando una cola larga hacia la derecha. Otros ejemplos incluyen el tiempo de espera en una cola o el número de errores en un proceso.\n",
        "\n",
        "*   **Asimetría Negativa (o Sesgo a la Izquierda):**\n",
        "    *   **Características:** La cola de la distribución es más larga hacia el lado izquierdo. La mayoría de los datos se agrupan en el lado derecho de la distribución, cerca de los valores más altos. La media es menor que la mediana, y la mediana es menor que la moda (Media < Mediana < Moda).\n",
        "    *   **Ejemplo:** Las calificaciones de un examen muy fácil. La mayoría de los estudiantes obtendrán puntuaciones altas, mientras que solo unos pocos obtendrán puntuaciones bajas, creando una cola larga hacia la izquierda. Otro ejemplo podría ser la vida útil de un producto que tiende a fallar rápidamente después de un cierto período.\n",
        "\n",
        "*   **Asimetría Cero:**\n",
        "    *   **Características:** La distribución es perfectamente simétrica. La media, la mediana y la moda son iguales y se encuentran en el centro de la distribución. La distribución normal es un ejemplo clásico de una distribución con asimetría cero.\n",
        "\n",
        "La asimetría es crucial porque nos alerta sobre la presencia de valores atípicos o extremos en un lado de la distribución, lo que puede influir significativamente en las medidas de tendencia central y en el rendimiento de los modelos que asumen simetría.\n",
        "\n",
        "\n"
      ]
    },
    {
      "cell_type": "markdown",
      "id": "7e3aee52",
      "metadata": {
        "id": "7e3aee52"
      },
      "source": [
        "## Curtosis (Kurtosis)"
      ]
    },
    {
      "cell_type": "markdown",
      "id": "47ba5906",
      "metadata": {
        "id": "47ba5906"
      },
      "source": [
        "La curtosis es una medida de la \"puntiagudez\" o \"aplanamiento\" de la distribución de una variable, y también de la \"pesadez\" de sus colas, en comparación con una distribución normal. Un valor de curtosis de 0 (o 3, dependiendo de la convención, ya que algunas librerías restan 3 para que la normal tenga 0) indica una distribución mesocúrtica, similar a la normal.\n",
        "\n",
        "*   **Leptocúrtica (Curtosis > 0 o > 3):**\n",
        "    *   **Características:** La distribución tiene un pico más alto y más estrecho en el centro, y colas más \"pesadas\" o \"gruesas\". Esto significa que hay una mayor concentración de datos alrededor de la media y, al mismo tiempo, una mayor probabilidad de observar valores extremos (outliers) en las colas. Los datos están más concentrados en el centro y en los extremos, con menos datos en los \"hombros\" de la distribución.\n",
        "    *   **Ejemplo:** Retornos de activos financieros durante períodos de alta volatilidad, donde hay muchos retornos cercanos a cero y, ocasionalmente, retornos extremadamente grandes o pequeños.\n",
        "\n",
        "*   **Mesocúrtica (Curtosis ≈ 0 o ≈ 3):**\n",
        "    *   **Características:** La distribución tiene una forma y unas colas similares a las de una distribución normal. La concentración de datos en el centro y la frecuencia de valores extremos son las esperadas para una distribución normal.\n",
        "    *   **Ejemplo:** La distribución normal estándar es el arquetipo de una distribución mesocúrtica.\n",
        "\n",
        "*   **Platicúrtica (Curtosis < 0 o < 3):**\n",
        "    *   **Características:** La distribución tiene un pico más bajo y más ancho en el centro, y colas más \"ligeras\" o \"delgadas\". Esto indica que los datos están más dispersos y distribuidos de manera más uniforme, con menos concentración alrededor de la media y una menor probabilidad de valores extremos. Los datos están más en los \"hombros\" de la distribución.\n",
        "    *   **Ejemplo:** Una distribución uniforme, donde todos los valores dentro de un rango tienen la misma probabilidad de ocurrir, resultaría en una curtosis negativa.\n",
        "\n",
        "La asimetría y la curtosis son herramientas poderosas para obtener una comprensión más profunda de la forma de nuestros datos, lo que a su vez nos ayuda a seleccionar las transformaciones de datos adecuadas y los modelos estadísticos y de Machine Learning más apropiados para nuestra tarea."
      ]
    },
    {
      "cell_type": "markdown",
      "id": "266da924",
      "metadata": {
        "id": "266da924"
      },
      "source": [
        "## 3. Escalado de Datos: Normalización y Estandarización"
      ]
    },
    {
      "cell_type": "markdown",
      "id": "3c87a4ae",
      "metadata": {
        "id": "3c87a4ae"
      },
      "source": [
        "En el ámbito del Machine Learning, es una práctica común que las características (variables o columnas) de nuestro conjunto de datos presenten diferentes rangos y escalas. Por ejemplo, una característica como la \"edad\" podría variar de 0 a 100, mientras que el \"salario\" podría oscilar entre 20,000 y 1,000,000. Esta disparidad de escalas puede ser problemática para muchos algoritmos de Machine Learning. Los algoritmos basados en distancias (como K-Means, KNN, SVM con kernel RBF) o aquellos que utilizan gradientes (como la regresión lineal, regresión logística, redes neuronales) pueden dar un peso desproporcionado a las características con rangos de valores más grandes, independientemente de su importancia real para el problema. El escalado de datos es una técnica de preprocesamiento que aborda este problema, asegurando que todas las características contribuyan de manera equitativa al modelo.\n",
        "\n"
      ]
    },
    {
      "cell_type": "markdown",
      "id": "16af801d",
      "metadata": {
        "id": "16af801d"
      },
      "source": [
        "## Normalización (Min-Max Scaling)"
      ]
    },
    {
      "cell_type": "markdown",
      "id": "181fc2e6",
      "metadata": {
        "id": "181fc2e6"
      },
      "source": [
        "La normalización, también conocida como escalado Min-Max, es una técnica de escalado que transforma los datos de una característica para que se ajusten a un rango específico, generalmente entre 0 y 1. Este método es particularmente útil cuando se desea que los datos estén acotados dentro de un rango predefinido.\n",
        "\n",
        "**Cómo funciona:**\n",
        "\n",
        "La fórmula para la normalización Min-Max es la siguiente:\n",
        "\n",
        "$$X_{normalized} = \\frac{X - X_{min}}{X_{max} - X_{min}}$$\n",
        "\n",
        "Donde:\n",
        "*   $X$ es el valor original del dato.\n",
        "*   $X_{min}$ es el valor mínimo de la característica en el conjunto de datos.\n",
        "*   $X_{max}$ es el valor máximo de la característica en el conjunto de datos.\n",
        "\n",
        "**Cuándo usarla:**\n",
        "\n",
        "*   **Algoritmos basados en distancias:** Es muy efectiva para algoritmos como K-Nearest Neighbors (KNN), K-Means Clustering y Support Vector Machines (SVM) con ciertos kernels, donde la distancia entre puntos es un factor clave. Al escalar los datos a un rango común, se evita que las características con valores más grandes dominen el cálculo de la distancia.\n",
        "*   **Redes Neuronales:** Las redes neuronales a menudo convergen más rápido cuando las características de entrada están en un rango pequeño y consistente, como [0, 1].\n",
        "*   **Cuando la distribución no es gaussiana:** Si la distribución de tus datos no es normal y no quieres que los valores atípicos afecten demasiado el escalado (ya que se limitan al rango 0-1).\n",
        "*   **Cuando se conoce el rango acotado de los datos:** Útil si se tiene un conocimiento previo de los límites lógicos de los datos.\n",
        "\n",
        "**Consideraciones:**\n",
        "\n",
        "*   **Sensibilidad a valores atípicos:** La normalización es muy sensible a los valores atípicos. Un valor extremo (muy grande o muy pequeño) puede comprimir el resto de los datos en un rango muy pequeño, reduciendo la variabilidad y la información útil de la mayoría de los datos. Esto se debe a que $X_{min}$ y $X_{max}$ se ven directamente afectados por los outliers.\n",
        "\n",
        "\n"
      ]
    },
    {
      "cell_type": "markdown",
      "id": "28115fa5",
      "metadata": {
        "id": "28115fa5"
      },
      "source": [
        "## Estandarización (Z-score Scaling)"
      ]
    },
    {
      "cell_type": "markdown",
      "id": "0c395c32",
      "metadata": {
        "id": "0c395c32"
      },
      "source": [
        "La estandarización, también conocida como Z-score scaling, es una técnica de escalado que transforma los datos de una característica para que tengan una media de 0 y una desviación estándar de 1. Este proceso resulta en una distribución con forma de campana (si los datos originales eran aproximadamente normales) centrada en cero, lo que se conoce como distribución normal estándar.\n",
        "\n",
        "**Cómo funciona:**\n",
        "\n",
        "La fórmula para la estandarización Z-score es la siguiente:\n",
        "\n",
        "$$X_{standardized} = \\frac{X - \\mu}{\\sigma}$$\n",
        "\n",
        "Donde:\n",
        "*   $X$ es el valor original del dato.\n",
        "*   $\\mu$ (mu) es la media de la característica en el conjunto de datos.\n",
        "*   $\\sigma$ (sigma) es la desviación estándar de la característica en el conjunto de datos.\n",
        "\n",
        "**Cuándo usarla:**\n",
        "\n",
        "*   **Algoritmos que asumen distribuciones gaussianas:** Es ideal para algoritmos que asumen que los datos de entrada siguen una distribución normal, como la Regresión Lineal, Regresión Logística, Linear Discriminant Analysis (LDA) y Support Vector Machines (SVM) con ciertos kernels.\n",
        "*   **Cuando hay valores atípicos:** La estandarización maneja mejor los valores atípicos que la normalización. Aunque los valores atípicos seguirán siendo \"grandes\" en comparación con el resto de los datos, su influencia se gestiona de manera más robusta porque la media y la desviación estándar son menos sensibles a los extremos que los valores mínimos y máximos absolutos.\n",
        "*   **Algoritmos basados en gradientes:** Ayuda a que los algoritmos de optimización basados en gradientes (como los utilizados en redes neuronales y regresión) converjan más rápido al evitar que los gradientes sean demasiado grandes o pequeños debido a las diferencias de escala.\n",
        "*   **Análisis de componentes principales (PCA):** Es una práctica común estandarizar los datos antes de aplicar PCA, ya que PCA es sensible a la escala de las variables.\n",
        "\n",
        "**Consideraciones:**\n",
        "\n",
        "*   **No restringe a un rango fijo:** A diferencia de la normalización, la estandarización no restringe los datos a un rango fijo. Esto significa que los valores estandarizados pueden ser negativos o mayores que 1, lo cual es importante tener en cuenta si el algoritmo de Machine Learning tiene requisitos de entrada de rango específico.\n",
        "\n",
        "\n"
      ]
    },
    {
      "cell_type": "markdown",
      "id": "7990558b",
      "metadata": {
        "id": "7990558b"
      },
      "source": [
        "## ¿Normalización o Estandarización? La Elección Correcta"
      ]
    },
    {
      "cell_type": "markdown",
      "id": "d97bb3f4",
      "metadata": {
        "id": "d97bb3f4"
      },
      "source": [
        "La elección entre normalización y estandarización no es trivial y depende en gran medida de la naturaleza de tus datos y de los requisitos del algoritmo de Machine Learning que planeas utilizar. No existe una solución única para todos los casos.\n",
        "\n",
        "*   **Normalización (Min-Max Scaling):** Preferible cuando necesitas que tus datos estén acotados dentro de un rango específico (ej. [0, 1]) y cuando la distribución de tus datos no es gaussiana. Ten precaución si tus datos contienen valores atípicos significativos, ya que pueden distorsionar el rango y comprimir el resto de los datos.\n",
        "*   **Estandarización (Z-score Scaling):** Generalmente preferible cuando tus datos siguen una distribución aproximadamente normal o cuando el algoritmo que vas a utilizar asume una distribución gaussiana. Es más robusta a los valores atípicos y es una buena opción por defecto si no estás seguro de qué técnica usar.\n",
        "\n",
        "En la práctica, a menudo se prueban ambas técnicas y se evalúa cuál produce un mejor rendimiento del modelo. El escalado de datos es un paso crucial en el preprocesamiento que puede marcar una diferencia significativa en la precisión y la estabilidad de tus modelos de Machine Learning. ¡Es el puente entre tus datos crudos y el éxito del modelo!"
      ]
    },
    {
      "cell_type": "markdown",
      "id": "e503cb40",
      "metadata": {
        "id": "e503cb40"
      },
      "source": [
        "## 4. Limpieza de Datos: Preparando el Terreno para el Análisis"
      ]
    },
    {
      "cell_type": "markdown",
      "id": "a6fdb3f5",
      "metadata": {
        "id": "a6fdb3f5"
      },
      "source": [
        "Antes de sumergirnos en el análisis de distribuciones o aplicar técnicas de escalado, es imperativo asegurar la calidad de nuestros datos. La limpieza de datos es un paso crítico en el preprocesamiento que implica identificar y corregir errores, inconsistencias y valores faltantes en el conjunto de datos. Un dataset \"sucio\" puede llevar a análisis sesgados, modelos ineficaces y conclusiones erróneas. En esta sección, exploraremos algunas de las tareas de limpieza de datos más comunes utilizando nuestro dataset de ejemplo.\n",
        "\n",
        "Para este cuaderno, utilizaremos el famoso dataset del Titanic, que contiene información sobre los pasajeros del trágico viaje, incluyendo su estado de supervivencia, edad, sexo, clase de billete, etc. Este dataset es ideal para demostrar la limpieza de datos debido a la presencia de valores faltantes y la necesidad de transformaciones.\n",
        "\n",
        "\n"
      ]
    },
    {
      "cell_type": "markdown",
      "id": "3e3a46e3",
      "metadata": {
        "id": "3e3a46e3"
      },
      "source": [
        "## Carga del Dataset y Exploración Inicial"
      ]
    },
    {
      "cell_type": "markdown",
      "id": "d1e60f7f",
      "metadata": {
        "id": "d1e60f7f"
      },
      "source": [
        "Primero, cargaremos el dataset y realizaremos una exploración inicial para entender su estructura y detectar posibles problemas."
      ]
    },
    {
      "cell_type": "code",
      "execution_count": 2,
      "id": "020e20f1",
      "metadata": {
        "colab": {
          "base_uri": "https://localhost:8080/"
        },
        "id": "020e20f1",
        "outputId": "877ff05b-b5d0-4ef5-e31c-d8158832f3bc"
      },
      "outputs": [
        {
          "output_type": "stream",
          "name": "stdout",
          "text": [
            "Primeras 5 filas del dataset:\n",
            "   PassengerId  Survived  Pclass  \\\n",
            "0            1         0       3   \n",
            "1            2         1       1   \n",
            "2            3         1       3   \n",
            "3            4         1       1   \n",
            "4            5         0       3   \n",
            "\n",
            "                                                Name     Sex   Age  SibSp  \\\n",
            "0                            Braund, Mr. Owen Harris    male  22.0      1   \n",
            "1  Cumings, Mrs. John Bradley (Florence Briggs Th...  female  38.0      1   \n",
            "2                              Heikkinen, Miss Laina  female  26.0      0   \n",
            "3       Futrelle, Mrs. Jacques Heath (Lily May Peel)  female  35.0      1   \n",
            "4                           Allen, Mr. William Henry    male  35.0      0   \n",
            "\n",
            "   Parch            Ticket     Fare Cabin Embarked  \n",
            "0      0         A/5 21171   7.2500   NaN        S  \n",
            "1      0          PC 17599  71.2833   C85        C  \n",
            "2      0  STON/O2. 3101282   7.9250   NaN        S  \n",
            "3      0            113803  53.1000  C123        S  \n",
            "4      0            373450   8.0500   NaN        S  \n",
            "\n",
            "Información general del dataset:\n",
            "<class 'pandas.core.frame.DataFrame'>\n",
            "RangeIndex: 891 entries, 0 to 890\n",
            "Data columns (total 12 columns):\n",
            " #   Column       Non-Null Count  Dtype  \n",
            "---  ------       --------------  -----  \n",
            " 0   PassengerId  891 non-null    int64  \n",
            " 1   Survived     891 non-null    int64  \n",
            " 2   Pclass       891 non-null    int64  \n",
            " 3   Name         891 non-null    object \n",
            " 4   Sex          891 non-null    object \n",
            " 5   Age          714 non-null    float64\n",
            " 6   SibSp        891 non-null    int64  \n",
            " 7   Parch        891 non-null    int64  \n",
            " 8   Ticket       891 non-null    object \n",
            " 9   Fare         891 non-null    float64\n",
            " 10  Cabin        204 non-null    object \n",
            " 11  Embarked     889 non-null    object \n",
            "dtypes: float64(2), int64(5), object(5)\n",
            "memory usage: 83.7+ KB\n",
            "None\n",
            "\n",
            "Estadísticas descriptivas del dataset:\n",
            "       PassengerId    Survived      Pclass         Age       SibSp  \\\n",
            "count   891.000000  891.000000  891.000000  714.000000  891.000000   \n",
            "mean    446.000000    0.383838    2.308642   29.699118    0.523008   \n",
            "std     257.353842    0.486592    0.836071   14.526497    1.102743   \n",
            "min       1.000000    0.000000    1.000000    0.420000    0.000000   \n",
            "25%     223.500000    0.000000    2.000000   20.125000    0.000000   \n",
            "50%     446.000000    0.000000    3.000000   28.000000    0.000000   \n",
            "75%     668.500000    1.000000    3.000000   38.000000    1.000000   \n",
            "max     891.000000    1.000000    3.000000   80.000000    8.000000   \n",
            "\n",
            "            Parch        Fare  \n",
            "count  891.000000  891.000000  \n",
            "mean     0.381594   32.204208  \n",
            "std      0.806057   49.693429  \n",
            "min      0.000000    0.000000  \n",
            "25%      0.000000    7.910400  \n",
            "50%      0.000000   14.454200  \n",
            "75%      0.000000   31.000000  \n",
            "max      6.000000  512.329200  \n"
          ]
        }
      ],
      "source": [
        "import pandas as pd\n",
        "\n",
        "# Cargar el dataset del Titanic, este se encuentra en archivos\n",
        "# y verifica la ruta del dataset, para que no tengas problemas al cargar tus datos\n",
        "df = pd.read_csv('/content/sample_data/titanic.csv') #/content/sample_data/titanic.csv\n",
        "\n",
        "# Mostrar las primeras filas del dataset\n",
        "print('Primeras 5 filas del dataset:')\n",
        "print(df.head())\n",
        "\n",
        "# Mostrar información general del dataset\n",
        "print('\\nInformación general del dataset:')\n",
        "print(df.info())\n",
        "\n",
        "# Mostrar estadísticas descriptivas\n",
        "print('\\nEstadísticas descriptivas del dataset:')\n",
        "print(df.describe())"
      ]
    },
    {
      "cell_type": "markdown",
      "id": "9cdaaff9",
      "metadata": {
        "id": "9cdaaff9"
      },
      "source": [
        "## Manejo de Valores Faltantes"
      ]
    },
    {
      "cell_type": "markdown",
      "id": "44188a8e",
      "metadata": {
        "id": "44188a8e"
      },
      "source": [
        "Los valores faltantes (NaN, None, etc.) son un problema común en los datasets reales. Pueden ocurrir por diversas razones, como errores en la recolección de datos, información no disponible o fallos en el sistema. Es crucial identificar y manejar estos valores adecuadamente, ya que muchos algoritmos de Machine Learning no pueden trabajar directamente con ellos.\n",
        "\n",
        "Existen varias estrategias para manejar los valores faltantes:\n",
        "\n",
        "1.  **Eliminación:**\n",
        "    *   **Eliminar filas:** Si una fila tiene muchos valores faltantes o si el número de filas con valores faltantes es pequeño en comparación con el tamaño total del dataset, se pueden eliminar las filas completas. Sin embargo, esto puede resultar en la pérdida de información valiosa si se eliminan demasiadas filas.\n",
        "    *   **Eliminar columnas:** Si una columna tiene un porcentaje muy alto de valores faltantes (ej. > 70-80%), puede ser más sensato eliminar la columna completa, ya que no aportaría mucha información útil.\n",
        "\n",
        "2.  **Imputación:** Reemplazar los valores faltantes con un valor estimado. Las técnicas de imputación comunes incluyen:\n",
        "    *   **Media/Mediana/Moda:** Reemplazar los valores faltantes con la media (para datos numéricos sin valores atípicos), la mediana (para datos numéricos con valores atípicos) o la moda (para datos categóricos) de la columna.\n",
        "    *   **Imputación por regresión:** Utilizar un modelo de regresión para predecir los valores faltantes basándose en otras columnas del dataset.\n",
        "    *   **Imputación por k-NN:** Reemplazar los valores faltantes basándose en los valores de los k vecinos más cercanos.\n",
        "\n",
        "**Ejemplo práctico: Manejo de valores faltantes en el dataset del Titanic**\n",
        "\n",
        "Primero, identifiquemos la cantidad de valores faltantes por columna:"
      ]
    },
    {
      "cell_type": "code",
      "execution_count": 3,
      "id": "8ad3c35b",
      "metadata": {
        "id": "8ad3c35b",
        "colab": {
          "base_uri": "https://localhost:8080/"
        },
        "outputId": "e91c580d-ec67-4375-c5ce-0c6516165bad"
      },
      "outputs": [
        {
          "output_type": "stream",
          "name": "stdout",
          "text": [
            "\n",
            "Valores faltantes por columna:\n",
            "PassengerId      0\n",
            "Survived         0\n",
            "Pclass           0\n",
            "Name             0\n",
            "Sex              0\n",
            "Age            177\n",
            "SibSp            0\n",
            "Parch            0\n",
            "Ticket           0\n",
            "Fare             0\n",
            "Cabin          687\n",
            "Embarked         2\n",
            "dtype: int64\n"
          ]
        }
      ],
      "source": [
        "# Contar valores faltantes por columna\n",
        "print('\\nValores faltantes por columna:')\n",
        "print(df.isnull().sum())"
      ]
    },
    {
      "cell_type": "markdown",
      "id": "dade7325",
      "metadata": {
        "id": "dade7325"
      },
      "source": [
        "Observamos que las columnas `Age`, `Cabin` y `Embarked` tienen valores faltantes. La columna `Cabin` tiene un porcentaje muy alto de valores faltantes, por lo que podríamos considerar eliminarla. Para `Age` y `Embarked`, podemos imputar los valores."
      ]
    },
    {
      "cell_type": "code",
      "execution_count": 4,
      "id": "14dcc81f",
      "metadata": {
        "id": "14dcc81f",
        "colab": {
          "base_uri": "https://localhost:8080/"
        },
        "outputId": "6fe6ff84-fe4e-49c2-8134-be688b7958de"
      },
      "outputs": [
        {
          "output_type": "stream",
          "name": "stdout",
          "text": [
            "\n",
            "Dataset después de eliminar la columna Cabin:\n",
            "   PassengerId  Survived  Pclass  \\\n",
            "0            1         0       3   \n",
            "1            2         1       1   \n",
            "2            3         1       3   \n",
            "3            4         1       1   \n",
            "4            5         0       3   \n",
            "\n",
            "                                                Name     Sex   Age  SibSp  \\\n",
            "0                            Braund, Mr. Owen Harris    male  22.0      1   \n",
            "1  Cumings, Mrs. John Bradley (Florence Briggs Th...  female  38.0      1   \n",
            "2                              Heikkinen, Miss Laina  female  26.0      0   \n",
            "3       Futrelle, Mrs. Jacques Heath (Lily May Peel)  female  35.0      1   \n",
            "4                           Allen, Mr. William Henry    male  35.0      0   \n",
            "\n",
            "   Parch            Ticket     Fare Embarked  \n",
            "0      0         A/5 21171   7.2500        S  \n",
            "1      0          PC 17599  71.2833        C  \n",
            "2      0  STON/O2. 3101282   7.9250        S  \n",
            "3      0            113803  53.1000        S  \n",
            "4      0            373450   8.0500        S  \n",
            "\n",
            "Valores faltantes en Age después de la imputación:\n",
            "0\n",
            "\n",
            "Valores faltantes en Embarked después de la imputación:\n",
            "0\n",
            "\n",
            "Valores faltantes finales por columna:\n",
            "PassengerId    0\n",
            "Survived       0\n",
            "Pclass         0\n",
            "Name           0\n",
            "Sex            0\n",
            "Age            0\n",
            "SibSp          0\n",
            "Parch          0\n",
            "Ticket         0\n",
            "Fare           0\n",
            "Embarked       0\n",
            "dtype: int64\n"
          ]
        },
        {
          "output_type": "stream",
          "name": "stderr",
          "text": [
            "/tmp/ipython-input-4-3254200097.py:7: FutureWarning: A value is trying to be set on a copy of a DataFrame or Series through chained assignment using an inplace method.\n",
            "The behavior will change in pandas 3.0. This inplace method will never work because the intermediate object on which we are setting values always behaves as a copy.\n",
            "\n",
            "For example, when doing 'df[col].method(value, inplace=True)', try using 'df.method({col: value}, inplace=True)' or df[col] = df[col].method(value) instead, to perform the operation inplace on the original object.\n",
            "\n",
            "\n",
            "  df_cleaned['Age'].fillna(df_cleaned['Age'].median(), inplace=True)\n",
            "/tmp/ipython-input-4-3254200097.py:14: FutureWarning: A value is trying to be set on a copy of a DataFrame or Series through chained assignment using an inplace method.\n",
            "The behavior will change in pandas 3.0. This inplace method will never work because the intermediate object on which we are setting values always behaves as a copy.\n",
            "\n",
            "For example, when doing 'df[col].method(value, inplace=True)', try using 'df.method({col: value}, inplace=True)' or df[col] = df[col].method(value) instead, to perform the operation inplace on the original object.\n",
            "\n",
            "\n",
            "  df_cleaned['Embarked'].fillna(most_frequent_embarked, inplace=True)\n"
          ]
        }
      ],
      "source": [
        "# Estrategia 1: Eliminar la columna 'Cabin' debido a la gran cantidad de valores faltantes\n",
        "df_cleaned = df.drop('Cabin', axis=1)\n",
        "print('\\nDataset después de eliminar la columna Cabin:')\n",
        "print(df_cleaned.head())\n",
        "\n",
        "# Estrategia 2: Imputar valores faltantes en 'Age' con la mediana (más robusta a outliers que la media)\n",
        "df_cleaned['Age'].fillna(df_cleaned['Age'].median(), inplace=True)\n",
        "print('\\nValores faltantes en Age después de la imputación:')\n",
        "print(df_cleaned['Age'].isnull().sum())\n",
        "\n",
        "# Estrategia 3: Imputar valores faltantes en 'Embarked' con la moda (el puerto de embarque más frecuente)\n",
        "# Primero, encontramos la moda\n",
        "most_frequent_embarked = df_cleaned['Embarked'].mode()[0]\n",
        "df_cleaned['Embarked'].fillna(most_frequent_embarked, inplace=True)\n",
        "print('\\nValores faltantes en Embarked después de la imputación:')\n",
        "print(df_cleaned['Embarked'].isnull().sum())\n",
        "\n",
        "# Verificar que no queden valores faltantes (excepto en columnas que no se hayan tocado)\n",
        "print('\\nValores faltantes finales por columna:')\n",
        "print(df_cleaned.isnull().sum())"
      ]
    },
    {
      "cell_type": "markdown",
      "id": "d46eedd4",
      "metadata": {
        "id": "d46eedd4"
      },
      "source": [
        "## Manejo de Duplicados"
      ]
    },
    {
      "cell_type": "markdown",
      "id": "f99713d9",
      "metadata": {
        "id": "f99713d9"
      },
      "source": [
        "Los registros duplicados pueden sesgar el análisis y los modelos, ya que dan un peso indebido a ciertas observaciones. Es importante identificarlos y eliminarlos si representan entradas redundantes."
      ]
    },
    {
      "cell_type": "code",
      "execution_count": 5,
      "id": "1b910724",
      "metadata": {
        "id": "1b910724",
        "colab": {
          "base_uri": "https://localhost:8080/"
        },
        "outputId": "5786dcd1-1570-44b7-b2df-096ded80e89e"
      },
      "outputs": [
        {
          "output_type": "stream",
          "name": "stdout",
          "text": [
            "\n",
            "Número de filas duplicadas antes de la eliminación: 0\n",
            "Número de filas duplicadas después de la eliminación: 0\n",
            "Forma del dataset después de eliminar duplicados: (891, 11)\n"
          ]
        }
      ],
      "source": [
        "# Identificar filas duplicadas\n",
        "duplicates = df_cleaned.duplicated()\n",
        "print('\\nNúmero de filas duplicadas antes de la eliminación:', duplicates.sum())\n",
        "\n",
        "# Eliminar filas duplicadas\n",
        "df_cleaned.drop_duplicates(inplace=True)\n",
        "print('Número de filas duplicadas después de la eliminación:', df_cleaned.duplicated().sum())\n",
        "print('Forma del dataset después de eliminar duplicados:', df_cleaned.shape)"
      ]
    },
    {
      "cell_type": "markdown",
      "id": "4daf6488",
      "metadata": {
        "id": "4daf6488"
      },
      "source": [
        "## Corrección de Tipos de Datos"
      ]
    },
    {
      "cell_type": "markdown",
      "id": "44cb210f",
      "metadata": {
        "id": "44cb210f"
      },
      "source": [
        "Algunas columnas pueden ser cargadas con un tipo de dato incorrecto (ej. números como strings, o categorías como números). Es fundamental asegurar que cada columna tenga el tipo de dato apropiado para el análisis y modelado."
      ]
    },
    {
      "cell_type": "code",
      "execution_count": 6,
      "id": "0f4727b9",
      "metadata": {
        "id": "0f4727b9",
        "colab": {
          "base_uri": "https://localhost:8080/"
        },
        "outputId": "b5fc67ae-8035-4d44-f61b-e50545ecfc8f"
      },
      "outputs": [
        {
          "output_type": "stream",
          "name": "stdout",
          "text": [
            "\n",
            "Tipos de datos actuales:\n",
            "PassengerId      int64\n",
            "Survived         int64\n",
            "Pclass           int64\n",
            "Name            object\n",
            "Sex             object\n",
            "Age            float64\n",
            "SibSp            int64\n",
            "Parch            int64\n",
            "Ticket          object\n",
            "Fare           float64\n",
            "Embarked        object\n",
            "dtype: object\n"
          ]
        }
      ],
      "source": [
        "# Verificar tipos de datos actuales\n",
        "print('\\nTipos de datos actuales:')\n",
        "print(df_cleaned.dtypes)\n",
        "\n",
        "# Ejemplo: Si 'Survived' fuera un número pero quisiéramos tratarlo como categoría\n",
        "# df_cleaned['Survived'] = df_cleaned['Survived'].astype('category')\n",
        "# print('\\nTipo de dato de Survived después de la conversión:')\n",
        "# print(df_cleaned['Survived'].dtype)\n",
        "\n",
        "# Para este dataset, los tipos de datos son generalmente correctos para las columnas que usaremos en el análisis.\n",
        "# Sin embargo, es una buena práctica revisar y ajustar si es necesario."
      ]
    },
    {
      "cell_type": "markdown",
      "id": "edf4e8ff",
      "metadata": {
        "id": "edf4e8ff"
      },
      "source": [
        "Con estos pasos, hemos realizado una limpieza básica pero efectiva de nuestro dataset, dejándolo en un estado mucho más adecuado para el análisis exploratorio y la construcción de modelos. La calidad de los datos es la base sobre la que se construye cualquier análisis robusto."
      ]
    },
    {
      "cell_type": "markdown",
      "id": "c6fb07e4",
      "metadata": {
        "id": "c6fb07e4"
      },
      "source": [
        "## 5. Análisis de Distribución, Asimetría y Curtosis"
      ]
    },
    {
      "cell_type": "markdown",
      "id": "d798a7db",
      "metadata": {
        "id": "d798a7db"
      },
      "source": [
        "Una vez que nuestros datos están limpios, el siguiente paso es comprender sus características estadísticas, especialmente la forma de sus distribuciones. Esto nos ayudará a identificar patrones, detectar anomalías y tomar decisiones informadas sobre el preprocesamiento adicional o la selección de modelos. En esta sección, aplicaremos los conceptos de distribución, asimetría y curtosis a nuestro dataset del Titanic.\n",
        "\n"
      ]
    },
    {
      "cell_type": "markdown",
      "id": "4922094a",
      "metadata": {
        "id": "4922094a"
      },
      "source": [
        "## Visualización de Distribuciones: Histogramas"
      ]
    },
    {
      "cell_type": "markdown",
      "id": "9cdda8ef",
      "metadata": {
        "id": "9cdda8ef"
      },
      "source": [
        "Los histogramas son una herramienta visual fundamental para entender la distribución de una variable numérica. Nos permiten ver la frecuencia de los valores dentro de diferentes rangos (bins)."
      ]
    },
    {
      "cell_type": "code",
      "execution_count": 7,
      "id": "cedd5b6f",
      "metadata": {
        "id": "cedd5b6f",
        "colab": {
          "base_uri": "https://localhost:8080/",
          "height": 1000
        },
        "outputId": "04bd8563-345f-4f3a-b90f-71bc3aa7ca00"
      },
      "outputs": [
        {
          "output_type": "display_data",
          "data": {
            "text/plain": [
              "<Figure size 1000x600 with 1 Axes>"
            ],
            "image/png": "[encoded data removed]"
          },
          "metadata": {}
        },
        {
          "output_type": "display_data",
          "data": {
            "text/plain": [
              "<Figure size 1000x600 with 1 Axes>"
            ],
            "image/png": "[encoded data removed]"
          },
          "metadata": {}
        }
      ],
      "source": [
        "import matplotlib.pyplot as plt\n",
        "import seaborn as sns\n",
        "\n",
        "# Configuración para mejorar la visualización\n",
        "sns.set_style(\"whitegrid\")\n",
        "\n",
        "# Histograma de la edad de los pasajeros\n",
        "plt.figure(figsize=(10, 6))\n",
        "sns.histplot(df_cleaned[\"Age\"], kde=True, bins=30)\n",
        "plt.title(\"Distribución de la Edad de los Pasajeros\")\n",
        "plt.xlabel(\"Edad\")\n",
        "plt.ylabel(\"Frecuencia\")\n",
        "plt.show()\n",
        "\n",
        "# Histograma de la tarifa pagada (Fare)\n",
        "plt.figure(figsize=(10, 6))\n",
        "sns.histplot(df_cleaned[\"Fare\"], kde=True, bins=50)\n",
        "plt.title(\"Distribución de la Tarifa Pagada (Fare)\")\n",
        "plt.xlabel(\"Tarifa\")\n",
        "plt.ylabel(\"Frecuencia\")\n",
        "plt.show()"
      ]
    },
    {
      "cell_type": "markdown",
      "id": "525c4cfa",
      "metadata": {
        "id": "525c4cfa"
      },
      "source": [
        "**Interpretación:**\n",
        "\n",
        "*   El histograma de la `Edad` muestra una distribución que se asemeja a una campana, aunque con un ligero sesgo a la derecha y algunos picos, lo que sugiere que no es perfectamente normal. La mayoría de los pasajeros se encuentran en el rango de 20 a 40 años.\n",
        "*   El histograma de la `Tarifa` muestra una distribución fuertemente sesgada a la derecha, con la mayoría de los pasajeros pagando tarifas bajas y unos pocos pagando tarifas muy altas. Esto es un claro ejemplo de asimetría positiva.\n",
        "\n",
        "#"
      ]
    },
    {
      "cell_type": "markdown",
      "id": "b4c7e832",
      "metadata": {
        "id": "b4c7e832"
      },
      "source": [
        "## Cálculo de Asimetría (Skewness)"
      ]
    },
    {
      "cell_type": "markdown",
      "id": "64123740",
      "metadata": {
        "id": "64123740"
      },
      "source": [
        "La asimetría cuantifica la simetría de la distribución. Un valor de 0 indica simetría perfecta, valores positivos indican sesgo a la derecha y valores negativos indican sesgo a la izquierda."
      ]
    },
    {
      "cell_type": "code",
      "execution_count": 8,
      "id": "6a4d13e1",
      "metadata": {
        "id": "6a4d13e1",
        "colab": {
          "base_uri": "https://localhost:8080/"
        },
        "outputId": "f2ca0afd-79cd-4990-ebad-a22817e66905"
      },
      "outputs": [
        {
          "output_type": "stream",
          "name": "stdout",
          "text": [
            "\n",
            "Asimetría (Skewness):\n",
            "Age       0.510245\n",
            "Fare      4.787317\n",
            "Pclass   -0.630548\n",
            "SibSp     3.695352\n",
            "Parch     2.749117\n",
            "dtype: float64\n"
          ]
        }
      ],
      "source": [
        "# Calcular la asimetría para las columnas numéricas\n",
        "print(\"\\nAsimetría (Skewness):\")\n",
        "print(df_cleaned[[\"Age\", \"Fare\", \"Pclass\", \"SibSp\", \"Parch\"]].skew())"
      ]
    },
    {
      "cell_type": "markdown",
      "id": "719052f0",
      "metadata": {
        "id": "719052f0"
      },
      "source": [
        "**Interpretación:**\n",
        "\n",
        "*   `Age`: La asimetría es cercana a 0 (ligeramente positiva), lo que confirma nuestra observación visual de una distribución casi simétrica, pero con una cola un poco más larga hacia la derecha.\n",
        "*   `Fare`: La asimetría es un valor positivo alto, lo que indica un fuerte sesgo a la derecha, como ya habíamos notado en el histograma. Esto significa que hay un número significativo de valores bajos y una cola larga de valores altos.\n",
        "*   `Pclass`, `SibSp`, `Parch`: Estas columnas también muestran asimetría positiva, lo cual es esperado ya que son conteos o categorías ordinales donde los valores más bajos son más frecuentes.\n",
        "\n",
        "#"
      ]
    },
    {
      "cell_type": "markdown",
      "id": "f4fe4736",
      "metadata": {
        "id": "f4fe4736"
      },
      "source": [
        "## Cálculo de Curtosis (Kurtosis)"
      ]
    },
    {
      "cell_type": "markdown",
      "id": "b2563a44",
      "metadata": {
        "id": "b2563a44"
      },
      "source": [
        "La curtosis mide la \"puntiagudez\" de la distribución y la pesadez de sus colas en comparación con una distribución normal. Un valor de curtosis de 0 (usando la curtosis de Fisher, que es la predeterminada en pandas) indica una distribución mesocúrtica (similar a la normal)."
      ]
    },
    {
      "cell_type": "code",
      "execution_count": 9,
      "id": "eb47e064",
      "metadata": {
        "id": "eb47e064",
        "colab": {
          "base_uri": "https://localhost:8080/"
        },
        "outputId": "8f04cdf2-851c-415a-b297-234cbb16ec63"
      },
      "outputs": [
        {
          "output_type": "stream",
          "name": "stdout",
          "text": [
            "\n",
            "Curtosis (Kurtosis):\n",
            "Age        0.993871\n",
            "Fare      33.398141\n",
            "Pclass    -1.280015\n",
            "SibSp     17.880420\n",
            "Parch      9.778125\n",
            "dtype: float64\n"
          ]
        }
      ],
      "source": [
        "# Calcular la curtosis para las columnas numéricas\n",
        "print(\"\\nCurtosis (Kurtosis):\")\n",
        "print(df_cleaned[[\"Age\", \"Fare\", \"Pclass\", \"SibSp\", \"Parch\"]].kurtosis())"
      ]
    },
    {
      "cell_type": "markdown",
      "id": "5137f050",
      "metadata": {
        "id": "5137f050"
      },
      "source": [
        "**Interpretación:**\n",
        "\n",
        "*   `Age`: La curtosis es positiva, lo que sugiere una distribución ligeramente leptocúrtica, es decir, con un pico un poco más pronunciado y colas más pesadas que una distribución normal. Esto podría indicar la presencia de algunos valores atípicos o una mayor concentración de datos en el centro y en los extremos.\n",
        "*   `Fare`: La curtosis es un valor positivo muy alto, lo que confirma que la distribución de las tarifas es altamente leptocúrtica. Esto significa que tiene un pico muy pronunciado (muchas tarifas bajas) y colas extremadamente pesadas (algunas tarifas extremadamente altas), lo que es consistente con la presencia de valores atípicos en el extremo superior.\n",
        "*   `Pclass`, `SibSp`, `Parch`: También muestran curtosis positiva, lo que es común en distribuciones no normales con picos y colas más pronunciadas.\n",
        "\n"
      ]
    },
    {
      "cell_type": "markdown",
      "id": "14ba8967",
      "metadata": {
        "id": "14ba8967"
      },
      "source": [
        "## Ejercicio Práctico (Python):"
      ]
    },
    {
      "cell_type": "markdown",
      "id": "9dcac805",
      "metadata": {
        "id": "9dcac805"
      },
      "source": [
        "1.  Selecciona otra columna numérica del dataset (por ejemplo, `SibSp` o `Parch`).\n",
        "2.  Crea un histograma para visualizar su distribución.\n",
        "3.  Calcula su asimetría y curtosis.\n",
        "4.  Interpreta los resultados y compáralos con la `Edad` y la `Tarifa`."
      ]
    },
    {
      "cell_type": "code",
      "execution_count": 10,
      "id": "ae21208b",
      "metadata": {
        "id": "ae21208b"
      },
      "outputs": [],
      "source": [
        "# Tu código aquí para el ejercicio\n",
        "# Ejemplo:\n",
        "# plt.figure(figsize=(10, 6))\n",
        "# sns.histplot(df_cleaned[\"SibSp\"], kde=True, bins=10)\n",
        "# plt.title(\"Distribución de SibSp\")\n",
        "# plt.xlabel(\"Número de hermanos/cónyuges a bordo\")\n",
        "# plt.ylabel(\"Frecuencia\")\n",
        "# plt.show()\n",
        "# print(\"\\nAsimetría de SibSp:\", df_cleaned[\"SibSp\"].skew())\n",
        "# print(\"Curtosis de SibSp:\", df_cleaned[\"SibSp\"].kurtosis())"
      ]
    },
    {
      "cell_type": "markdown",
      "id": "28459f12",
      "metadata": {
        "id": "28459f12"
      },
      "source": [
        "Comprender la asimetría y la curtosis es fundamental para decidir si se necesitan transformaciones de datos (como la transformación logarítmica para datos sesgados) antes de aplicar ciertos modelos de Machine Learning. También nos ayuda a entender mejor la naturaleza de las variables en nuestro dataset."
      ]
    },
    {
      "cell_type": "markdown",
      "id": "6c095a28",
      "metadata": {
        "id": "6c095a28"
      },
      "source": [
        "## 6. Escalado de Datos: Normalización y Estandarización en la Práctica"
      ]
    },
    {
      "cell_type": "markdown",
      "id": "4488df46",
      "metadata": {
        "id": "4488df46"
      },
      "source": [
        "Como se discutió en la introducción, el escalado de datos es un paso crucial para preparar nuestras características numéricas para los algoritmos de Machine Learning. En esta sección, aplicaremos las técnicas de normalización (Min-Max Scaling) y estandarización (Z-score Scaling) a una de las columnas numéricas de nuestro dataset del Titanic y visualizaremos el impacto de estas transformaciones.\n",
        "\n",
        "Utilizaremos la columna `Fare` (tarifa pagada) para este ejemplo, ya que demostró una fuerte asimetría positiva y una alta curtosis, lo que la convierte en una candidata ideal para observar el efecto del escalado.\n",
        "\n"
      ]
    },
    {
      "cell_type": "markdown",
      "id": "f2ad4833",
      "metadata": {
        "id": "f2ad4833"
      },
      "source": [
        "## Normalización (Min-Max Scaling) con Python"
      ]
    },
    {
      "cell_type": "markdown",
      "id": "cb1ccae7",
      "metadata": {
        "id": "cb1ccae7"
      },
      "source": [
        "La normalización Min-Max transforma los datos para que se encuentren en un rango específico, típicamente entre 0 y 1. Esto se logra restando el valor mínimo y dividiendo por el rango (máximo - mínimo)."
      ]
    },
    {
      "cell_type": "code",
      "execution_count": 11,
      "id": "6a944f6a",
      "metadata": {
        "id": "6a944f6a",
        "colab": {
          "base_uri": "https://localhost:8080/",
          "height": 895
        },
        "outputId": "e1752def-17fd-4e1c-c5e9-39ac8115f8da"
      },
      "outputs": [
        {
          "output_type": "stream",
          "name": "stdout",
          "text": [
            "\n",
            "Primeras 5 filas de la columna Fare Normalizada:\n",
            "      Fare  Fare_Normalized\n",
            "0   7.2500         0.014151\n",
            "1  71.2833         0.139136\n",
            "2   7.9250         0.015469\n",
            "3  53.1000         0.103644\n",
            "4   8.0500         0.015713\n",
            "\n",
            "Estadísticas descriptivas de Fare Normalizada:\n",
            "count    891.000000\n",
            "mean       0.062858\n",
            "std        0.096995\n",
            "min        0.000000\n",
            "25%        0.015440\n",
            "50%        0.028213\n",
            "75%        0.060508\n",
            "max        1.000000\n",
            "Name: Fare_Normalized, dtype: float64\n"
          ]
        },
        {
          "output_type": "display_data",
          "data": {
            "text/plain": [
              "<Figure size 1000x600 with 1 Axes>"
            ],
            "image/png": "[encoded data removed]"
          },
          "metadata": {}
        }
      ],
      "source": [
        "from sklearn.preprocessing import MinMaxScaler\n",
        "\n",
        "# Crear una copia del DataFrame para no modificar el original\n",
        "df_scaled = df_cleaned.copy()\n",
        "\n",
        "# Inicializar el MinMaxScaler\n",
        "min_max_scaler = MinMaxScaler()\n",
        "\n",
        "# Aplicar la normalización a la columna 'Fare'\n",
        "# Reshape(-1, 1) es necesario porque el scaler espera una entrada 2D\n",
        "df_scaled[\"Fare_Normalized\"] = min_max_scaler.fit_transform(df_scaled[[\"Fare\"]])\n",
        "\n",
        "print(\"\\nPrimeras 5 filas de la columna Fare Normalizada:\")\n",
        "print(df_scaled[[\"Fare\", \"Fare_Normalized\"]].head())\n",
        "\n",
        "print(\"\\nEstadísticas descriptivas de Fare Normalizada:\")\n",
        "print(df_scaled[\"Fare_Normalized\"].describe())\n",
        "\n",
        "# Visualizar la distribución de la tarifa normalizada\n",
        "plt.figure(figsize=(10, 6))\n",
        "sns.histplot(df_scaled[\"Fare_Normalized\"], kde=True, bins=50)\n",
        "plt.title(\"Distribución de la Tarifa Normalizada (Min-Max Scaling)\")\n",
        "plt.xlabel(\"Tarifa Normalizada\")\n",
        "plt.ylabel(\"Frecuencia\")\n",
        "plt.show()"
      ]
    },
    {
      "cell_type": "markdown",
      "id": "c5175bfb",
      "metadata": {
        "id": "c5175bfb"
      },
      "source": [
        "**Observaciones:**\n",
        "\n",
        "*   Los valores de `Fare_Normalized` ahora se encuentran en el rango de 0 a 1.\n",
        "*   La forma de la distribución (su asimetría y curtosis) no ha cambiado; la normalización solo cambia la escala de los datos, no su forma.\n",
        "\n",
        "#"
      ]
    },
    {
      "cell_type": "markdown",
      "id": "43e17901",
      "metadata": {
        "id": "43e17901"
      },
      "source": [
        "## Estandarización (Z-score Scaling) con Python"
      ]
    },
    {
      "cell_type": "markdown",
      "id": "060859ec",
      "metadata": {
        "id": "060859ec"
      },
      "source": [
        "La estandarización (Z-score Scaling) transforma los datos para que tengan una media de 0 y una desviación estándar de 1. Esto es útil para algoritmos que asumen una distribución normal o son sensibles a la varianza."
      ]
    },
    {
      "cell_type": "code",
      "execution_count": 12,
      "id": "c3bcbc5c",
      "metadata": {
        "id": "c3bcbc5c",
        "colab": {
          "base_uri": "https://localhost:8080/",
          "height": 895
        },
        "outputId": "bc27d508-79de-4672-cef4-6d25a0a8b7b7"
      },
      "outputs": [
        {
          "output_type": "stream",
          "name": "stdout",
          "text": [
            "\n",
            "Primeras 5 filas de la columna Fare Estandarizada:\n",
            "      Fare  Fare_Standardized\n",
            "0   7.2500          -0.502445\n",
            "1  71.2833           0.786845\n",
            "2   7.9250          -0.488854\n",
            "3  53.1000           0.420730\n",
            "4   8.0500          -0.486337\n",
            "\n",
            "Estadísticas descriptivas de Fare Estandarizada:\n",
            "count    8.910000e+02\n",
            "mean     3.987333e-18\n",
            "std      1.000562e+00\n",
            "min     -6.484217e-01\n",
            "25%     -4.891482e-01\n",
            "50%     -3.573909e-01\n",
            "75%     -2.424635e-02\n",
            "max      9.667167e+00\n",
            "Name: Fare_Standardized, dtype: float64\n"
          ]
        },
        {
          "output_type": "display_data",
          "data": {
            "text/plain": [
              "<Figure size 1000x600 with 1 Axes>"
            ],
            "image/png": "[encoded data removed]"
          },
          "metadata": {}
        }
      ],
      "source": [
        "from sklearn.preprocessing import StandardScaler\n",
        "\n",
        "# Crear una copia del DataFrame para no modificar el original\n",
        "df_scaled_std = df_cleaned.copy()\n",
        "\n",
        "# Inicializar el StandardScaler\n",
        "standard_scaler = StandardScaler()\n",
        "\n",
        "# Aplicar la estandarización a la columna 'Fare'\n",
        "df_scaled_std[\"Fare_Standardized\"] = standard_scaler.fit_transform(df_scaled_std[[\"Fare\"]])\n",
        "\n",
        "print(\"\\nPrimeras 5 filas de la columna Fare Estandarizada:\")\n",
        "print(df_scaled_std[[\"Fare\", \"Fare_Standardized\"]].head())\n",
        "\n",
        "print(\"\\nEstadísticas descriptivas de Fare Estandarizada:\")\n",
        "print(df_scaled_std[\"Fare_Standardized\"].describe())\n",
        "\n",
        "# Visualizar la distribución de la tarifa estandarizada\n",
        "plt.figure(figsize=(10, 6))\n",
        "sns.histplot(df_scaled_std[\"Fare_Standardized\"], kde=True, bins=50)\n",
        "plt.title(\"Distribución de la Tarifa Estandarizada (Z-score Scaling)\")\n",
        "plt.xlabel(\"Tarifa Estandarizada\")\n",
        "plt.ylabel(\"Frecuencia\")\n",
        "plt.show()"
      ]
    },
    {
      "cell_type": "markdown",
      "id": "1dbbd3f0",
      "metadata": {
        "id": "1dbbd3f0"
      },
      "source": [
        "**Observaciones:**\n",
        "\n",
        "*   Los valores de `Fare_Standardized` ahora tienen una media cercana a 0 y una desviación estándar cercana a 1.\n",
        "*   Al igual que con la normalización, la forma de la distribución no ha cambiado. La estandarización reescala los datos manteniendo su forma original.\n",
        "\n"
      ]
    },
    {
      "cell_type": "markdown",
      "id": "a7008479",
      "metadata": {
        "id": "a7008479"
      },
      "source": [
        "## Comparación Visual de las Transformaciones"
      ]
    },
    {
      "cell_type": "markdown",
      "id": "82f45046",
      "metadata": {
        "id": "82f45046"
      },
      "source": [
        "Para apreciar mejor el efecto de ambas transformaciones, podemos visualizar las distribuciones originales, normalizadas y estandarizadas en un mismo gráfico o en gráficos adyacentes."
      ]
    },
    {
      "cell_type": "code",
      "execution_count": 13,
      "id": "039e4ac9",
      "metadata": {
        "id": "039e4ac9",
        "colab": {
          "base_uri": "https://localhost:8080/",
          "height": 504
        },
        "outputId": "6ef45041-b0f3-4772-dbd8-ef2d9317c44f"
      },
      "outputs": [
        {
          "output_type": "display_data",
          "data": {
            "text/plain": [
              "<Figure size 1800x600 with 3 Axes>"
            ],
            "image/png": "[encoded data removed]"
          },
          "metadata": {}
        }
      ],
      "source": [
        "plt.figure(figsize=(18, 6))\n",
        "\n",
        "plt.subplot(1, 3, 1)\n",
        "sns.histplot(df_cleaned[\"Fare\"], kde=True, bins=50)\n",
        "plt.title(\"Original Fare Distribution\")\n",
        "plt.xlabel(\"Fare\")\n",
        "plt.ylabel(\"Frequency\")\n",
        "\n",
        "plt.subplot(1, 3, 2)\n",
        "sns.histplot(df_scaled[\"Fare_Normalized\"], kde=True, bins=50)\n",
        "plt.title(\"Normalized Fare Distribution (Min-Max)\")\n",
        "plt.xlabel(\"Normalized Fare\")\n",
        "plt.ylabel(\"Frequency\")\n",
        "\n",
        "plt.subplot(1, 3, 3)\n",
        "sns.histplot(df_scaled_std[\"Fare_Standardized\"], kde=True, bins=50)\n",
        "plt.title(\"Standardized Fare Distribution (Z-score)\")\n",
        "plt.xlabel(\"Standardized Fare\")\n",
        "plt.ylabel(\"Frequency\")\n",
        "\n",
        "plt.tight_layout()\n",
        "plt.show()"
      ]
    },
    {
      "cell_type": "markdown",
      "id": "9b5f8df0",
      "metadata": {
        "id": "9b5f8df0"
      },
      "source": [
        "## Ejercicio Práctico (Python):"
      ]
    },
    {
      "cell_type": "markdown",
      "id": "4ed55047",
      "metadata": {
        "id": "4ed55047"
      },
      "source": [
        "1.  Selecciona la columna `Age` del dataset `df_cleaned`.\n",
        "2.  Aplica tanto la normalización Min-Max como la estandarización Z-score a esta columna.\n",
        "3.  Muestra las primeras filas de las nuevas columnas transformadas.\n",
        "4.  Calcula las estadísticas descriptivas (media, desviación estándar, min, max) para ambas columnas transformadas y verifica que los resultados sean los esperados.\n",
        "5.  Crea histogramas para visualizar la distribución de la `Age` original, normalizada y estandarizada, y compara sus formas y rangos."
      ]
    },
    {
      "cell_type": "code",
      "execution_count": 14,
      "id": "1e2b7ba5",
      "metadata": {
        "id": "1e2b7ba5"
      },
      "outputs": [],
      "source": [
        "# Tu código aquí para el ejercicio\n",
        "# Ejemplo:\n",
        "# df_age_scaled = df_cleaned.copy()\n",
        "# min_max_scaler_age = MinMaxScaler()\n",
        "# df_age_scaled[\"Age_Normalized\"] = min_max_scaler_age.fit_transform(df_age_scaled[[\"Age\"]])\n",
        "# standard_scaler_age = StandardScaler()\n",
        "# df_age_scaled[\"Age_Standardized\"] = standard_scaler_age.fit_transform(df_age_scaled[[\"Age\"]])\n",
        "# print(df_age_scaled[[\"Age\", \"Age_Normalized\", \"Age_Standardized\"]].head())\n",
        "# print(df_age_scaled[[\"Age_Normalized\", \"Age_Standardized\"]].describe())\n",
        "# plt.figure(figsize=(18, 6))\n",
        "# plt.subplot(1, 3, 1)\n",
        "# sns.histplot(df_age_scaled[\"Age\"], kde=True, bins=30)\n",
        "# plt.title(\"Original Age Distribution\")\n",
        "# plt.subplot(1, 3, 2)\n",
        "# sns.histplot(df_age_scaled[\"Age_Normalized\"], kde=True, bins=30)\n",
        "# plt.title(\"Normalized Age Distribution\")\n",
        "# plt.subplot(1, 3, 3)\n",
        "# sns.histplot(df_age_scaled[\"Age_Standardized\"], kde=True, bins=30)\n",
        "# plt.title(\"Standardized Age Distribution\")\n",
        "# plt.tight_layout()\n",
        "# plt.show()"
      ]
    },
    {
      "cell_type": "markdown",
      "id": "fae95f65",
      "metadata": {
        "id": "fae95f65"
      },
      "source": [
        "La elección entre normalización y estandarización dependerá de las características específicas de tu dataset y de los requisitos del algoritmo de Machine Learning que vayas a utilizar. Es fundamental comprender cómo cada técnica afecta tus datos para tomar la decisión más informada."
      ]
    },
    {
      "cell_type": "markdown",
      "id": "5792a98e",
      "metadata": {
        "id": "5792a98e"
      },
      "source": [
        "## 7. Integración de Código en R y Ejercicios Complementarios"
      ]
    },
    {
      "cell_type": "markdown",
      "id": "f258a97e",
      "metadata": {
        "id": "f258a97e"
      },
      "source": [
        "Google Colab es una plataforma versátil que no solo soporta Python, sino también R. Esto nos permite aprovechar las fortalezas de ambos lenguajes en un mismo entorno. En esta sección, replicaremos algunos de los pasos de limpieza de datos, análisis de distribución, asimetría, curtosis, normalización y estandarización utilizando R, para ofrecer una perspectiva diferente y complementar los ejemplos en Python.\n",
        "\n"
      ]
    },
    {
      "cell_type": "markdown",
      "id": "b18d5249",
      "metadata": {
        "id": "b18d5249"
      },
      "source": [
        "## Configuración de R en Google Colab"
      ]
    },
    {
      "cell_type": "markdown",
      "id": "fd888957",
      "metadata": {
        "id": "fd888957"
      },
      "source": [
        "Para usar R en un cuaderno de Colab, simplemente necesitas cambiar el entorno de ejecución. Ve a `Entorno de ejecución > Cambiar tipo de entorno de ejecución` y selecciona `R` en el desplegable `Tipo de entorno de ejecución`. Una vez hecho esto, las celdas de código se ejecutarán como código R.\n",
        "\n",
        "**Nota:** Para este cuaderno, mantendremos el entorno de ejecución en Python y usaremos la extensión `%%R` para ejecutar bloques de código R dentro de celdas de Python. Esto es útil si deseas combinar ambos lenguajes en un solo cuaderno.\n",
        "\n",
        "\n"
      ]
    },
    {
      "cell_type": "markdown",
      "id": "147f7763",
      "metadata": {
        "id": "147f7763"
      },
      "source": [
        "## Carga del Dataset y Exploración Inicial en R"
      ]
    },
    {
      "cell_type": "markdown",
      "id": "a18ff18f",
      "metadata": {
        "id": "a18ff18f"
      },
      "source": [
        "Primero, cargaremos el dataset del Titanic en R y realizaremos una exploración inicial. Necesitaremos instalar y cargar la librería `readr` para leer archivos CSV."
      ]
    },
    {
      "cell_type": "code",
      "execution_count": null,
      "id": "25939344",
      "metadata": {
        "id": "25939344"
      },
      "outputs": [],
      "source": [
        "%%R\n",
        "# Instalar y cargar la librería readr si no está instalada\n",
        "if (!require(readr)) {\n",
        "  install.packages(\"readr\")\n",
        "  library(readr)\n",
        "}\n",
        "\n",
        "# Cargar el dataset del Titanic\n",
        "df_r <- read_csv(\"titanic.csv\")\n",
        "\n",
        "# Mostrar las primeras filas del dataset\n",
        "cat(\"Primeras 5 filas del dataset en R:\\n\")\n",
        "print(head(df_r))\n",
        "\n",
        "# Mostrar la estructura del dataset\n",
        "cat(\"\\nEstructura del dataset en R:\\n\")\n",
        "print(str(df_r))\n",
        "\n",
        "# Mostrar un resumen estadístico\n",
        "cat(\"\\nResumen estadístico del dataset en R:\\n\")\n",
        "print(summary(df_r))"
      ]
    },
    {
      "cell_type": "markdown",
      "id": "93393178",
      "metadata": {
        "id": "93393178"
      },
      "source": [
        "## Manejo de Valores Faltantes en R"
      ]
    },
    {
      "cell_type": "markdown",
      "id": "3cf0e1a2",
      "metadata": {
        "id": "3cf0e1a2"
      },
      "source": [
        "En R, el manejo de valores faltantes (`NA`) es similar al de Python. Identificaremos y trataremos los valores faltantes en las columnas `Age`, `Cabin` y `Embarked`."
      ]
    },
    {
      "cell_type": "code",
      "execution_count": null,
      "id": "c40e1e74",
      "metadata": {
        "id": "c40e1e74"
      },
      "outputs": [],
      "source": [
        "python\n",
        "%%R\n",
        "# Contar valores faltantes por columna\n",
        "cat(\"\\nValores faltantes por columna en R:\\n\")\n",
        "print(colSums(is.na(df_r)))\n",
        "\n",
        "# Estrategia 1: Eliminar la columna 'Cabin'\n",
        "df_r_cleaned <- subset(df_r, select = -c(Cabin))\n",
        "cat(\"\\nDataset después de eliminar la columna Cabin en R:\\n\")\n",
        "print(head(df_r_cleaned))\n",
        "\n",
        "# Estrategia 2: Imputar valores faltantes en 'Age' con la mediana\n",
        "df_r_cleaned$Age[is.na(df_r_cleaned$Age)] <- median(df_r_cleaned$Age, na.rm = TRUE)\n",
        "cat(\"\\nValores faltantes en Age después de la imputación en R:\\n\")\n",
        "print(sum(is.na(df_r_cleaned$Age)))\n",
        "\n",
        "# Estrategia 3: Imputar valores faltantes en 'Embarked' con la moda\n",
        "# La moda en R para factores se puede encontrar con table y which.max\n",
        "mode_embarked <- names(which.max(table(df_r_cleaned$Embarked)))\n",
        "df_r_cleaned$Embarked[is.na(df_r_cleaned$Embarked)] <- mode_embarked\n",
        "cat(\"\\nValores faltantes en Embarked después de la imputación en R:\\n\")\n",
        "print(sum(is.na(df_r_cleaned$Embarked)))\n",
        "\n",
        "# Verificar que no queden valores faltantes\n",
        "cat(\"\\nValores faltantes finales por columna en R:\\n\")\n",
        "print(colSums(is.na(df_r_cleaned)))"
      ]
    },
    {
      "cell_type": "markdown",
      "id": "c4d366f9",
      "metadata": {
        "id": "c4d366f9"
      },
      "source": [
        "## Análisis de Distribución, Asimetría y Curtosis en R"
      ]
    },
    {
      "cell_type": "markdown",
      "id": "53557174",
      "metadata": {
        "id": "53557174"
      },
      "source": [
        "Para calcular la asimetría y la curtosis en R, a menudo se utiliza el paquete `e1071`. Visualizaremos las distribuciones con histogramas."
      ]
    },
    {
      "cell_type": "code",
      "execution_count": null,
      "id": "651c33eb",
      "metadata": {
        "id": "651c33eb"
      },
      "outputs": [],
      "source": [
        "python\n",
        "%%R\n",
        "# Instalar y cargar la librería e1071 si no está instalada\n",
        "if (!require(e1071)) {\n",
        "  install.packages(\"e1071\")\n",
        "  library(e1071)\n",
        "}\n",
        "\n",
        "# Histograma de la Edad\n",
        "hist(df_r_cleaned$Age, main=\"Distribución de la Edad de los Pasajeros (R)\",\n",
        "     xlab=\"Edad\", ylab=\"Frecuencia\", col=\"skyblue\", border=\"black\")\n",
        "\n",
        "# Histograma de la Tarifa\n",
        "hist(df_r_cleaned$Fare, main=\"Distribución de la Tarifa Pagada (R)\",\n",
        "     xlab=\"Tarifa\", ylab=\"Frecuencia\", col=\"lightgreen\", border=\"black\")\n",
        "\n",
        "# Calcular la asimetría\n",
        "cat(\"\\nAsimetría (Skewness) en R:\\n\")\n",
        "print(skewness(df_r_cleaned$Age))\n",
        "print(skewness(df_r_cleaned$Fare))\n",
        "\n",
        "# Calcular la curtosis\n",
        "cat(\"\\nCurtosis (Kurtosis) en R:\\n\")\n",
        "print(kurtosis(df_r_cleaned$Age))\n",
        "print(kurtosis(df_r_cleaned$Fare))"
      ]
    },
    {
      "cell_type": "markdown",
      "id": "6c21b484",
      "metadata": {
        "id": "6c21b484"
      },
      "source": [
        "## Normalización y Estandarización en R"
      ]
    },
    {
      "cell_type": "markdown",
      "id": "ab407ba9",
      "metadata": {
        "id": "ab407ba9"
      },
      "source": [
        "En R, podemos realizar normalización y estandarización utilizando funciones base o paquetes como `caret`."
      ]
    },
    {
      "cell_type": "code",
      "execution_count": null,
      "id": "3108578e",
      "metadata": {
        "id": "3108578e"
      },
      "outputs": [],
      "source": [
        "python\n",
        "%%R\n",
        "# Normalización (Min-Max Scaling) para Fare\n",
        "min_val <- min(df_r_cleaned$Fare)\n",
        "max_val <- max(df_r_cleaned$Fare)\n",
        "df_r_cleaned$Fare_Normalized <- (df_r_cleaned$Fare - min_val) / (max_val - min_val)\n",
        "\n",
        "cat(\"\\nPrimeras 5 filas de la columna Fare Normalizada en R:\\n\")\n",
        "print(head(df_r_cleaned[, c(\"Fare\", \"Fare_Normalized\")]))\n",
        "\n",
        "# Estandarización (Z-score Scaling) para Fare\n",
        "mean_val <- mean(df_r_cleaned$Fare)\n",
        "sd_val <- sd(df_r_cleaned$Fare)\n",
        "df_r_cleaned$Fare_Standardized <- (df_r_cleaned$Fare - mean_val) / sd_val\n",
        "\n",
        "cat(\"\\nPrimeras 5 filas de la columna Fare Estandarizada en R:\\n\")\n",
        "print(head(df_r_cleaned[, c(\"Fare\", \"Fare_Standardized\")]))\n",
        "\n",
        "# Visualizar las distribuciones transformadas en R\n",
        "par(mfrow=c(1, 2)) # Configurar para 1 fila, 2 columnas de gráficos\n",
        "hist(df_r_cleaned$Fare_Normalized, main=\"Tarifa Normalizada (R)\", xlab=\"\", col=\"lightblue\", border=\"black\")\n",
        "hist(df_r_cleaned$Fare_Standardized, main=\"Tarifa Estandarizada (R)\", xlab=\"\", col=\"lightcoral\", border=\"black\")"
      ]
    },
    {
      "cell_type": "markdown",
      "id": "faef7840",
      "metadata": {
        "id": "faef7840"
      },
      "source": [
        "## Ejercicio Práctico (R):"
      ]
    },
    {
      "cell_type": "markdown",
      "id": "d31a4559",
      "metadata": {
        "id": "d31a4559"
      },
      "source": [
        "1.  Selecciona la columna `Age` del dataset `df_r_cleaned`.\n",
        "2.  Aplica tanto la normalización Min-Max como la estandarización Z-score a esta columna en R.\n",
        "3.  Muestra las primeras filas de las nuevas columnas transformadas.\n",
        "4.  Calcula las estadísticas descriptivas (media, desviación estándar, min, max) para ambas columnas transformadas y verifica que los resultados sean los esperados.\n",
        "5.  Crea histogramas para visualizar la distribución de la `Age` original, normalizada y estandarizada en R, y compara sus formas y rangos."
      ]
    },
    {
      "cell_type": "code",
      "execution_count": null,
      "id": "b9244511",
      "metadata": {
        "id": "b9244511"
      },
      "outputs": [],
      "source": [
        "python\n",
        "%%R\n",
        "# Tu código aquí para el ejercicio en R\n",
        "# Ejemplo:\n",
        "# min_val_age <- min(df_r_cleaned$Age)\n",
        "# max_val_age <- max(df_r_cleaned$Age)\n",
        "# df_r_cleaned$Age_Normalized <- (df_r_cleaned$Age - min_val_age) / (max_val_age - min_val_age)\n",
        "#\n",
        "# mean_val_age <- mean(df_r_cleaned$Age)\n",
        "# sd_val_age <- sd(df_r_cleaned$Age)\n",
        "# df_r_cleaned$Age_Standardized <- (df_r_cleaned$Age - mean_val_age) / sd_val_age\n",
        "#\n",
        "# cat(\"\\nPrimeras 5 filas de la columna Age Normalizada y Estandarizada en R:\\n\")\n",
        "# print(head(df_r_cleaned[, c(\"Age\", \"Age_Normalized\", \"Age_Standardized\")]))\n",
        "#\n",
        "# par(mfrow=c(1, 2))\n",
        "# hist(df_r_cleaned$Age_Normalized, main=\"Edad Normalizada (R)\", xlab=\"\", col=\"lightblue\", border=\"black\")\n",
        "# hist(df_r_cleaned$Age_Standardized, main=\"Edad Estandarizada (R)\", xlab=\"\", col=\"lightcoral\", border=\"black\")"
      ]
    },
    {
      "cell_type": "markdown",
      "id": "d79a288a",
      "metadata": {
        "id": "d79a288a"
      },
      "source": [
        "Esta sección demuestra cómo las mismas tareas de preprocesamiento y análisis pueden realizarse en R, proporcionando flexibilidad y opciones para los científicos de datos que trabajan con ambos lenguajes. La elección entre Python y R a menudo se reduce a la preferencia personal, la disponibilidad de librerías específicas o los requisitos del proyecto."
      ]
    }
  ],
  "metadata": {
    "colab": {
      "provenance": []
    },
    "language_info": {
      "name": "python"
    },
    "kernelspec": {
      "name": "python3",
      "display_name": "Python 3"
    }
  },
  "nbformat": 4,
  "nbformat_minor": 5
}