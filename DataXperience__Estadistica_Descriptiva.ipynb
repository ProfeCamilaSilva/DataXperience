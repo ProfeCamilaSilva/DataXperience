{
  "cells": [
    {
      "cell_type": "markdown",
      "id": "e8d57cbd",
      "metadata": {
        "id": "e8d57cbd"
      },
      "source": [
        "# Estadística Descriptiva y Preprocesamiento\n",
        "\n",
        "## Sin Calidad No Hay Ciencia de Datos: ¿Qué Tan Confiables Son tus Datos?\n",
        "\n",
        "La calidad de los datos se refiere al grado en que los datos son adecuados y confiables para cumplir con su propósito específico. Contar con datos de alta calidad es fundamental para tomar decisiones informadas y basadas en evidencia, lo que se traduce en resultados más precisos, análisis sólidos y conclusiones confiables.\n",
        "\n",
        "Por el contrario, si los datos son inconsistentes, incompletos o erróneos, cualquier análisis o modelo construido a partir de ellos se verá comprometido, afectando negativamente su validez y utilidad.\n"
      ]
    },
    {
      "cell_type": "markdown",
      "id": "4521c690",
      "metadata": {
        "id": "4521c690"
      },
      "source": [
        "### Impacto en la toma de decisiones\n",
        "\n",
        "La calidad de los datos impacta directamente la fiabilidad de los análisis y la efectividad en la toma de decisiones empresariales. Datos erróneos, incompletos o inconsistentes pueden llevar a estrategias equivocadas, predicciones inexactas, ineficiencias operativas e incluso pérdidas económicas o daño reputacional. Por ello, contar con datos precisos y coherentes es fundamental, ya que constituyen la base sobre la cual se construyen la inteligencia de negocios, la analítica avanzada y el éxito en la ciencia de datos.\n",
        "\n",
        "_**¡Sin datos de calidad, no hay decisiones de calidad!** Por eso, la calidad de los datos es el fundamento de la inteligencia de negocios y del éxito en la ciencia de datos._\n"
      ]
    },
    {
      "cell_type": "markdown",
      "id": "66d03abb",
      "metadata": {
        "id": "66d03abb"
      },
      "source": [
        "### Dimensiones de la calidad de los datos\n",
        "\n",
        "Para evaluar si los datos son realmente útiles y confiables, se analizan diferentes dimensiones de calidad. A continuación, te presentamos las más importantes con ejemplos sencillos:\n",
        "\n",
        "*   **Precisión**: ¿Los datos son correctos y exactos?\n",
        "    _Ejemplo: La edad de un cliente está registrada como 150 años, o un precio de producto es negativo._\n",
        "*   **Consistencia**: ¿Los datos son coherentes en todas las fuentes y a lo largo del tiempo?\n",
        "    _Ejemplo: El nombre de un cliente aparece como \"Juan Pérez\" en una tabla y \"Perez, Juan\" en otra, o la facturación de un mes no cuadra con los registros de ventas individuales._\n",
        "*   **Integridad**: ¿Las relaciones entre tablas y registros están completas y respetan las reglas de negocio?\n",
        "    _Ejemplo: Un pedido hace referencia a un cliente que no existe en la tabla de clientes o faltan órdenes vinculadas a facturas._\n",
        "*   **Completitud**: ¿Están todos los datos que necesito presentes?\n",
        "    _Ejemplo: Una base de datos de clientes donde faltan los números de teléfono o direcciones de correo electrónico de una gran parte de los registros no es completa._\n",
        "*   **Validez**: ¿Los datos cumplen con las reglas y formatos preestablecidos?\n",
        "    _Ejemplo: Un campo de fecha contiene texto en lugar de un formato de fecha válido (YYYY-MM-DD), o un código postal no sigue el formato esperado para una región._\n",
        "*   **Existencia**: ¿Los datos están disponibles y accesibles cuando se necesitan?\n",
        "    _Ejemplo: Los registros históricos están archivados en un sistema inaccesible o una tabla crítica está caída en el proceso de consulta._\n",
        "\n",
        "Estas seis dimensiones (precisión, consistencia, integridad, completitud, validez y existencia) conforman el marco esencial para evaluar y garantizar que tus datos sean fiables, útiles y estén siempre listos para el análisis.\n",
        "\n",
        "_**La limpieza de datos es crucial:** Invertir tiempo en la limpieza y validación de datos al inicio de un proyecto de ciencia de datos es fundamental. Un análisis basado en datos de baja calidad puede ser peor que no hacer análisis alguno, ya que puede conducir a decisiones erróneas._\n"
      ]
    },
    {
      "cell_type": "markdown",
      "id": "990ad733",
      "metadata": {
        "id": "990ad733"
      },
      "source": [
        "## Del Caos al Significado: Comprende tus Datos con Estadística Central\n",
        "\n",
        "La estadística básica es clave en la ciencia de datos porque permite entender y resumir grandes volúmenes de información de forma sencilla. Las medidas de tendencia central —media, mediana y moda— ayudan a identificar valores representativos dentro de un conjunto de datos, lo cual es fundamental para detectar patrones, comparar grupos y tomar decisiones informadas. Antes de aplicar modelos complejos, es esencial dominar estos conceptos para garantizar un análisis claro, confiable y útil.\n"
      ]
    },
    {
      "cell_type": "markdown",
      "id": "a989ffaa",
      "metadata": {
        "id": "a989ffaa"
      },
      "source": [
        "### Medidas de Tendencia Central: Media, Mediana y Moda\n",
        "\n",
        "Las medidas de tendencia central son valores que intentan ubicar el centro de un conjunto de datos, proporcionando una idea de cómo se comportan la mayoría de las observaciones. Son esenciales para resumir grandes volúmenes de información en un solo número representativo.\n",
        "\n",
        "*   **Media (Promedio)**: La suma de todos los valores dividida por el número total de valores. Es sensible a los valores atípicos.\n",
        "*   **Mediana**: El valor central en un conjunto de datos ordenado. Es menos sensible a los valores atípicos que la media.\n",
        "*   **Moda**: El valor que aparece con mayor frecuencia en un conjunto de datos. Puede haber una, varias o ninguna moda.\n"
      ]
    },
    {
      "cell_type": "code",
      "execution_count": 2,
      "id": "b99785ed",
      "metadata": {
        "id": "b99785ed",
        "colab": {
          "base_uri": "https://localhost:8080/"
        },
        "outputId": "399dcf59-02c7-45fa-e44a-010b3cd25803"
      },
      "outputs": [
        {
          "output_type": "stream",
          "name": "stdout",
          "text": [
            "Datos: [10, 12, 12, 15, 16, 18, 20, 22, 22, 22, 25]\n",
            "Media: 17.64\n",
            "Mediana: 18.0\n",
            "Moda: [22]\n"
          ]
        }
      ],
      "source": [
        "# Ejemplo y Ejercicio: Medidas de Tendencia Central\n",
        "import numpy as np\n",
        "datos = [10, 12, 12, 15, 16, 18, 20, 22, 22, 22, 25]\n",
        "\n",
        "# Media\n",
        "media = np.mean(datos)\n",
        "print(f\"Datos: {datos}\")\n",
        "print(f\"Media: {media:.2f}\")\n",
        "\n",
        "# Mediana\n",
        "mediana = np.median(datos)\n",
        "print(f\"Mediana: {mediana}\")\n",
        "\n",
        "# Moda (usando scipy.stats.mode si hay múltiples modas o para mayor robustez)\n",
        "from collections import Counter\n",
        "conteo = Counter(datos)\n",
        "moda = [k for k, v in conteo.items() if v == max(conteo.values())]\n",
        "print(f\"Moda: {moda}\")\n",
        "\n",
        "# Ejercicio: Calcula la media, mediana y moda para el siguiente conjunto de datos:\n",
        "datos_ejercicio = [5, 7, 7, 8, 9, 10, 10, 10, 11, 12]\n",
        "# Tu código aquí\n",
        "# media_ej = ...\n",
        "# mediana_ej = ...\n",
        "# moda_ej = ...\n",
        "# print(f\"Media Ejercicio: {media_ej}\")\n",
        "# print(f\"Mediana Ejercicio: {mediana_ej}\")\n",
        "# print(f\"Moda Ejercicio: {moda_ej}\")\n"
      ]
    },
    {
      "cell_type": "markdown",
      "id": "c544ae02",
      "metadata": {
        "id": "c544ae02"
      },
      "source": [
        "### Medidas de Posición: Cuartiles, Deciles y Percentiles\n",
        "\n",
        "Además de las medidas de tendencia central, las medidas de posición nos ayudan a entender la distribución de los datos, dividiéndolos en partes iguales para analizar cómo se dispersan los valores y dónde se encuentra un dato específico en relación con el resto.\n",
        "\n",
        "*   **Cuartiles**: Dividen el conjunto de datos ordenado en cuatro partes iguales (Q1, Q2, Q3).\n",
        "*   **Deciles**: Dividen el conjunto de datos ordenado en diez partes iguales.\n",
        "*   **Percentiles**: Dividen el conjunto de datos ordenado en cien partes iguales. Un percentil 'P' indica que el P% de los datos están por debajo de ese valor.\n"
      ]
    },
    {
      "cell_type": "code",
      "execution_count": 3,
      "id": "61dc2fa6",
      "metadata": {
        "id": "61dc2fa6",
        "colab": {
          "base_uri": "https://localhost:8080/"
        },
        "outputId": "690ece8b-9b03-4339-fb79-d1e3681017f7"
      },
      "outputs": [
        {
          "output_type": "stream",
          "name": "stdout",
          "text": [
            "Datos: [1, 2, 3, 4, 5, 6, 7, 8, 9, 10, 11, 12, 13, 14, 15, 16, 17, 18, 19, 20]\n",
            "Q1 (25%): 5.75\n",
            "Q2 (50% - Mediana): 10.5\n",
            "Q3 (75%): 15.25\n",
            "Decil 3 (30%): 6.7\n",
            "Percentil 90 (90%): 18.1\n"
          ]
        }
      ],
      "source": [
        "# Ejemplo y Ejercicio: Medidas de Posición\n",
        "datos_posicion = [1, 2, 3, 4, 5, 6, 7, 8, 9, 10, 11, 12, 13, 14, 15, 16, 17, 18, 19, 20]\n",
        "\n",
        "# Cuartiles\n",
        "q1 = np.percentile(datos_posicion, 25)\n",
        "q2 = np.percentile(datos_posicion, 50) # Mediana\n",
        "q3 = np.percentile(datos_posicion, 75)\n",
        "print(f\"Datos: {datos_posicion}\")\n",
        "print(f\"Q1 (25%): {q1}\")\n",
        "print(f\"Q2 (50% - Mediana): {q2}\")\n",
        "print(f\"Q3 (75%): {q3}\")\n",
        "\n",
        "# Deciles (ej. Decil 3 - 30%)\n",
        "d3 = np.percentile(datos_posicion, 30)\n",
        "print(f\"Decil 3 (30%): {d3}\")\n",
        "\n",
        "# Percentiles (ej. Percentil 90 - 90%)\n",
        "p90 = np.percentile(datos_posicion, 90)\n",
        "print(f\"Percentil 90 (90%): {p90}\")\n",
        "\n",
        "# Ejercicio: Para el mismo conjunto de datos, calcula el Decil 7 y el Percentil 45.\n",
        "# Tu código aquí\n",
        "# d7 = ...\n",
        "# p45 = ...\n",
        "# print(f\"Decil 7 Ejercicio: {d7}\")\n",
        "# print(f\"Percentil 45 Ejercicio: {p45}\")\n"
      ]
    },
    {
      "cell_type": "markdown",
      "id": "5b23a2a7",
      "metadata": {
        "id": "5b23a2a7"
      },
      "source": [
        "_**La importancia de elegir la medida correcta:** Cada medida de tendencia central y posición tiene sus fortalezas y debilidades. Elegir la medida adecuada depende del tipo de datos y del objetivo del análisis. Por ejemplo, la mediana es preferible a la media en presencia de valores atípicos que puedan distorsionar el promedio._\n"
      ]
    },
    {
      "cell_type": "markdown",
      "id": "f0990134",
      "metadata": {
        "id": "f0990134"
      },
      "source": [
        "## Varianza y Desviación: Revelando el Comportamiento Oculto de los Datos\n",
        "\n",
        "Si las medidas de tendencia central nos dicen dónde está el \"centro\" de nuestros datos, las medidas de dispersión nos revelan cuán \"estirados\" o \"agrupados\" están. Es decir, nos permiten entender qué tan homogéneos o heterogéneos son los valores. Imagina dos equipos de baloncesto con la misma altura promedio; las medidas de dispersión nos dirían si uno tiene jugadores de alturas muy similares y el otro tiene una mezcla de muy altos y muy bajos.\n"
      ]
    },
    {
      "cell_type": "markdown",
      "id": "d4f8a717",
      "metadata": {
        "id": "d4f8a717"
      },
      "source": [
        "### Rango, Varianza y Desviación Estándar\n",
        "\n",
        "Estas son las herramientas más comunes para cuantificar la dispersión de nuestros datos:\n",
        "\n",
        "*   **Rango**: Es la medida más simple. Se calcula restando el valor mínimo al valor máximo de un conjunto de datos. Nos da una idea rápida de la amplitud total.\n",
        "    _Ejemplo: Si las edades de un grupo van de 20 a 45 años, el rango es 25 años._\n",
        "*   **Rango Intercuartílico (IQR)**: Representa el 50% central de los datos, es la diferencia entre el primer cuartil (Q1) y el tercer cuartil (Q3).\n",
        "*   **Varianza**: Mide la dispersión promedio de cada punto de dato respecto a la media. Cuantifica qué tan lejos están los valores de la media, elevando al cuadrado las diferencias para evitar que se cancelen entre sí y para penalizar más las desviaciones grandes.\n",
        "    _Ejemplo: Una alta varianza en los salarios indica que hay una gran diferencia entre los salarios más bajos y los más altos._\n",
        "*   **Desviación Estándar**: Es la raíz cuadrada de la varianza. Se expresa en las mismas unidades que los datos originales, lo que la hace más interpretable que la varianza. Nos dice, en promedio, cuánto se desvían los datos de la media.\n",
        "    _Ejemplo: Una desviación estándar baja en un proceso de fabricación indica que los productos son muy consistentes en su tamaño._\n"
      ]
    },
    {
      "cell_type": "code",
      "execution_count": 4,
      "id": "cfcdcc18",
      "metadata": {
        "id": "cfcdcc18",
        "colab": {
          "base_uri": "https://localhost:8080/"
        },
        "outputId": "32718e15-2f9f-49d8-dfe9-cc032c40b9f4"
      },
      "outputs": [
        {
          "output_type": "stream",
          "name": "stdout",
          "text": [
            "Datos: [10, 12, 15, 18, 20, 22, 25, 28, 30]\n",
            "Rango: 20\n",
            "Varianza: 42.89\n",
            "Desviación Estándar: 6.55\n"
          ]
        }
      ],
      "source": [
        "# Ejemplo y Ejercicio: Medidas de Dispersión\n",
        "datos_dispersion = [10, 12, 15, 18, 20, 22, 25, 28, 30]\n",
        "\n",
        "# Rango\n",
        "rango = np.max(datos_dispersion) - np.min(datos_dispersion)\n",
        "print(f\"Datos: {datos_dispersion}\")\n",
        "print(f\"Rango: {rango}\")\n",
        "\n",
        "# Varianza\n",
        "varianza = np.var(datos_dispersion)\n",
        "print(f\"Varianza: {varianza:.2f}\")\n",
        "\n",
        "# Desviación Estándar\n",
        "desviacion_estandar = np.std(datos_dispersion)\n",
        "print(f\"Desviación Estándar: {desviacion_estandar:.2f}\")\n",
        "\n",
        "# Ejercicio: Calcula el rango, varianza y desviación estándar para el siguiente conjunto de datos:\n",
        "datos_ejercicio_dispersion = [2, 4, 4, 4, 5, 5, 7, 9]\n",
        "# Tu código aquí\n",
        "# rango_ej = ...\n",
        "# varianza_ej = ...\n",
        "# desviacion_estandar_ej = ...\n",
        "# print(f\"Rango Ejercicio: {rango_ej}\")\n",
        "# print(f\"Varianza Ejercicio: {varianza_ej}\")\n",
        "# print(f\"Desviación Estándar Ejercicio: {desviacion_estandar_ej}\")\n"
      ]
    },
    {
      "cell_type": "markdown",
      "id": "01427712",
      "metadata": {
        "id": "01427712"
      },
      "source": [
        "### Coeficiente de Variación (CV)\n",
        "\n",
        "El Coeficiente de Variación es una medida de dispersión relativa que expresa la desviación estándar como un porcentaje de la media. Es especialmente útil cuando necesitamos comparar la variabilidad de dos o más conjuntos de datos que tienen unidades de medida diferentes o medias muy distintas.\n",
        "\n",
        "_**¿Cuándo usarlo?** Imagina que comparas la variabilidad de los salarios de ingenieros (en USD) y la variabilidad de los pesos de manzanas (en gramos). Sus desviaciones estándar no serían directamente comparables. El CV te permite ver cuál tiene una mayor \"dispersión relativa\" respecto a su propio promedio._\n"
      ]
    },
    {
      "cell_type": "code",
      "execution_count": 5,
      "id": "6059dbc5",
      "metadata": {
        "id": "6059dbc5",
        "colab": {
          "base_uri": "https://localhost:8080/"
        },
        "outputId": "44dd0414-f02b-42a1-9b0d-b759676e5b49"
      },
      "outputs": [
        {
          "output_type": "stream",
          "name": "stdout",
          "text": [
            "Salarios: [50000 55000 60000 62000 65000]\n",
            "CV Salarios: 9.10%\n",
            "Pesos Manzanas: [150 155 148 152 160]\n",
            "CV Pesos Manzanas: 2.74%\n"
          ]
        }
      ],
      "source": [
        "# Ejemplo y Ejercicio: Coeficiente de Variación\n",
        "# Datos de Salarios (en USD)\n",
        "salarios = np.array([50000, 55000, 60000, 62000, 65000])\n",
        "media_salarios = np.mean(salarios)\n",
        "std_salarios = np.std(salarios)\n",
        "cv_salarios = (std_salarios / media_salarios) * 100\n",
        "print(f\"Salarios: {salarios}\")\n",
        "print(f\"CV Salarios: {cv_salarios:.2f}%\")\n",
        "\n",
        "# Datos de Pesos de Manzanas (en gramos)\n",
        "pesos_manzanas = np.array([150, 155, 148, 152, 160])\n",
        "media_pesos = np.mean(pesos_manzanas)\n",
        "std_pesos = np.std(pesos_manzanas)\n",
        "cv_pesos = (std_pesos / media_pesos) * 100\n",
        "print(f\"Pesos Manzanas: {pesos_manzanas}\")\n",
        "print(f\"CV Pesos Manzanas: {cv_pesos:.2f}%\")\n",
        "\n",
        "# Ejercicio: Calcula el CV para el siguiente conjunto de datos de temperaturas (en Celsius):\n",
        "temperaturas = np.array([20, 21, 20, 22, 23, 21])\n",
        "# Tu código aquí\n",
        "# media_temp = ...\n",
        "# std_temp = ...\n",
        "# cv_temp = ...\n",
        "# print(f\"CV Temperaturas: {cv_temp}\")\n"
      ]
    },
    {
      "cell_type": "markdown",
      "id": "93bdc20f",
      "metadata": {
        "id": "93bdc20f"
      },
      "source": [
        "_**La dispersión complementa la tendencia:** Conocer solo la media o la mediana de un conjunto de datos es como ver solo la punta del iceberg. Para una comprensión completa, siempre debemos complementar las medidas de tendencia central con las medidas de dispersión. Estas nos brindan el contexto necesario para tomar decisiones más informadas y evitar sorpresas._\n"
      ]
    },
    {
      "cell_type": "markdown",
      "id": "19d1825f",
      "metadata": {
        "id": "19d1825f"
      },
      "source": [
        "## ¡Consolida tus habilidades!\n",
        "\n",
        "La práctica constante con las herramientas y los conceptos de este módulo te permitirá construir una base sólida para el análisis de datos. Realiza los ejercicios y explora para afianzar tus conocimientos.\n",
        "\n",
        "¡Esperamos que este cuaderno te sea de gran utilidad!\n"
      ]
    }
  ],
  "metadata": {
    "kernelspec": {
      "display_name": "Python 3",
      "language": "python",
      "name": "python3"
    },
    "language_info": {
      "codemirror_mode": {
        "name": "ipython",
        "version": 3
      },
      "file_extension": ".py",
      "mimetype": "text/x-python",
      "name": "python",
      "nbconvert_exporter": "python",
      "pygments_lexer": "ipython3",
      "version": "3.10.12"
    },
    "colab": {
      "provenance": []
    }
  },
  "nbformat": 4,
  "nbformat_minor": 5
}