{
  "cells": [
    {
      "cell_type": "markdown",
      "id": "75caf5a3",
      "metadata": {
        "id": "75caf5a3"
      },
      "source": [
        "# Calidad de Datos y Estadística Descriptiva: Del Caos al Significado\n",
        "\n",
        "Este cuaderno te guiará a través de los conceptos fundamentales de la calidad de los datos y la estadística descriptiva, herramientas esenciales para cualquier científico de datos. Aprenderás a identificar problemas en tus datos, a resumirlos y a prepararlos para análisis más avanzados, con ejemplos y ejercicios prácticos en Python y R.\n"
      ]
    },
    {
      "cell_type": "markdown",
      "id": "963ba16f",
      "metadata": {
        "id": "963ba16f"
      },
      "source": [
        "## 1. Sin Calidad No Hay Ciencia de Datos: ¿Qué Tan Confiables Son tus Datos?\n",
        "\n",
        "La calidad de los datos se refiere al grado en que los datos son adecuados y confiables para cumplir con su propósito específico. Contar con datos de alta calidad es fundamental para tomar decisiones informadas y basadas en evidencia, lo que se traduce en resultados más precisos, análisis sólidos y conclusiones confiables.\n",
        "\n",
        "Por el contrario, si los datos son inconsistentes, incompletos o erróneos, cualquier análisis o modelo construido a partir de ellos se verá comprometido, afectando negativamente su validez y utilidad.\n"
      ]
    },
    {
      "cell_type": "markdown",
      "id": "d7d10cdb",
      "metadata": {
        "id": "d7d10cdb"
      },
      "source": [
        "### 1.1. Impacto en la toma de decisiones\n",
        "\n",
        "La calidad de los datos impacta directamente la fiabilidad de los análisis y la efectividad en la toma de decisiones empresariales. Datos erróneos, incompletos o inconsistentes pueden llevar a estrategias equivocadas, predicciones inexactas, ineficiencias operativas e incluso pérdidas económicas o daño reputacional. Por ello, contar con datos precisos y coherentes es fundamental, ya que constituyen la base sobre la cual se construyen la inteligencia de negocios, la analítica avanzada y el éxito en la ciencia de datos.\n",
        "\n",
        "_**¡Sin datos de calidad, no hay decisiones de calidad!** Por eso, la calidad de los datos es el fundamento de la inteligencia de negocios y del éxito en la ciencia de datos._\n"
      ]
    },
    {
      "cell_type": "markdown",
      "id": "1aed4fca",
      "metadata": {
        "id": "1aed4fca"
      },
      "source": [
        "### 1.2. Dimensiones de la calidad de los datos\n",
        "\n",
        "Para evaluar si los datos son realmente útiles y confiables, se analizan diferentes dimensiones de calidad. A continuación, te presentamos las más importantes con ejemplos sencillos:\n",
        "\n",
        "*   **Precisión**: ¿Los datos son correctos y exactos?\n",
        "    _Ejemplo: La edad de un cliente está registrada como 150 años, o un precio de producto es negativo._\n",
        "*   **Consistencia**: ¿Los datos son coherentes en todas las fuentes y a lo largo del tiempo?\n",
        "    _Ejemplo: El nombre de un cliente aparece como \"Juan Pérez\" en una tabla y \"Perez, Juan\" en otra, o la facturación de un mes no cuadra con los registros de ventas individuales._\n",
        "*   **Integridad**: ¿Las relaciones entre tablas y registros están completas y respetan las reglas de negocio?\n",
        "    _Ejemplo: Un pedido hace referencia a un cliente que no existe en la tabla de clientes o faltan órdenes vinculadas a facturas._\n",
        "*   **Completitud**: ¿Están todos los datos que necesito presentes?\n",
        "    _Ejemplo: Una base de datos de clientes donde faltan los números de teléfono o direcciones de correo electrónico de una gran parte de los registros no es completa._\n",
        "*   **Validez**: ¿Los datos cumplen con las reglas y formatos preestablecidos?\n",
        "    _Ejemplo: Un campo de fecha contiene texto en lugar de un formato de fecha válido (YYYY-MM-DD), o un código postal no sigue el formato esperado para una región._\n",
        "*   **Existencia**: ¿Los datos están disponibles y accesibles cuando se necesitan?\n",
        "    _Ejemplo: Los registros históricos están archivados en un sistema inaccesible o una tabla crítica está caída en el proceso de consulta._\n",
        "\n",
        "Estas seis dimensiones (precisión, consistencia, integridad, completitud, validez y existencia) conforman el marco esencial para evaluar y garantizar que tus datos sean fiables, útiles y estén siempre listos para el análisis.\n",
        "\n",
        "_**La limpieza de datos es crucial:** Invertir tiempo en la limpieza y validación de datos al inicio de un proyecto de ciencia de datos es fundamental. Un análisis basado en datos de baja calidad puede ser peor que no hacer análisis alguno, ya que puede conducir a decisiones erróneas._\n"
      ]
    },
    {
      "cell_type": "markdown",
      "id": "2abab3a8",
      "metadata": {
        "id": "2abab3a8"
      },
      "source": [
        "### 1.3. Demostración Práctica: Limpieza de Datos con Python\n",
        "\n",
        "Para esta demostración, utilizaremos un conjunto de datos público que simula datos de clientes con algunos problemas de calidad. El objetivo es aplicar técnicas de limpieza para mejorar su fiabilidad.\n",
        "\n",
        "**Dataset:** Datos de Clientes (simulado para fines educativos)\n",
        "_Fuente: Generado para este ejemplo, pero representa problemas comunes en datos reales._\n"
      ]
    },
    {
      "cell_type": "code",
      "execution_count": 3,
      "id": "86beb542",
      "metadata": {
        "colab": {
          "base_uri": "https://localhost:8080/"
        },
        "id": "86beb542",
        "outputId": "bf0405bc-ae97-4fac-8fa8-dbf4aee798f5"
      },
      "outputs": [
        {
          "output_type": "stream",
          "name": "stdout",
          "text": [
            "DataFrame Original:\n",
            "   ID_Cliente  Nombre  Edad             Email     Ciudad  Ingresos_Anuales  \\\n",
            "0           1     Ana    28     ana@email.com     Madrid             50000   \n",
            "1           2    Luis    34    luis@email.com  Barcelona             60000   \n",
            "2           3   Marta   150               NaN     madrid             75000   \n",
            "3           4   Pedro    42   pedro@email.com   Valencia             -1000   \n",
            "4           5   Laura    29   laura@email.com    Sevilla             55000   \n",
            "5           6  Carlos    35  carlos@email.com  Barcelona             62000   \n",
            "6           7   Sofía    22   sofia@email.com     Madrid             48000   \n",
            "7           8    Juan    30    juan@email.com   Valencia             70000   \n",
            "8           9   Elena    27   elena@email.com    Sevilla             53000   \n",
            "9          10   David    40   david@email.com  Barcelona             68000   \n",
            "\n",
            "  Fecha_Registro  \n",
            "0     2023-01-15  \n",
            "1     2023-02-20  \n",
            "2     2023-01-10  \n",
            "3     2023-03-01  \n",
            "4     2023-02-25  \n",
            "5     2023-01-30  \n",
            "6     2023-03-10  \n",
            "7     2023-02-18  \n",
            "8     2023-01-22  \n",
            "9     2023-03-05  \n",
            "Información del DataFrame:\n",
            "<class 'pandas.core.frame.DataFrame'>\n",
            "RangeIndex: 10 entries, 0 to 9\n",
            "Data columns (total 7 columns):\n",
            " #   Column            Non-Null Count  Dtype \n",
            "---  ------            --------------  ----- \n",
            " 0   ID_Cliente        10 non-null     int64 \n",
            " 1   Nombre            10 non-null     object\n",
            " 2   Edad              10 non-null     int64 \n",
            " 3   Email             9 non-null      object\n",
            " 4   Ciudad            10 non-null     object\n",
            " 5   Ingresos_Anuales  10 non-null     int64 \n",
            " 6   Fecha_Registro    10 non-null     object\n",
            "dtypes: int64(3), object(4)\n",
            "memory usage: 692.0+ bytes\n",
            "Valores nulos por columna:\n",
            "ID_Cliente          0\n",
            "Nombre              0\n",
            "Edad                0\n",
            "Email               1\n",
            "Ciudad              0\n",
            "Ingresos_Anuales    0\n",
            "Fecha_Registro      0\n",
            "dtype: int64\n"
          ]
        }
      ],
      "source": [
        "# Importar librerías necesarias\n",
        "import pandas as pd\n",
        "import numpy as np\n",
        "\n",
        "# Crear un DataFrame de ejemplo con problemas de calidad\n",
        "data = {\n",
        "    'ID_Cliente': [1, 2, 3, 4, 5, 6, 7, 8, 9, 10],\n",
        "    'Nombre': ['Ana', 'Luis', 'Marta', 'Pedro', 'Laura', 'Carlos', 'Sofía', 'Juan', 'Elena', 'David'],\n",
        "    'Edad': [28, 34, 150, 42, 29, 35, 22, 30, 27, 40],\n",
        "    'Email': ['ana@email.com', 'luis@email.com', np.nan, 'pedro@email.com', 'laura@email.com', 'carlos@email.com', 'sofia@email.com', 'juan@email.com', 'elena@email.com', 'david@email.com'],\n",
        "    'Ciudad': ['Madrid', 'Barcelona', 'madrid', 'Valencia', 'Sevilla', 'Barcelona', 'Madrid', 'Valencia', 'Sevilla', 'Barcelona'],\n",
        "    'Ingresos_Anuales': [50000, 60000, 75000, -1000, 55000, 62000, 48000, 70000, 53000, 68000],\n",
        "    'Fecha_Registro': ['2023-01-15', '2023-02-20', '2023-01-10', '2023-03-01', '2023-02-25', '2023-01-30', '2023-03-10', '2023-02-18', '2023-01-22', '2023-03-05']\n",
        "}\n",
        "df = pd.DataFrame(data)\n",
        "\n",
        "print(\"DataFrame Original:\")\n",
        "print(df)\n",
        "print(\"Información del DataFrame:\")\n",
        "df.info()\n",
        "print(\"Valores nulos por columna:\")\n",
        "print(df.isnull().sum())\n"
      ]
    },
    {
      "cell_type": "markdown",
      "id": "721371bd",
      "metadata": {
        "id": "721371bd"
      },
      "source": [
        "#### Pasos de Limpieza de Datos:\n",
        "\n",
        "1.  **Manejo de Valores Atípicos (Outliers)**: La edad de 150 años es claramente un error.\n",
        "2.  **Manejo de Valores Nulos**: El email de Marta es nulo.\n",
        "3.  **Consistencia de Formato**: La ciudad 'madrid' está en minúsculas, mientras que 'Madrid' está capitalizada.\n",
        "4.  **Valores Inválidos**: Los ingresos anuales no pueden ser negativos.\n",
        "5.  **Conversión de Tipos de Datos**: Asegurar que 'Fecha_Registro' sea tipo datetime.\n"
      ]
    },
    {
      "cell_type": "code",
      "execution_count": 4,
      "id": "16a6b075",
      "metadata": {
        "colab": {
          "base_uri": "https://localhost:8080/"
        },
        "id": "16a6b075",
        "outputId": "8f45383b-3a7b-4743-f9b9-46cb6128ab4b"
      },
      "outputs": [
        {
          "output_type": "stream",
          "name": "stdout",
          "text": [
            "DataFrame después de corregir edades atípicas:\n",
            "   ID_Cliente  Nombre  Edad             Email     Ciudad  Ingresos_Anuales  \\\n",
            "0           1     Ana  28.0     ana@email.com     Madrid             50000   \n",
            "1           2    Luis  34.0    luis@email.com  Barcelona             60000   \n",
            "2           3   Marta   NaN               NaN     madrid             75000   \n",
            "3           4   Pedro  42.0   pedro@email.com   Valencia             -1000   \n",
            "4           5   Laura  29.0   laura@email.com    Sevilla             55000   \n",
            "5           6  Carlos  35.0  carlos@email.com  Barcelona             62000   \n",
            "6           7   Sofía  22.0   sofia@email.com     Madrid             48000   \n",
            "7           8    Juan  30.0    juan@email.com   Valencia             70000   \n",
            "8           9   Elena  27.0   elena@email.com    Sevilla             53000   \n",
            "9          10   David  40.0   david@email.com  Barcelona             68000   \n",
            "\n",
            "  Fecha_Registro  \n",
            "0     2023-01-15  \n",
            "1     2023-02-20  \n",
            "2     2023-01-10  \n",
            "3     2023-03-01  \n",
            "4     2023-02-25  \n",
            "5     2023-01-30  \n",
            "6     2023-03-10  \n",
            "7     2023-02-18  \n",
            "8     2023-01-22  \n",
            "9     2023-03-05  \n",
            "DataFrame después de rellenar emails nulos:\n",
            "   ID_Cliente  Nombre  Edad             Email     Ciudad  Ingresos_Anuales  \\\n",
            "0           1     Ana  28.0     ana@email.com     Madrid             50000   \n",
            "1           2    Luis  34.0    luis@email.com  Barcelona             60000   \n",
            "2           3   Marta   NaN       desconocido     madrid             75000   \n",
            "3           4   Pedro  42.0   pedro@email.com   Valencia             -1000   \n",
            "4           5   Laura  29.0   laura@email.com    Sevilla             55000   \n",
            "5           6  Carlos  35.0  carlos@email.com  Barcelona             62000   \n",
            "6           7   Sofía  22.0   sofia@email.com     Madrid             48000   \n",
            "7           8    Juan  30.0    juan@email.com   Valencia             70000   \n",
            "8           9   Elena  27.0   elena@email.com    Sevilla             53000   \n",
            "9          10   David  40.0   david@email.com  Barcelona             68000   \n",
            "\n",
            "  Fecha_Registro  \n",
            "0     2023-01-15  \n",
            "1     2023-02-20  \n",
            "2     2023-01-10  \n",
            "3     2023-03-01  \n",
            "4     2023-02-25  \n",
            "5     2023-01-30  \n",
            "6     2023-03-10  \n",
            "7     2023-02-18  \n",
            "8     2023-01-22  \n",
            "9     2023-03-05  \n",
            "DataFrame después de normalizar ciudades:\n",
            "   ID_Cliente  Nombre  Edad             Email     Ciudad  Ingresos_Anuales  \\\n",
            "0           1     Ana  28.0     ana@email.com     Madrid             50000   \n",
            "1           2    Luis  34.0    luis@email.com  Barcelona             60000   \n",
            "2           3   Marta   NaN       desconocido     Madrid             75000   \n",
            "3           4   Pedro  42.0   pedro@email.com   Valencia             -1000   \n",
            "4           5   Laura  29.0   laura@email.com    Sevilla             55000   \n",
            "5           6  Carlos  35.0  carlos@email.com  Barcelona             62000   \n",
            "6           7   Sofía  22.0   sofia@email.com     Madrid             48000   \n",
            "7           8    Juan  30.0    juan@email.com   Valencia             70000   \n",
            "8           9   Elena  27.0   elena@email.com    Sevilla             53000   \n",
            "9          10   David  40.0   david@email.com  Barcelona             68000   \n",
            "\n",
            "  Fecha_Registro  \n",
            "0     2023-01-15  \n",
            "1     2023-02-20  \n",
            "2     2023-01-10  \n",
            "3     2023-03-01  \n",
            "4     2023-02-25  \n",
            "5     2023-01-30  \n",
            "6     2023-03-10  \n",
            "7     2023-02-18  \n",
            "8     2023-01-22  \n",
            "9     2023-03-05  \n",
            "DataFrame después de corregir ingresos negativos:\n",
            "   ID_Cliente  Nombre  Edad             Email     Ciudad  Ingresos_Anuales  \\\n",
            "0           1     Ana  28.0     ana@email.com     Madrid             50000   \n",
            "1           2    Luis  34.0    luis@email.com  Barcelona             60000   \n",
            "2           3   Marta   NaN       desconocido     Madrid             75000   \n",
            "3           4   Pedro  42.0   pedro@email.com   Valencia                 0   \n",
            "4           5   Laura  29.0   laura@email.com    Sevilla             55000   \n",
            "5           6  Carlos  35.0  carlos@email.com  Barcelona             62000   \n",
            "6           7   Sofía  22.0   sofia@email.com     Madrid             48000   \n",
            "7           8    Juan  30.0    juan@email.com   Valencia             70000   \n",
            "8           9   Elena  27.0   elena@email.com    Sevilla             53000   \n",
            "9          10   David  40.0   david@email.com  Barcelona             68000   \n",
            "\n",
            "  Fecha_Registro  \n",
            "0     2023-01-15  \n",
            "1     2023-02-20  \n",
            "2     2023-01-10  \n",
            "3     2023-03-01  \n",
            "4     2023-02-25  \n",
            "5     2023-01-30  \n",
            "6     2023-03-10  \n",
            "7     2023-02-18  \n",
            "8     2023-01-22  \n",
            "9     2023-03-05  \n",
            "DataFrame después de convertir Fecha_Registro a datetime:\n",
            "<class 'pandas.core.frame.DataFrame'>\n",
            "RangeIndex: 10 entries, 0 to 9\n",
            "Data columns (total 7 columns):\n",
            " #   Column            Non-Null Count  Dtype         \n",
            "---  ------            --------------  -----         \n",
            " 0   ID_Cliente        10 non-null     int64         \n",
            " 1   Nombre            10 non-null     object        \n",
            " 2   Edad              9 non-null      float64       \n",
            " 3   Email             10 non-null     object        \n",
            " 4   Ciudad            10 non-null     object        \n",
            " 5   Ingresos_Anuales  10 non-null     int64         \n",
            " 6   Fecha_Registro    10 non-null     datetime64[ns]\n",
            "dtypes: datetime64[ns](1), float64(1), int64(2), object(3)\n",
            "memory usage: 692.0+ bytes\n",
            "DataFrame Limpio Final:\n",
            "   ID_Cliente  Nombre  Edad             Email     Ciudad  Ingresos_Anuales  \\\n",
            "0           1     Ana  28.0     ana@email.com     Madrid             50000   \n",
            "1           2    Luis  34.0    luis@email.com  Barcelona             60000   \n",
            "2           3   Marta   NaN       desconocido     Madrid             75000   \n",
            "3           4   Pedro  42.0   pedro@email.com   Valencia                 0   \n",
            "4           5   Laura  29.0   laura@email.com    Sevilla             55000   \n",
            "5           6  Carlos  35.0  carlos@email.com  Barcelona             62000   \n",
            "6           7   Sofía  22.0   sofia@email.com     Madrid             48000   \n",
            "7           8    Juan  30.0    juan@email.com   Valencia             70000   \n",
            "8           9   Elena  27.0   elena@email.com    Sevilla             53000   \n",
            "9          10   David  40.0   david@email.com  Barcelona             68000   \n",
            "\n",
            "  Fecha_Registro  \n",
            "0     2023-01-15  \n",
            "1     2023-02-20  \n",
            "2     2023-01-10  \n",
            "3     2023-03-01  \n",
            "4     2023-02-25  \n",
            "5     2023-01-30  \n",
            "6     2023-03-10  \n",
            "7     2023-02-18  \n",
            "8     2023-01-22  \n",
            "9     2023-03-05  \n"
          ]
        },
        {
          "output_type": "stream",
          "name": "stderr",
          "text": [
            "/tmp/ipython-input-4-1360655789.py:8: FutureWarning: A value is trying to be set on a copy of a DataFrame or Series through chained assignment using an inplace method.\n",
            "The behavior will change in pandas 3.0. This inplace method will never work because the intermediate object on which we are setting values always behaves as a copy.\n",
            "\n",
            "For example, when doing 'df[col].method(value, inplace=True)', try using 'df.method({col: value}, inplace=True)' or df[col] = df[col].method(value) instead, to perform the operation inplace on the original object.\n",
            "\n",
            "\n",
            "  df['Email'].fillna('desconocido', inplace=True)\n"
          ]
        }
      ],
      "source": [
        "# 1. Manejo de Valores Atípicos (Edad)\n",
        "# Reemplazar edades irrealistas (ej. > 100) con NaN o un valor más razonable (ej. la mediana o la media)\n",
        "df.loc[df['Edad'] > 100, 'Edad'] = np.nan # O np.median(df['Edad'].dropna())\n",
        "print(\"DataFrame después de corregir edades atípicas:\")\n",
        "print(df)\n",
        "# 2. Manejo de Valores Nulos (Email)\n",
        "# Rellenar con 'desconocido' o eliminar la fila/columna\n",
        "df['Email'].fillna('desconocido', inplace=True)\n",
        "print(\"DataFrame después de rellenar emails nulos:\")\n",
        "print(df)\n",
        "# 3. Consistencia de Formato (Ciudad)\n",
        "# Convertir todas las ciudades a formato capitalizado\n",
        "df['Ciudad'] = df['Ciudad'].str.capitalize()\n",
        "print(\"DataFrame después de normalizar ciudades:\")\n",
        "print(df)\n",
        "# 4. Manejo de Valores Inválidos (Ingresos_Anuales)\n",
        "# Reemplazar ingresos negativos con 0 o NaN\n",
        "df.loc[df['Ingresos_Anuales'] < 0, 'Ingresos_Anuales'] = 0\n",
        "print(\"DataFrame después de corregir ingresos negativos:\")\n",
        "print(df)\n",
        "# 5. Conversión de Tipos de Datos (Fecha_Registro)\n",
        "df['Fecha_Registro'] = pd.to_datetime(df['Fecha_Registro'])\n",
        "print(\"DataFrame después de convertir Fecha_Registro a datetime:\")\n",
        "df.info()\n",
        "print(\"DataFrame Limpio Final:\")\n",
        "print(df)\n"
      ]
    },
    {
      "cell_type": "markdown",
      "id": "9127ad81",
      "metadata": {
        "id": "9127ad81"
      },
      "source": [
        "#### Ejercicio de Limpieza de Datos (Python):\n",
        "\n",
        "Considera el siguiente DataFrame. Realiza las siguientes tareas de limpieza:\n",
        "*   Identifica y maneja los valores nulos en la columna 'Calificación' (puedes rellenarlos con la media o la mediana).\n",
        "*   Normaliza la columna 'Producto' para que todos los nombres de productos sean consistentes (ej. 'Laptop' en lugar de 'laptop' o 'LAPTOP').\n",
        "*   Corrige cualquier valor atípico o inválido en la columna 'Cantidad' (ej. cantidades negativas o excesivamente grandes).\n"
      ]
    },
    {
      "cell_type": "code",
      "execution_count": 5,
      "id": "48b9466a",
      "metadata": {
        "colab": {
          "base_uri": "https://localhost:8080/"
        },
        "id": "48b9466a",
        "outputId": "ae890f22-bc9d-4367-f645-0c93fe7b1694"
      },
      "outputs": [
        {
          "output_type": "stream",
          "name": "stdout",
          "text": [
            "DataFrame del Ejercicio Original:\n",
            "  Producto  Cantidad  Calificación\n",
            "0   Laptop         2           5.0\n",
            "1  teclado         1           4.0\n",
            "2    Mouse        -1           NaN\n",
            "3   LAPTOP         3           5.0\n",
            "4  Monitor       100           3.0\n",
            "5  Teclado         1           4.5\n"
          ]
        }
      ],
      "source": [
        "# Ejercicio de Limpieza de Datos\n",
        "ej_data = {\n",
        "    'Producto': ['Laptop', 'teclado', 'Mouse', 'LAPTOP', 'Monitor', 'Teclado'],\n",
        "    'Cantidad': [2, 1, -1, 3, 100, 1],\n",
        "    'Calificación': [5, 4, np.nan, 5, 3, 4.5]\n",
        "}\n",
        "ej_df = pd.DataFrame(ej_data)\n",
        "\n",
        "print(\"DataFrame del Ejercicio Original:\")\n",
        "print(ej_df)\n",
        "\n",
        "# Tu código de limpieza aquí\n",
        "# 1. Manejar valores nulos en 'Calificación'\n",
        "# 2. Normalizar 'Producto'\n",
        "# 3. Corregir 'Cantidad'\n",
        "# print(\"DataFrame del Ejercicio Limpio:\")\n",
        "# print(ej_df_limpio)\n"
      ]
    },
    {
      "cell_type": "markdown",
      "id": "f55312f0",
      "metadata": {
        "id": "f55312f0"
      },
      "source": [
        "## 2. Del Caos al Significado: Comprende tus Datos con Estadística Central\n",
        "\n",
        "La estadística básica es clave en la ciencia de datos porque permite entender y resumir grandes volúmenes de información de forma sencilla. Las medidas de tendencia central —media, mediana y moda— ayudan a identificar valores representativos dentro de un conjunto de datos, lo cual es fundamental para detectar patrones, comparar grupos y tomar decisiones informadas. Antes de aplicar modelos complejos, es esencial dominar estos conceptos para garantizar un análisis claro, confiable y útil.\n"
      ]
    },
    {
      "cell_type": "markdown",
      "id": "6f69cec2",
      "metadata": {
        "id": "6f69cec2"
      },
      "source": [
        "### 2.1. Medidas de Tendencia Central: Media, Mediana y Moda\n",
        "\n",
        "Las medidas de tendencia central son valores que intentan ubicar el centro de un conjunto de datos, proporcionando una idea de cómo se comportan la mayoría de las observaciones. Son esenciales para resumir grandes volúmenes de información en un solo número representativo.\n",
        "\n",
        "*   **Media (Promedio)**: La suma de todos los valores dividida por el número total de valores. Es sensible a los valores atípicos.\n",
        "*   **Mediana**: El valor central en un conjunto de datos ordenado. Es menos sensible a los valores atípicos que la media.\n",
        "*   **Moda**: El valor que aparece con mayor frecuencia en un conjunto de datos. Puede haber una, varias o ninguna moda.\n"
      ]
    },
    {
      "cell_type": "code",
      "execution_count": 8,
      "id": "2a804f1d",
      "metadata": {
        "colab": {
          "base_uri": "https://localhost:8080/",
          "height": 557
        },
        "id": "2a804f1d",
        "outputId": "c5f3c114-a133-49e4-f4d6-0189d04fbdec"
      },
      "outputs": [
        {
          "output_type": "stream",
          "name": "stdout",
          "text": [
            "Datos (Python): [10, 12, 12, 15, 16, 18, 20, 22, 22, 22, 25]\n",
            "Media (Python): 17.64\n",
            "Mediana (Python): 18.0\n",
            "Moda (Python): [22]\n"
          ]
        },
        {
          "output_type": "display_data",
          "data": {
            "text/plain": [
              "<Figure size 800x500 with 1 Axes>"
            ],
            "image/png": "[encoded data removed]"
          },
          "metadata": {}
        }
      ],
      "source": [
        "import matplotlib.pyplot as plt\n",
        "import seaborn as sns\n",
        "\n",
        "# Ejemplo y Ejercicio (Python): Medidas de Tendencia Central\n",
        "datos_py = [10, 12, 12, 15, 16, 18, 20, 22, 22, 22, 25]\n",
        "\n",
        "# Media\n",
        "media_py = np.mean(datos_py)\n",
        "print(f\"Datos (Python): {datos_py}\")\n",
        "print(f\"Media (Python): {media_py:.2f}\")\n",
        "\n",
        "# Mediana\n",
        "mediana_py = np.median(datos_py)\n",
        "print(f\"Mediana (Python): {mediana_py}\")\n",
        "\n",
        "# Moda\n",
        "from collections import Counter\n",
        "conteo_py = Counter(datos_py)\n",
        "moda_py = [k for k, v in conteo_py.items() if v == max(conteo_py.values())]\n",
        "print(f\"Moda (Python): {moda_py}\")\n",
        "\n",
        "# Gráfico de Distribución (Python)\n",
        "plt.figure(figsize=(8, 5))\n",
        "sns.histplot(datos_py, bins=5, kde=True)\n",
        "plt.axvline(media_py, color='r', linestyle='--', label=f'Media: {media_py:.2f}')\n",
        "plt.axvline(mediana_py, color='g', linestyle='-', label=f'Mediana: {mediana_py}')\n",
        "for m in moda_py:\n",
        "    plt.axvline(m, color='b', linestyle=':', label=f'Moda: {m}')\n",
        "plt.title('Distribución de Datos y Medidas de Tendencia Central (Python)')\n",
        "plt.xlabel('Valor')\n",
        "plt.ylabel('Frecuencia')\n",
        "plt.legend()\n",
        "plt.grid(axis='y', alpha=0.75)\n",
        "plt.show()\n",
        "\n",
        "# Ejercicio (Python): Calcula la media, mediana y moda para el siguiente conjunto de datos:\n",
        "ej_datos_py = [5, 7, 7, 8, 9, 10, 10, 10, 11, 12]\n",
        "# Tu código aquí\n",
        "# media_ej_py = ...\n",
        "# mediana_ej_py = ...\n",
        "# moda_ej_py = ...\n",
        "# print(f\"Media Ejercicio (Python): {media_ej_py}\")\n",
        "# print(f\"Mediana Ejercicio (Python): {mediana_ej_py}\")\n",
        "# print(f\"Moda Ejercicio (Python): {moda_ej_py}\")\n"
      ]
    },
    {
      "cell_type": "markdown",
      "id": "bdfd7c1a",
      "metadata": {
        "id": "bdfd7c1a"
      },
      "source": [
        "#### Ejemplo y Ejercicio (R): Medidas de Tendencia Central\n",
        "\n",
        "_Nota: Para ejecutar código R en Google Colab, necesitas instalar la extensión `rpy2` y cargar el lenguaje R. Sin embargo, para este cuaderno, los ejemplos de R se presentan como bloques de código para visualización, no para ejecución directa en el entorno Python de Colab._\n"
      ]
    },
    {
      "cell_type": "code",
      "execution_count": null,
      "id": "5143c6db",
      "metadata": {
        "id": "5143c6db"
      },
      "outputs": [],
      "source": [
        "# Instalar rpy2 para ejecutar R en Colab (descomentar y ejecutar si es necesario)\n",
        "# %pip install rpy2\n",
        "\n",
        "# Cargar la extensión de R (descomentar y ejecutar si es necesario)\n",
        "# %load_ext rpy2.ipython\n",
        "\n",
        "# %%R\n",
        "# datos_r <- c(10, 12, 12, 15, 16, 18, 20, 22, 22, 22, 25)\n",
        "#\n",
        "# # Media\n",
        "# media_r <- mean(datos_r)\n",
        "# cat(sprintf(\"Datos (R): %s\\n\", paste(datos_r, collapse=\", \")))\n",
        "# cat(sprintf(\"Media (R): %.2f\\n\\n\", media_r))\n",
        "#\n",
        "# # Mediana\n",
        "# mediana_r <- median(datos_r)\n",
        "# cat(sprintf(\"Mediana (R): %f\\n\\n\", mediana_r))\n",
        "#\n",
        "# # Moda (no hay una función directa en R base, se puede crear o usar paquetes)\n",
        "# get_mode <- function(v) {\n",
        "#    uniqv <- unique(v)\n",
        "#    uniqv[which.max(tabulate(match(v, uniqv)))]\n",
        "# }\n",
        "# moda_r <- get_mode(datos_r)\n",
        "# cat(sprintf(\"Moda (R): %f\\n\\n\", moda_r))\n",
        "#\n",
        "# # Gráfico de Distribución (R)\n",
        "# hist(datos_r, main=\"Distribución de Datos y Medidas de Tendencia Central (R)\", xlab=\"Valor\")\n",
        "# abline(v = media_r, col=\"red\", lty=2, lwd=2)\n",
        "# abline(v = mediana_r, col=\"green\", lty=1, lwd=2)\n",
        "# abline(v = moda_r, col=\"blue\", lty=3, lwd=2)\n",
        "# legend(\"topright\", c(\"Media\", \"Mediana\", \"Moda\"), col=c(\"red\", \"green\", \"blue\"), lty=c(2,1,3), lwd=2)\n",
        "#\n",
        "# # Ejercicio (R): Calcula la media, mediana y moda para el siguiente conjunto de datos:\n",
        "# ej_datos_r <- c(5, 7, 7, 8, 9, 10, 10, 10, 11, 12)\n",
        "# # Tu código aquí\n",
        "# # media_ej_r = ...\n",
        "# # mediana_ej_r = ...\n",
        "# # moda_ej_r = ...\n",
        "# # cat(sprintf(\"Media Ejercicio (R): %f\\n\", media_ej_r))\n",
        "# # cat(sprintf(\"Mediana Ejercicio (R): %f\\n\", mediana_ej_r))\n",
        "# # cat(sprintf(\"Moda Ejercicio (R): %f\\n\", moda_ej_r))\n"
      ]
    },
    {
      "cell_type": "markdown",
      "id": "f266fb52",
      "metadata": {
        "id": "f266fb52"
      },
      "source": [
        "### 2.2. Medidas de Posición: Cuartiles, Deciles y Percentiles\n",
        "\n",
        "Además de las medidas de tendencia central, las medidas de posición nos ayudan a entender la distribución de los datos, dividiéndolos en partes iguales para analizar cómo se dispersan los valores y dónde se encuentra un dato específico en relación con el resto.\n",
        "\n",
        "*   **Cuartiles**: Dividen el conjunto de datos ordenado en cuatro partes iguales (Q1, Q2, Q3).\n",
        "*   **Deciles**: Dividen el conjunto de datos ordenado en diez partes iguales.\n",
        "*   **Percentiles**: Dividen el conjunto de datos ordenado en cien partes iguales. Un percentil 'P' indica que el P% de los datos están por debajo de ese valor.\n"
      ]
    },
    {
      "cell_type": "code",
      "execution_count": 9,
      "id": "f2934585",
      "metadata": {
        "colab": {
          "base_uri": "https://localhost:8080/",
          "height": 553
        },
        "id": "f2934585",
        "outputId": "ece81b0d-fbb9-4a86-ce22-6d4aa37c1242"
      },
      "outputs": [
        {
          "output_type": "stream",
          "name": "stdout",
          "text": [
            "Datos (Python): [1, 2, 3, 4, 5, 6, 7, 8, 9, 10, 11, 12, 13, 14, 15, 16, 17, 18, 19, 20]\n",
            "Q1 (25%): 5.75\n",
            "Q2 (50% - Mediana): 10.5\n",
            "Q3 (75%): 15.25\n",
            "Decil 3 (30%): 6.7\n",
            "Percentil 90 (90%): 18.1\n"
          ]
        },
        {
          "output_type": "display_data",
          "data": {
            "text/plain": [
              "<Figure size 800x500 with 1 Axes>"
            ],
            "image/png": "[encoded data removed]"
          },
          "metadata": {}
        }
      ],
      "source": [
        "# Ejemplo y Ejercicio (Python): Medidas de Posición\n",
        "datos_posicion_py = [1, 2, 3, 4, 5, 6, 7, 8, 9, 10, 11, 12, 13, 14, 15, 16, 17, 18, 19, 20]\n",
        "\n",
        "# Cuartiles\n",
        "q1_py = np.percentile(datos_posicion_py, 25)\n",
        "q2_py = np.percentile(datos_posicion_py, 50) # Mediana\n",
        "q3_py = np.percentile(datos_posicion_py, 75)\n",
        "print(f\"Datos (Python): {datos_posicion_py}\")\n",
        "print(f\"Q1 (25%): {q1_py}\")\n",
        "print(f\"Q2 (50% - Mediana): {q2_py}\")\n",
        "print(f\"Q3 (75%): {q3_py}\")\n",
        "\n",
        "# Deciles (ej. Decil 3 - 30%)\n",
        "d3_py = np.percentile(datos_posicion_py, 30)\n",
        "print(f\"Decil 3 (30%): {d3_py}\")\n",
        "\n",
        "# Percentiles (ej. Percentil 90 - 90%)\n",
        "p90_py = np.percentile(datos_posicion_py, 90)\n",
        "print(f\"Percentil 90 (90%): {p90_py}\")\n",
        "\n",
        "# Gráfico de Caja (Box Plot) para visualizar cuartiles (Python)\n",
        "plt.figure(figsize=(8, 5))\n",
        "sns.boxplot(y=datos_posicion_py)\n",
        "plt.title('Box Plot de Datos y Cuartiles (Python)')\n",
        "plt.ylabel('Valor')\n",
        "plt.grid(axis='y', alpha=0.75)\n",
        "plt.show()\n",
        "\n",
        "# Ejercicio (Python): Para el mismo conjunto de datos, calcula el Decil 7 y el Percentil 45.\n",
        "# Tu código aquí\n",
        "# d7_ej_py = ...\n",
        "# p45_ej_py = ...\n",
        "# print(f\"Decil 7 Ejercicio (Python): {d7_ej_py}\")\n",
        "# print(f\"Percentil 45 Ejercicio (Python): {p45_ej_py}\")\n"
      ]
    },
    {
      "cell_type": "markdown",
      "id": "3b0a9a65",
      "metadata": {
        "id": "3b0a9a65"
      },
      "source": [
        "#### Ejemplo y Ejercicio (R): Medidas de Posición\n"
      ]
    },
    {
      "cell_type": "code",
      "execution_count": null,
      "id": "edb21806",
      "metadata": {
        "id": "edb21806"
      },
      "outputs": [],
      "source": [
        "# %%R\n",
        "# datos_posicion_r <- c(1, 2, 3, 4, 5, 6, 7, 8, 9, 10, 11, 12, 13, 14, 15, 16, 17, 18, 19, 20)\n",
        "#\n",
        "# # Cuartiles\n",
        "# cuartiles_r <- quantile(datos_posicion_r, probs = c(0.25, 0.50, 0.75))\n",
        "# cat(sprintf(\"Datos (R): %s\\n\", paste(datos_posicion_r, collapse=\", \")))\n",
        "# cat(sprintf(\"Q1 (25%%): %f\\n\", cuartiles_r[1]))\n",
        "# cat(sprintf(\"Q2 (50%% - Mediana): %f\\n\", cuartiles_r[2]))\n",
        "# cat(sprintf(\"Q3 (75%%): %f\\n\\n\", cuartiles_r[3]))\n",
        "#\n",
        "# # Deciles (ej. Decil 3 - 30%)\n",
        "# d3_r <- quantile(datos_posicion_r, probs = 0.30)\n",
        "# cat(sprintf(\"Decil 3 (30%%): %f\\n\\n\", d3_r))\n",
        "#\n",
        "# # Percentiles (ej. Percentil 90 - 90%)\n",
        "# p90_r <- quantile(datos_posicion_r, probs = 0.90)\n",
        "# cat(sprintf(\"Percentil 90 (90%%): %f\\n\\n\", p90_r))\n",
        "#\n",
        "# # Gráfico de Caja (Box Plot) para visualizar cuartiles (R)\n",
        "# boxplot(datos_posicion_r, main=\"Box Plot de Datos y Cuartiles (R)\", ylab=\"Valor\")\n",
        "#\n",
        "# # Ejercicio (R): Para el mismo conjunto de datos, calcula el Decil 7 y el Percentil 45.\n",
        "# # Tu código aquí\n",
        "# # d7_ej_r = quantile(ej_datos_r, probs = 0.70)\n",
        "# # p45_ej_r = quantile(ej_datos_r, probs = 0.45)\n",
        "# # cat(sprintf(\"Decil 7 Ejercicio (R): %f\\n\", d7_ej_r))\n",
        "# # cat(sprintf(\"Percentil 45 Ejercicio (R): %f\\n\", p45_ej_r))\n"
      ]
    },
    {
      "cell_type": "markdown",
      "id": "b877f70c",
      "metadata": {
        "id": "b877f70c"
      },
      "source": [
        "_**La importancia de elegir la medida correcta:** Cada medida de tendencia central y posición tiene sus fortalezas y debilidades. Elegir la medida adecuada depende del tipo de datos y del objetivo del análisis. Por ejemplo, la mediana es preferible a la media en presencia de valores atípicos que puedan distorsionar el promedio._\n"
      ]
    },
    {
      "cell_type": "markdown",
      "id": "c1288993",
      "metadata": {
        "id": "c1288993"
      },
      "source": [
        "## 3. Varianza y Desviación: Revelando el Comportamiento Oculto de los Datos\n",
        "\n",
        "Si las medidas de tendencia central nos dicen dónde está el \"centro\" de nuestros datos, las medidas de dispersión nos revelan cuán \"estirados\" o \"agrupados\" están. Es decir, nos permiten entender qué tan homogéneos o heterogéneos son los valores. Imagina dos equipos de baloncesto con la misma altura promedio; las medidas de dispersión nos dirían si uno tiene jugadores de alturas muy similares y el otro tiene una mezcla de muy altos y muy bajos.\n"
      ]
    },
    {
      "cell_type": "markdown",
      "id": "cd744979",
      "metadata": {
        "id": "cd744979"
      },
      "source": [
        "### 3.1. Rango, Varianza y Desviación Estándar\n",
        "\n",
        "Estas son las herramientas más comunes para cuantificar la dispersión de nuestros datos:\n",
        "\n",
        "*   **Rango**: Es la medida más simple. Se calcula restando el valor mínimo al valor máximo de un conjunto de datos. Nos da una idea rápida de la amplitud total.\n",
        "    _Ejemplo: Si las edades de un grupo van de 20 a 45 años, el rango es 25 años._\n",
        "*   **Rango Intercuartílico (IQR)**: Representa el 50% central de los datos, es la diferencia entre el primer cuartil (Q1) y el tercer cuartil (Q3).\n",
        "*   **Varianza**: Mide la dispersión promedio de cada punto de dato respecto a la media. Cuantifica qué tan lejos están los valores de la media, elevando al cuadrado las diferencias para evitar que se cancelen entre sí y para penalizar más las desviaciones grandes.\n",
        "    _Ejemplo: Una alta varianza en los salarios indica que hay una gran diferencia entre los salarios más bajos y los más altos._\n",
        "*   **Desviación Estándar**: Es la raíz cuadrada de la varianza. Se expresa en las mismas unidades que los datos originales, lo que la hace más interpretable que la varianza. Nos dice, en promedio, cuánto se desvían los datos de la media.\n",
        "    _Ejemplo: Una desviación estándar baja en un proceso de fabricación indica que los productos son muy consistentes en su tamaño._\n"
      ]
    },
    {
      "cell_type": "code",
      "execution_count": 10,
      "id": "52594707",
      "metadata": {
        "colab": {
          "base_uri": "https://localhost:8080/",
          "height": 557
        },
        "id": "52594707",
        "outputId": "f599ebe6-4c26-4959-e3cf-b4bdc777b201"
      },
      "outputs": [
        {
          "output_type": "stream",
          "name": "stdout",
          "text": [
            "Datos (Python): [10, 12, 15, 18, 20, 22, 25, 28, 30]\n",
            "Rango (Python): 20\n",
            "Varianza (Python): 42.89\n",
            "Desviación Estándar (Python): 6.55\n"
          ]
        },
        {
          "output_type": "display_data",
          "data": {
            "text/plain": [
              "<Figure size 800x500 with 1 Axes>"
            ],
            "image/png": "[encoded data removed]"
          },
          "metadata": {}
        }
      ],
      "source": [
        "# Ejemplo y Ejercicio (Python): Medidas de Dispersión\n",
        "datos_dispersion_py = [10, 12, 15, 18, 20, 22, 25, 28, 30]\n",
        "\n",
        "# Rango\n",
        "rango_py = np.max(datos_dispersion_py) - np.min(datos_dispersion_py)\n",
        "print(f\"Datos (Python): {datos_dispersion_py}\")\n",
        "print(f\"Rango (Python): {rango_py}\")\n",
        "\n",
        "# Varianza\n",
        "varianza_py = np.var(datos_dispersion_py)\n",
        "print(f\"Varianza (Python): {varianza_py:.2f}\")\n",
        "\n",
        "# Desviación Estándar\n",
        "desviacion_estandar_py = np.std(datos_dispersion_py)\n",
        "print(f\"Desviación Estándar (Python): {desviacion_estandar_py:.2f}\")\n",
        "\n",
        "# Gráfico de Histograma para visualizar dispersión (Python)\n",
        "plt.figure(figsize=(8, 5))\n",
        "sns.histplot(datos_dispersion_py, bins=5, kde=True)\n",
        "plt.axvline(np.mean(datos_dispersion_py), color='r', linestyle='--', label=f'Media: {np.mean(datos_dispersion_py):.2f}')\n",
        "plt.axvspan(np.mean(datos_dispersion_py) - np.std(datos_dispersion_py), np.mean(datos_dispersion_py) + np.std(datos_dispersion_py), color='gray', alpha=0.2, label='±1 Desviación Estándar')\n",
        "plt.title('Distribución de Datos y Medidas de Dispersión (Python)')\n",
        "plt.xlabel('Valor')\n",
        "plt.ylabel('Frecuencia')\n",
        "plt.legend()\n",
        "plt.grid(axis='y', alpha=0.75)\n",
        "plt.show()\n",
        "\n",
        "# Ejercicio (Python): Calcula el rango, varianza y desviación estándar para el siguiente conjunto de datos:\n",
        "ej_datos_dispersion_py = [2, 4, 4, 4, 5, 5, 7, 9]\n",
        "# Tu código aquí\n",
        "# rango_ej_py = ...\n",
        "# varianza_ej_py = ...\n",
        "# desviacion_estandar_ej_py = ...\n",
        "# print(f\"Rango Ejercicio (Python): {rango_ej_py}\")\n",
        "# print(f\"Varianza Ejercicio (Python): {varianza_ej_py}\")\n",
        "# print(f\"Desviación Estándar Ejercicio (Python): {desviacion_estandar_ej_py}\")\n"
      ]
    },
    {
      "cell_type": "markdown",
      "id": "23dcc8fa",
      "metadata": {
        "id": "23dcc8fa"
      },
      "source": [
        "#### Ejemplo y Ejercicio (R): Medidas de Dispersión\n"
      ]
    },
    {
      "cell_type": "code",
      "execution_count": null,
      "id": "9fae65e4",
      "metadata": {
        "id": "9fae65e4"
      },
      "outputs": [],
      "source": [
        "# %%R\n",
        "# datos_dispersion_r <- c(10, 12, 15, 18, 20, 22, 25, 28, 30)\n",
        "#\n",
        "# # Rango\n",
        "# rango_r <- max(datos_dispersion_r) - min(datos_dispersion_r)\n",
        "# cat(sprintf(\"Datos (R): %s\\n\", paste(datos_dispersion_r, collapse=\", \")))\n",
        "# cat(sprintf(\"Rango (R): %f\\n\\n\", rango_r))\n",
        "#\n",
        "# # Varianza\n",
        "# varianza_r <- var(datos_dispersion_r)\n",
        "# cat(sprintf(\"Varianza (R): %.2f\\n\\n\", varianza_r))\n",
        "#\n",
        "# # Desviación Estándar\n",
        "# desviacion_estandar_r <- sd(datos_dispersion_r)\n",
        "# cat(sprintf(\"Desviación Estándar (R): %.2f\\n\\n\", desviacion_estandar_r))\n",
        "#\n",
        "# # Gráfico de Histograma para visualizar dispersión (R)\n",
        "# hist(datos_dispersion_r, main=\"Distribución de Datos y Medidas de Dispersión (R)\", xlab=\"Valor\")\n",
        "# abline(v = mean(datos_dispersion_r), col=\"red\", lty=2, lwd=2)\n",
        "#\n",
        "# # Ejercicio (R): Calcula el rango, varianza y desviación estándar para el siguiente conjunto de datos:\n",
        "# # ej_datos_dispersion_r = c(2, 4, 4, 4, 5, 5, 7, 9)\n",
        "# # Tu código aquí\n",
        "# # rango_ej_r = ...\n",
        "# # varianza_ej_r = ...\n",
        "# # desviacion_estandar_ej_r = ...\n",
        "# # cat(sprintf(\"Rango Ejercicio (R): %f\\n\", rango_ej_r))\n",
        "# # cat(sprintf(\"Varianza Ejercicio (R): %f\\n\", varianza_ej_r))\n",
        "# # cat(sprintf(\"Desviación Estándar Ejercicio (R): %f\\n\", desviacion_estandar_ej_r))\n"
      ]
    },
    {
      "cell_type": "markdown",
      "id": "50fac07e",
      "metadata": {
        "id": "50fac07e"
      },
      "source": [
        "### 3.2. Coeficiente de Variación (CV)\n",
        "\n",
        "El Coeficiente de Variación es una medida de dispersión relativa que expresa la desviación estándar como un porcentaje de la media. Es especialmente útil cuando necesitamos comparar la variabilidad de dos o más conjuntos de datos que tienen unidades de medida diferentes o medias muy distintas.\n",
        "\n",
        "_**¿Cuándo usarlo?** Imagina que comparas la variabilidad de los salarios de ingenieros (en USD) y la variabilidad de los pesos de manzanas (en gramos). Sus desviaciones estándar no serían directamente comparables. El CV te permite ver cuál tiene una mayor \"dispersión relativa\" respecto a su propio promedio._\n"
      ]
    },
    {
      "cell_type": "code",
      "execution_count": 11,
      "id": "5fbf3444",
      "metadata": {
        "colab": {
          "base_uri": "https://localhost:8080/"
        },
        "id": "5fbf3444",
        "outputId": "ce1d2428-7b49-459e-96eb-d3403e8d6983"
      },
      "outputs": [
        {
          "output_type": "stream",
          "name": "stdout",
          "text": [
            "Salarios (Python): [50000 55000 60000 62000 65000]\n",
            "CV Salarios (Python): 9.10%\n",
            "Pesos Manzanas (Python): [150 155 148 152 160]\n",
            "CV Pesos Manzanas (Python): 2.74%\n"
          ]
        }
      ],
      "source": [
        "# Ejemplo y Ejercicio (Python): Coeficiente de Variación\n",
        "# Datos de Salarios (en USD)\n",
        "salarios_py = np.array([50000, 55000, 60000, 62000, 65000])\n",
        "media_salarios_py = np.mean(salarios_py)\n",
        "std_salarios_py = np.std(salarios_py)\n",
        "cv_salarios_py = (std_salarios_py / media_salarios_py) * 100\n",
        "print(f\"Salarios (Python): {salarios_py}\")\n",
        "print(f\"CV Salarios (Python): {cv_salarios_py:.2f}%\")\n",
        "\n",
        "# Datos de Pesos de Manzanas (en gramos)\n",
        "pesos_manzanas_py = np.array([150, 155, 148, 152, 160])\n",
        "media_pesos_py = np.mean(pesos_manzanas_py)\n",
        "std_pesos_py = np.std(pesos_manzanas_py)\n",
        "cv_pesos_py = (std_pesos_py / media_pesos_py) * 100\n",
        "print(f\"Pesos Manzanas (Python): {pesos_manzanas_py}\")\n",
        "print(f\"CV Pesos Manzanas (Python): {cv_pesos_py:.2f}%\")\n",
        "\n",
        "# Ejercicio (Python): Calcula el CV para el siguiente conjunto de datos de temperaturas (en Celsius):\n",
        "ej_temperaturas_py = np.array([20, 21, 20, 22, 23, 21])\n",
        "# Tu código aquí\n",
        "# media_temp_ej_py = ...\n",
        "# std_temp_ej_py = ...\n",
        "# cv_temp_ej_py = ...\n",
        "# print(f\"CV Temperaturas Ejercicio (Python): {cv_temp_ej_py}\")\n"
      ]
    },
    {
      "cell_type": "markdown",
      "id": "5215b0a4",
      "metadata": {
        "id": "5215b0a4"
      },
      "source": [
        "#### Ejemplo y Ejercicio (R): Coeficiente de Variación\n"
      ]
    },
    {
      "cell_type": "code",
      "execution_count": null,
      "id": "82b081a9",
      "metadata": {
        "id": "82b081a9"
      },
      "outputs": [],
      "source": [
        "# %%R\n",
        "# # Datos de Salarios (en USD)\n",
        "# salarios_r <- c(50000, 55000, 60000, 62000, 65000)\n",
        "# media_salarios_r <- mean(salarios_r)\n",
        "# std_salarios_r <- sd(salarios_r)\n",
        "# cv_salarios_r <- (std_salarios_r / media_salarios_r) * 100\n",
        "# cat(sprintf(\"Salarios (R): %s\\n\", paste(salarios_r, collapse=\", \")))\n",
        "# cat(sprintf(\"CV Salarios (R): %.2f%%%%\\n\\n\", cv_salarios_r))\n",
        "#\n",
        "# # Datos de Pesos de Manzanas (en gramos)\n",
        "# pesos_manzanas_r <- c(150, 155, 148, 152, 160)\n",
        "# media_pesos_r <- mean(pesos_manzanas_r)\n",
        "# std_pesos_r <- sd(pesos_manzanas_r)\n",
        "# cv_pesos_r <- (std_pesos_r / media_pesos_r) * 100\n",
        "# cat(sprintf(\"Pesos Manzanas (R): %s\\n\", paste(pesos_manzanas_r, collapse=\", \")))\n",
        "# cat(sprintf(\"CV Pesos Manzanas (R): %.2f%%%%\\n\\n\", cv_pesos_r))\n",
        "#\n",
        "# # Ejercicio (R): Calcula el CV para el siguiente conjunto de datos de temperaturas (en Celsius):\n",
        "# # ej_temperaturas_r = c(20, 21, 20, 22, 23, 21)\n",
        "# # Tu código aquí\n",
        "# # media_temp_ej_r = ...\n",
        "# # std_temp_ej_r = ...\n",
        "# # cv_temp_ej_r = ...\n",
        "# # cat(sprintf(\"CV Temperaturas Ejercicio (R): %f\\n\", cv_temp_ej_r))\n"
      ]
    },
    {
      "cell_type": "markdown",
      "id": "c1eb35b8",
      "metadata": {
        "id": "c1eb35b8"
      },
      "source": [
        "_**La dispersión complementa la tendencia:** Conocer solo la media o la mediana de un conjunto de datos es como ver solo la punta del iceberg. Para una comprensión completa, siempre debemos complementar las medidas de tendencia central con las medidas de dispersión. Estas nos brindan el contexto necesario para tomar decisiones más informadas y evitar sorpresas._\n"
      ]
    },
    {
      "cell_type": "markdown",
      "id": "05b5c9a5",
      "metadata": {
        "id": "05b5c9a5"
      },
      "source": [
        "## ¡Consolida tus habilidades!\n",
        "\n",
        "La práctica constante con las herramientas y los conceptos de este módulo te permitirá construir una base sólida para el análisis de datos. Realiza los ejercicios y explora para afianzar tus conocimientos.\n",
        "\n",
        "¡Esperamos que este cuaderno te sea de gran utilidad!\n"
      ]
    }
  ],
  "metadata": {
    "kernelspec": {
      "display_name": "Python 3",
      "language": "python",
      "name": "python3"
    },
    "language_info": {
      "codemirror_mode": {
        "name": "ipython",
        "version": 3
      },
      "file_extension": ".py",
      "mimetype": "text/x-python",
      "name": "python",
      "nbconvert_exporter": "python",
      "pygments_lexer": "ipython3",
      "version": "3.10.12"
    },
    "colab": {
      "provenance": []
    }
  },
  "nbformat": 4,
  "nbformat_minor": 5
}