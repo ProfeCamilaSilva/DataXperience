{
  "cells": [
    {
      "cell_type": "markdown",
      "id": "5f4b7024",
      "metadata": {
        "id": "5f4b7024"
      },
      "source": [
        "# Funciones en Programación y Paquetes Esenciales para Ciencia de Datos\n",
        "\n",
        "Este cuaderno explora dos pilares fundamentales en la programación y la ciencia de datos: las funciones y el uso de paquetes o librerías."
      ]
    },
    {
      "cell_type": "markdown",
      "id": "1ae440e3",
      "metadata": {
        "id": "1ae440e3"
      },
      "source": [
        "## Funciones en Programación\n",
        "\n",
        "### Definición y Uso de Funciones\n",
        "\n",
        "Una función es un bloque de código reutilizable diseñado para realizar una tarea específica. Las funciones ayudan a organizar el código, hacerlo más legible, modular y evitan la repetición (principio DRY: Don't Repeat Yourself).\n",
        "\n",
        "La sintaxis básica para definir una función en Python es:\n",
        "\n",
        "```python\n",
        "def NOMBRE_FUNCION(argumento1, argumento2, ...):\n",
        "    # Cuerpo de la función\n",
        "    # Realiza operaciones\n",
        "    return resultado # Opcional: devuelve un valor\n",
        "```\n",
        "\n",
        "*   `def`: Palabra clave para definir una función.\n",
        "*   `NOMBRE_FUNCION`: Nombre identificador de la función (sin espacios, sin acentos, siguiendo convenciones de Python).\n",
        "*   `argumento`: Valores de entrada que la función recibe para operar con ellos.\n",
        "*   `return`: Opcional. Permite que la función devuelva un resultado. Si no se usa, la función devuelve `None` por defecto.\n",
        "*   **Indentación**: Es crucial en Python. Define los bloques de código. Todo lo que esté dentro de la función debe estar indentado.\n",
        "*   **Docstrings (`\"\"\"...\"\"\"`)**: Cadenas de documentación que explican el propósito de la función. Son una buena práctica para hacer tu código auto-documentado.\n"
      ]
    },
    {
      "cell_type": "code",
      "execution_count": null,
      "id": "5c1ebd56",
      "metadata": {
        "id": "5c1ebd56"
      },
      "outputs": [],
      "source": [
        "# Ejemplo de función simple\n",
        "def saludar(nombre):\n",
        "    \"\"\"Esta función imprime un saludo personalizado.\"\"\"\n",
        "    print(f\"¡Hola, {nombre}!\")\n",
        "\n",
        "# Llamada a la función\n",
        "saludar(\"Mundo\")\n",
        "saludar(\"Ana\")\n"
      ]
    },
    {
      "cell_type": "markdown",
      "id": "50e104d0",
      "metadata": {
        "id": "50e104d0"
      },
      "source": [
        "### Tipos de Funciones y Control de Flujo\n",
        "\n",
        "Las funciones no solo organizan el código, sino que también interactúan con las estructuras de control de flujo, que son esenciales para la lógica y el comportamiento del programa.\n",
        "\n",
        "*   **Funciones Iterativas**: Aquellas que no se llaman a sí mismas. Realizan tareas secuenciales o repetitivas mediante bucles.\n",
        "*   **Funciones Recursivas**: Aquellas que se llaman a sí mismas para resolver problemas que pueden dividirse en subproblemas más pequeños. Son útiles para problemas con una estructura auto-similar (ej. cálculo de factoriales, recorrido de árboles).\n",
        "\n",
        "**Estructuras de control de flujo** (imprescindibles dentro de las funciones y en el programa en general):\n",
        "\n",
        "| Estructura | Uso Principal | Ejemplo |\n",
        "| :--------- | :------------ | :------ |\n",
        "| `if`       | Ejecutar un bloque si se cumple una condición | `if x > 0:` |\n",
        "| `else`     | Alternativa al `if` cuando no se cumple | `else:` |\n",
        "| `elif`     | Otra condición si la anterior no se cumple | `elif x == 0:` |\n",
        "| `for`      | Iterar sobre una secuencia | `for i in lista:` |\n",
        "| `while`    | Repetir mientras se cumpla una condición | `while x < 10:` |\n",
        "| `break`    | Salir del bucle antes de que termine | `if x == 5: break` |\n",
        "| `continue` | Saltar a la siguiente iteración del bucle | `if x == 3: continue` |\n"
      ]
    },
    {
      "cell_type": "code",
      "execution_count": null,
      "id": "44e22cab",
      "metadata": {
        "id": "44e22cab"
      },
      "outputs": [],
      "source": [
        "# Ejemplo de Función Recursiva: Factorial\n",
        "def factorial(n):\n",
        "    if n <= 1:\n",
        "        return 1\n",
        "    else:\n",
        "        return n * factorial(n - 1)\n",
        "\n",
        "print(f\"Factorial de 5: {factorial(5)}\")  # Salida: 120\n",
        "print(f\"Factorial de 0: {factorial(0)}\")  # Salida: 1\n"
      ]
    },
    {
      "cell_type": "code",
      "execution_count": null,
      "id": "eb018c95",
      "metadata": {
        "id": "eb018c95"
      },
      "outputs": [],
      "source": [
        "# Ejemplo de Función con Control de Flujo (if-else)\n",
        "def es_par(numero):\n",
        "    \"\"\"Verifica si un número es par o impar.\"\"\"\n",
        "    if numero % 2 == 0:\n",
        "        print(f\"{numero} es un número par.\")\n",
        "    else:\n",
        "        print(f\"{numero} es un número impar.\")\n",
        "\n",
        "es_par(4)\n",
        "es_par(7)\n"
      ]
    },
    {
      "cell_type": "code",
      "execution_count": null,
      "id": "c0ba5d03",
      "metadata": {
        "id": "c0ba5d03"
      },
      "outputs": [],
      "source": [
        "# Ejemplo de Función con Bucle (for)\n",
        "def contar_hasta(limite):\n",
        "    \"\"\"Cuenta e imprime números desde 1 hasta el límite.\"\"\"\n",
        "    print(f\"Contando hasta {limite}:\")\n",
        "    for i in range(1, limite + 1):\n",
        "        print(i)\n",
        "\n",
        "contar_hasta(5)\n"
      ]
    },
    {
      "cell_type": "code",
      "execution_count": null,
      "id": "dc5488d6",
      "metadata": {
        "id": "dc5488d6"
      },
      "outputs": [],
      "source": [
        "# Ejemplo de Función con Bucle (while) y break\n",
        "def buscar_numero(lista, objetivo):\n",
        "    \"\"\"Busca un número en una lista y se detiene si lo encuentra.\"\"\"\n",
        "    i = 0\n",
        "    while i < len(lista):\n",
        "        if lista[i] == objetivo:\n",
        "            print(f\"¡Encontrado {objetivo} en la posición {i}!\")\n",
        "            break  # Sale del bucle\n",
        "        i += 1\n",
        "    else: # Se ejecuta si el bucle while termina sin break\n",
        "        print(f\"{objetivo} no se encontró en la lista.\")\n",
        "\n",
        "mis_numeros = [10, 20, 30, 40, 50]\n",
        "buscar_numero(mis_numeros, 30)\n",
        "buscar_numero(mis_numeros, 60)\n"
      ]
    },
    {
      "cell_type": "markdown",
      "id": "850e578a",
      "metadata": {
        "id": "850e578a"
      },
      "source": [
        "## Paquetes Esenciales en Python y R para Ciencia de Datos\n",
        "\n",
        "### ¿Qué son los paquetes o librerías?\n",
        "\n",
        "Un paquete o librería es un conjunto de módulos y funciones preescritas que extienden las capacidades de un lenguaje de programación. Son como 'superpoderes' que añades a tu lenguaje, permitiéndote realizar tareas complejas de manera más eficiente y con menos código.\n",
        "\n",
        "### Paquetes clave en Python para Ciencia de Datos\n",
        "\n",
        "| Paquete | ¿Para qué sirve? | Código de instalación (pip) |\n",
        "| :------ | :--------------- | :------------------------- |\n",
        "| `pandas` | Manipulación y análisis de datos (tablas, CSV, limpieza) | `pip install pandas` |\n",
        "| `numpy` | Cálculos numéricos, arrays y operaciones matemáticas de alto rendimiento | `pip install numpy` |\n",
        "| `matplotlib` | Creación de gráficos estáticos, interactivos y animados | `pip install matplotlib` |\n",
        "| `seaborn` | Visualización de datos estadísticos atractivos y complejos (basado en matplotlib) | `pip install seaborn` |\n",
        "| `scikit-learn` | Machine Learning (modelos predictivos, clasificación, regresión, clustering) | `pip install scikit-learn` |\n",
        "| `statsmodels` | Análisis estadístico clásico (regresión lineal, series de tiempo, etc.) | `pip install statsmodels` |\n",
        "\n",
        "**Ejemplo de uso de `pandas`:**\n"
      ]
    },
    {
      "cell_type": "code",
      "execution_count": null,
      "id": "b7703efe",
      "metadata": {
        "id": "b7703efe"
      },
      "outputs": [],
      "source": [
        "import pandas as pd\n",
        "\n",
        "# Crear un DataFrame de ejemplo\n",
        "data = {\n",
        "    'Nombre': ['Ana', 'Luis', 'Marta', 'Pedro'],\n",
        "    'Edad': [28, 34, 29, 42],\n",
        "    'Ciudad': ['Madrid', 'Barcelona', 'Valencia', 'Sevilla']\n",
        "}\n",
        "df = pd.DataFrame(data)\n",
        "\n",
        "print(\"DataFrame creado:\")\n",
        "print(df)\n",
        "\n",
        "# Acceder a una columna\n",
        "print(\"\n",
        "Columna 'Edad':\")\n",
        "print(df['Edad'])\n",
        "\n",
        "# Filtrar datos\n",
        "print(\"\n",
        "Personas mayores de 30:\")\n",
        "print(df[df['Edad'] > 30])\n"
      ]
    },
    {
      "cell_type": "markdown",
      "id": "a6984365",
      "metadata": {
        "id": "a6984365"
      },
      "source": [
        "### Paquetes clave en R para Ciencia de Datos\n",
        "\n",
        "Aunque este cuaderno se centra en Python, es importante conocer los equivalentes en R, un lenguaje muy popular en estadística.\n",
        "\n",
        "| Paquete | ¿Para qué sirve? | Código de instalación (R) |\n",
        "| :------ | :--------------- | :----------------------- |\n",
        "| `tidyverse` | Colección de paquetes para manipulación, visualización y modelado de datos (incluye `dplyr`, `ggplot2`, `readr`) | `install.packages(\"tidyverse\")` |\n",
        "| `ggplot2` | Creación de gráficos estadísticos profesionales y altamente personalizables | Incluido en `tidyverse` |\n",
        "| `dplyr` | Manipulación de datos de forma elegante y eficiente | Incluido en `tidyverse` |\n",
        "| `readr` | Lectura rápida y robusta de archivos de datos (ej. .csv, .tsv) | Incluido en `tidyverse` |\n",
        "| `caret` | Modelado predictivo, clasificación, regresión (interfaz unificada para muchos algoritmos) | `install.packages(\"caret\")` |\n",
        "| `lubridate` | Manejo y manipulación de fechas y tiempos | `install.packages(\"lubridate\")` |\n",
        "\n",
        "**Ejemplo conceptual de uso de `dplyr` en R:**\n",
        "```R\n",
        "library(dplyr)\n",
        "data <- read.csv(\"archivo.csv\")\n",
        "data %>% filter(edad > 18) # Filtra filas donde la edad es mayor a 18\n",
        "```\n"
      ]
    },
    {
      "cell_type": "markdown",
      "id": "011ab645",
      "metadata": {
        "id": "011ab645"
      },
      "source": [
        "### Ruta de aplicación: ¿Cuándo usar cada paquete?\n",
        "\n",
        "La elección del paquete depende de la etapa del ciclo de vida de los datos y del lenguaje que estés utilizando:\n",
        "\n",
        "| Etapa del Ciclo de Datos | Python (Paquetes Comunes) | R (Paquetes Comunes) |\n",
        "| :----------------------- | :------------------------ | :------------------ |\n",
        "| 📥 Cargar/Limpiar datos | `pandas`, `numpy` | `readr`, `dplyr` |\n",
        "| 📊 Visualizar datos | `matplotlib`, `seaborn` | `ggplot2` |\n",
        "| 📈 Analizar y Modelar | `statsmodels`, `scikit-learn` | `stats`, `caret` |\n",
        "| ⏱ Manejo de Fechas/Horas | `datetime` (módulo built-in), `pandas` | `lubridate` |\n",
        "| 🔀 Preparar modelos | `scikit-learn` | `caret` |\n",
        "\n",
        "**Actividad Interactiva (para el estudiante):**\n",
        "1.  Elige una etapa del ciclo de vida de los datos (ej. limpieza, visualización, modelado).\n",
        "2.  Asigna un paquete de Python y otro de R que usarías para esa etapa.\n",
        "3.  Explica brevemente por qué elegirías esos paquetes y qué ventajas ofrecen en su respectivo lenguaje.\n",
        "\n",
        "*Puedes escribir tus respuestas en una celda de texto o código aquí mismo.*\n"
      ]
    },
    {
      "cell_type": "markdown",
      "id": "a0612afb",
      "metadata": {
        "id": "a0612afb"
      },
      "source": [
        "## ¡Consolida tus habilidades!\n",
        "\n",
        "La práctica constante con la definición y el uso de funciones, así como el manejo de paquetes, te permitirá escribir código más eficiente, organizado y potente para el análisis de datos. Realiza los ejercicios y explora para afianzar tus conocimientos.\n",
        "\n",
        "**¿Sabías qué...?**\n",
        "Python fue diseñado con legibilidad en mente, mientras que R nació en la comunidad estadística. ¡Por eso, sus paquetes reflejan sus fortalezas!\n",
        "\n",
        "*“Dominar un lenguaje es útil. Dominar sus paquetes… es poderoso.”*\n",
        "\n",
        "A medida que avances en ciencia de datos, estos paquetes serán tus mejores aliados. Aprenderás no solo a usarlos, sino a combinarlos como un verdadero científico de datos.\n",
        "\n",
        "¡Esperamos que este cuaderno te sea de gran utilidad!\n"
      ]
    }
  ],
  "metadata": {
    "colab": {
      "provenance": []
    }
  },
  "nbformat": 4,
  "nbformat_minor": 5
}