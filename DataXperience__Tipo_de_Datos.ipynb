{
  "cells": [
    {
      "cell_type": "markdown",
      "metadata": {
        "id": "HUBZEQFT6F2i"
      },
      "source": [
        "# Bienvenidos a DataXperience, un acercamiento a los datos desde la ciencia\n",
        "\n",
        "En este cuaderno encontrarás los diferentes tipos de datos y cómo identificarlos.\n"
      ]
    },
    {
      "cell_type": "markdown",
      "metadata": {
        "id": "SJ4wNkCq6F2j"
      },
      "source": [
        "## Imprimir en la pantalla\n",
        "\n",
        "La función `print()` es fundamental en Python para mostrar información en la consola.\n"
      ]
    },
    {
      "cell_type": "code",
      "execution_count": null,
      "metadata": {
        "id": "JCMI4DZQ6F2k"
      },
      "outputs": [],
      "source": [
        "print(\"Hola Mundo\")\n",
        "print(\"Bienvenido a DataXperience\")"
      ]
    },
    {
      "cell_type": "markdown",
      "metadata": {
        "id": "NH1e_wN46F2k"
      },
      "source": [
        "## Comentarios\n",
        "\n",
        "Los comentarios son líneas de código que el intérprete de Python ignora. Son útiles para explicar el código y hacerlo más legible.\n"
      ]
    },
    {
      "cell_type": "code",
      "execution_count": null,
      "metadata": {
        "id": "CIzeaJLL6F2l"
      },
      "outputs": [],
      "source": [
        "# Comentario de una sola línea\n",
        "\n",
        "\"\"\"\n",
        "Este es un comentario\n",
        "de varias líneas.\n",
        "\"\"\""
      ]
    },
    {
      "cell_type": "markdown",
      "metadata": {
        "id": "fKEeLuIn6F2l"
      },
      "source": [
        "## Variables\n",
        "\n",
        "Una variable es un nombre que se usa para almacenar un valor. En Python, no necesitas declarar el tipo de la variable antes de usarla.\n",
        "\n"
      ]
    },
    {
      "cell_type": "code",
      "execution_count": null,
      "metadata": {
        "id": "lzuKJ5qy6F2l"
      },
      "outputs": [],
      "source": [
        "x = 3\n",
        "print(x)"
      ]
    },
    {
      "cell_type": "markdown",
      "metadata": {
        "id": "lh344qs06F2l"
      },
      "source": [
        "## ADN de los Datos: Comprendiendo los Tipos de Datos\n",
        "\n",
        "En ciencia de datos, los **tipos de datos** son la forma en que los programas entienden y procesan la información. Algunos datos representan números, palabras, fechas, o simplemente sí/no.\n",
        "\n",
        "### Tipos principales en Python:\n",
        "\n",
        "| Tipo lógico | Ejemplo | Qué representa |\n",
        "| :---------- | :------ | :------------ |\n",
        "| Numérico entero | `5` | Edad, conteo |\n",
        "| Numérico decimal | `3.14` | Promedios, precios |\n",
        "| Cadena de texto | `\"Hola\"` | Nombres, categorías |\n",
        "| Lógico/booleano | `True / False` | ¿Es mayor de edad? |\n",
        "| Fecha / hora | `datetime.date(2023, 6, 19)` | Tiempos, cronología |\n",
        "| Estructuras | `listas, diccionarios` | Agrupaciones complejas |\n"
      ]
    },
    {
      "cell_type": "markdown",
      "source": [
        "### int (Enteros)\n",
        "Los enteros son números completos, positivos o negativos, sin decimales. En Python, los enteros tienen precisión arbitraria, lo que significa que pueden ser tan grandes como la memoria de tu sistema lo permita.\n",
        "\n",
        "Ejemplo:\n",
        "\n"
      ],
      "metadata": {
        "id": "aOa1mz0_9biI"
      }
    },
    {
      "cell_type": "code",
      "source": [
        "entero = 10"
      ],
      "metadata": {
        "id": "Rf-V-kfM-mNp"
      },
      "execution_count": 3,
      "outputs": []
    },
    {
      "cell_type": "markdown",
      "source": [
        "*   Conteo: Para representar cantidades discretas, como el número de estudiantes en una clase, la cantidad de productos en un inventario, o el número de veces que ocurre un evento.\n",
        "*   Identificadores: IDs de usuarios, números de registro, etc.\n",
        "*   Índices: Para acceder a elementos en listas, tuplas o cadenas de texto.\n",
        "*   Operaciones matemáticas: Sumas, restas, multiplicaciones, divisiones (cuando el resultado es un entero), y operaciones bit a bit."
      ],
      "metadata": {
        "id": "UTe2ccZl-u5U"
      }
    },
    {
      "cell_type": "markdown",
      "source": [
        "### float (Números de Punto Flotante)\n",
        "Los números de punto flotante, o flotantes, son números reales que tienen una parte decimal. Se utilizan para representar valores que no son enteros, como mediciones o cálculos financieros.\n",
        "\n",
        "Ejemplo:"
      ],
      "metadata": {
        "id": "NQthXzow-3ni"
      }
    },
    {
      "cell_type": "code",
      "source": [
        "decimal = 3.14"
      ],
      "metadata": {
        "id": "ACBIw1oH-9Ac"
      },
      "execution_count": null,
      "outputs": []
    },
    {
      "cell_type": "markdown",
      "source": [
        "*   Mediciones: Temperaturas, alturas, pesos, distancias.\n",
        "*   Cálculos científicos y de ingeniería: Donde se requiere precisión decimal.\n",
        "*   Valores monetarios: Precios, saldos de cuentas (aunque para aplicaciones financieras críticas a menudo se usan módulos como decimal para evitar problemas de precisión de punto flotante).\n",
        "*   Promedios y porcentajes: Resultados de divisiones que no son exactas."
      ],
      "metadata": {
        "id": "pRo14lVE_AGb"
      }
    },
    {
      "cell_type": "markdown",
      "source": [
        "### str (Cadenas de Texto)\n",
        "Las cadenas de texto son secuencias inmutables de caracteres. Se utilizan para almacenar texto, como nombres, mensajes, direcciones, etc. Pueden ser definidas con comillas simples (') o dobles (\")."
      ],
      "metadata": {
        "id": "xv8lpWlJ_PQY"
      }
    },
    {
      "cell_type": "code",
      "source": [
        "texto = \"Hola\""
      ],
      "metadata": {
        "id": "2AwGoZwn_Pr5"
      },
      "execution_count": null,
      "outputs": []
    },
    {
      "cell_type": "markdown",
      "source": [
        "*   Nombres y etiquetas: Nombres de personas, lugares, productos.\n",
        "*   Mensajes y descripciones: Cualquier tipo de texto que necesites mostrar o almacenar.\n",
        "*   Datos categóricos: En análisis de datos, para representar categorías (ej. 'Masculino', 'Femenino'; 'Alto', 'Medio', 'Bajo').\n",
        "*   Rutas de archivos y URLs: Direcciones de recursos en el sistema de archivos o en la web.\n",
        "\n",
        "\n",
        "\n"
      ],
      "metadata": {
        "id": "KCYkuGA1_QES"
      }
    },
    {
      "cell_type": "markdown",
      "source": [
        "### bool (Booleanos)\n",
        "Los booleanos representan uno de dos valores: True (verdadero) o False (falso). Son fundamentales para la lógica condicional y el control de flujo en la programación."
      ],
      "metadata": {
        "id": "kTjZxDiGHLJH"
      }
    },
    {
      "cell_type": "code",
      "source": [
        "booleano = True"
      ],
      "metadata": {
        "id": "98yEDjoZHLxC"
      },
      "execution_count": null,
      "outputs": []
    },
    {
      "cell_type": "markdown",
      "source": [
        "*   Condiciones lógicas: En sentencias if, while, for para determinar si una condición se cumple o no.\n",
        "*   Banderas (flags): Para indicar el estado de algo (ej. is_active = True, has_permission = False).\n",
        "*   Resultados de comparaciones: Operadores de comparación (==, !=, <, >, <=, >=) siempre devuelven un valor booleano."
      ],
      "metadata": {
        "id": "49HaCrqEHK7m"
      }
    },
    {
      "cell_type": "markdown",
      "source": [
        "### list (Listas)\n",
        "Las listas son colecciones ordenadas y mutables de elementos. Pueden contener elementos de diferentes tipos de datos y se definen usando corchetes []."
      ],
      "metadata": {
        "id": "Bk4KvfKmHKmL"
      }
    },
    {
      "cell_type": "code",
      "source": [
        "lista = [1, 2, 3]"
      ],
      "metadata": {
        "id": "iNlMpHicHpeY"
      },
      "execution_count": null,
      "outputs": []
    },
    {
      "cell_type": "markdown",
      "source": [
        "*   Colecciones de elementos: Cuando necesitas almacenar una serie de ítems que pueden cambiar (añadir, eliminar, modificar).\n",
        "*   Pilas y colas: Implementaciones básicas de estructuras de datos lineales.\n",
        "*   Iteración: Para recorrer y procesar una secuencia de datos.\n",
        "*   Almacenamiento temporal: Para guardar datos que se generarán o modificarán durante la ejecución del programa."
      ],
      "metadata": {
        "id": "zWUJZnPFHKZ0"
      }
    },
    {
      "cell_type": "markdown",
      "source": [
        "### tuple (Tuplas)\n",
        "Las tuplas son colecciones ordenadas e inmutables de elementos. Una vez que se crea una tupla, sus elementos no pueden ser modificados, añadidos o eliminados. Se definen usando paréntesis ()."
      ],
      "metadata": {
        "id": "JXn6ImC8HzbY"
      }
    },
    {
      "cell_type": "code",
      "source": [
        "tupla = (1, 2, 3)"
      ],
      "metadata": {
        "id": "3hcGt7SjH9-l"
      },
      "execution_count": null,
      "outputs": []
    },
    {
      "cell_type": "markdown",
      "source": [
        "*   Datos que no deben cambiar: Cuando tienes una colección de elementos que deben permanecer constantes, como coordenadas geográficas, fechas, o configuraciones fijas.\n",
        "*   Claves de diccionario: Las tuplas pueden ser usadas como claves en diccionarios porque son inmutables (las listas no pueden ser claves).\n",
        "*   Retorno de múltiples valores: Las funciones en Python a menudo devuelven múltiples valores como una tupla.\n",
        "*   Desempaquetado: Para asignar múltiples valores a múltiples variables de forma concisa."
      ],
      "metadata": {
        "id": "Lk3KmMUmHyUL"
      }
    },
    {
      "cell_type": "markdown",
      "source": [
        "### dict (Diccionarios)\n",
        "Los diccionarios son colecciones desordenadas y mutables de pares clave-valor. Cada clave debe ser única e inmutable (como cadenas, números o tuplas), y los valores pueden ser de cualquier tipo de dato. Se definen usando llaves {}."
      ],
      "metadata": {
        "id": "U13vihJIHzEd"
      }
    },
    {
      "cell_type": "code",
      "source": [
        "diccionario = {\"a\": 1}"
      ],
      "metadata": {
        "id": "eHYI9KsGIKtE"
      },
      "execution_count": null,
      "outputs": []
    },
    {
      "cell_type": "markdown",
      "source": [
        "*   Representación de objetos o registros: Para almacenar información estructurada donde cada pieza de datos tiene un nombre (clave) asociado (ej. datos de un usuario: {\"nombre\": \"Juan\", \"edad\": 30}).\n",
        "*   Mapeo de datos: Cuando necesitas asociar un valor con una clave específica para una búsqueda rápida.\n",
        "*   Configuraciones: Para almacenar ajustes o parámetros de una aplicación.\n",
        "*   JSON y APIs: Los diccionarios son la estructura de datos más común para trabajar con datos JSON y respuestas de APIs web.\n"
      ],
      "metadata": {
        "id": "Zq9ihRpXHy-r"
      }
    },
    {
      "cell_type": "markdown",
      "source": [
        "### set (Conjuntos)\n",
        "Los conjuntos son colecciones desordenadas y mutables de elementos únicos. No permiten elementos duplicados y se utilizan para operaciones matemáticas de conjuntos como unión, intersección y diferencia. Se definen usando llaves {} (similar a los diccionarios, pero solo con valores)."
      ],
      "metadata": {
        "id": "J0yV5YNVHy2X"
      }
    },
    {
      "cell_type": "markdown",
      "source": [
        "conjunto = {1, 2, 3}"
      ],
      "metadata": {
        "id": "MZksY0LmIcaK"
      }
    },
    {
      "cell_type": "markdown",
      "source": [
        "*   Eliminar duplicados: Para obtener una colección de elementos únicos de una lista o tupla.\n",
        "*   Pruebas de pertenencia eficientes: Para verificar rápidamente si un elemento está presente en una colección.\n",
        "*   Operaciones de conjuntos: Para encontrar elementos comunes entre dos colecciones (intersección), todos los elementos (unión), o elementos que están en un conjunto pero no en otro (diferencia)."
      ],
      "metadata": {
        "id": "tL5ArKtSHyZv"
      }
    },
    {
      "cell_type": "markdown",
      "metadata": {
        "id": "0Xa8b42V6F2l"
      },
      "source": [
        "### Ejemplos y cómo identificar el tipo de dato:\n"
      ]
    },
    {
      "cell_type": "code",
      "execution_count": 2,
      "metadata": {
        "id": "GrPPbTVp6F2l",
        "colab": {
          "base_uri": "https://localhost:8080/"
        },
        "outputId": "c38d738a-e2d4-41de-e801-15917c3166a6"
      },
      "outputs": [
        {
          "output_type": "stream",
          "name": "stdout",
          "text": [
            "entero: 10, Tipo: <class 'int'>\n",
            "decimal: 3.14, Tipo: <class 'float'>\n",
            "texto: Hola, Tipo: <class 'str'>\n",
            "booleano: True, Tipo: <class 'bool'>\n",
            "lista: [1, 2, 3], Tipo: <class 'list'>\n",
            "tupla: (1, 2, 3), Tipo: <class 'tuple'>\n",
            "diccionario: {'a': 1}, Tipo: <class 'dict'>\n",
            "conjunto: {1, 2, 3}, Tipo: <class 'set'>\n"
          ]
        }
      ],
      "source": [
        "# Ejemplos de tipos de datos en Python\n",
        "entero = 10                  # int\n",
        "decimal = 3.14               # float\n",
        "texto = \"Hola\"              # str\n",
        "booleano = True             # bool\n",
        "lista = [1, 2, 3]           # list\n",
        "tupla = (1, 2, 3)           # tuple\n",
        "diccionario = {\"a\": 1}     # dict\n",
        "conjunto = {1, 2, 3}        # set\n",
        "\n",
        "# Imprimir el tipo de cada uno\n",
        "print(f\"entero: {entero}, Tipo: {type(entero)}\")\n",
        "print(f\"decimal: {decimal}, Tipo: {type(decimal)}\")\n",
        "print(f\"texto: {texto}, Tipo: {type(texto)}\")\n",
        "print(f\"booleano: {booleano}, Tipo: {type(booleano)}\")\n",
        "print(f\"lista: {lista}, Tipo: {type(lista)}\")\n",
        "print(f\"tupla: {tupla}, Tipo: {type(tupla)}\")\n",
        "print(f\"diccionario: {diccionario}, Tipo: {type(diccionario)}\")\n",
        "print(f\"conjunto: {conjunto}, Tipo: {type(conjunto)}\")\n"
      ]
    },
    {
      "cell_type": "markdown",
      "metadata": {
        "id": "UQSDHAGF6F2m"
      },
      "source": [
        "### Conversión de tipos de datos\n",
        "\n",
        "Python te permite convertir datos de un tipo a otro usando funciones de conversión de tipo.\n"
      ]
    },
    {
      "cell_type": "code",
      "execution_count": null,
      "metadata": {
        "id": "IuMj_Oj26F2m"
      },
      "outputs": [],
      "source": [
        "# Convertir texto a número decimal\n",
        "num_decimal = float(\"3.5\")\n",
        "print(f\"Texto \"3.5\" convertido a float: {num_decimal}, Tipo: {type(num_decimal)}\")\n",
        "\n",
        "# Convertir número a texto\n",
        "texto_num = str(42)\n",
        "print(f\"Número 42 convertido a str: {texto_num}, Tipo: {type(texto_num)}\")\n",
        "\n",
        "# Intenta convertir un entero a booleano\n",
        "bool_entero = bool(0) # 0 es False, cualquier otro número es True\n",
        "print(f\"Entero 0 convertido a bool: {bool_entero}, Tipo: {type(bool_entero)}\")\n",
        "bool_entero_2 = bool(100)\n",
        "print(f\"Entero 100 convertido a bool: {bool_entero_2}, Tipo: {type(bool_entero_2)}\")\n"
      ]
    },
    {
      "cell_type": "markdown",
      "metadata": {
        "id": "Lno0t6O76F2m"
      },
      "source": [
        "## Ejercicios Dinámicos\n",
        "\n",
        "¡Ahora es tu turno de practicar! Intenta resolver los siguientes ejercicios para consolidar tu comprensión de los tipos de datos en Python.\n"
      ]
    },
    {
      "cell_type": "markdown",
      "metadata": {
        "id": "lgUK0dZU6F2m"
      },
      "source": [
        "### Ejercicio 1: Identificación de Tipos\n",
        "\n",
        "Crea una variable para cada uno de los siguientes valores y luego imprime su tipo de dato:\n",
        "\n",
        "1.  Tu edad (número entero)\n",
        "2.  Tu altura en metros (número decimal)\n",
        "3.  Tu nombre completo (cadena de texto)\n",
        "4.  ¿Te gusta programar? (booleano)\n",
        "5.  Una lista de tus tres comidas favoritas\n"
      ]
    },
    {
      "cell_type": "code",
      "execution_count": null,
      "metadata": {
        "id": "dYxMD4WL6F2m"
      },
      "outputs": [],
      "source": [
        "# Escribe tu código aquí\n",
        "edad = # Completa con tu edad\n",
        "altura = # Completa con tu altura\n",
        "nombre = # Completa con tu nombre\n",
        "gusta_programar = # Completa con True o False\n",
        "comidas_favoritas = # Completa con una lista de 3 comidas\n",
        "\n",
        "print(f\"Edad: {edad}, Tipo: {type(edad)}\")\n",
        "print(f\"Altura: {altura}, Tipo: {type(altura)}\")\n",
        "print(f\"Nombre: {nombre}, Tipo: {type(nombre)}\")\n",
        "print(f\"¿Te gusta programar?: {gusta_programar}, Tipo: {type(gusta_programar)}\")\n",
        "print(f\"Comidas favoritas: {comidas_favoritas}, Tipo: {type(comidas_favoritas)}\")\n"
      ]
    },
    {
      "cell_type": "markdown",
      "metadata": {
        "id": "OyFNUeIK6F2m"
      },
      "source": [
        "### Ejercicio 2: Conversión de Tipos\n",
        "\n",
        "Realiza las siguientes conversiones y verifica el tipo de dato resultante:\n",
        "\n",
        "1.  Convierte la cadena de texto `\"123\"` a un número entero.\n",
        "2.  Convierte el número `15.7` a una cadena de texto.\n",
        "3.  Convierte el número `0` a un booleano.\n",
        "4.  Convierte el número `50` a un booleano.\n"
      ]
    },
    {
      "cell_type": "code",
      "execution_count": null,
      "metadata": {
        "id": "8rCVhTph6F2m"
      },
      "outputs": [],
      "source": [
        "# Escribe tu código aquí\n",
        "cadena_a_entero = # Convierte \"123\" a entero\n",
        "num_a_cadena = # Convierte 15.7 a cadena\n",
        "cero_a_booleano = # Convierte 0 a booleano\n",
        "cincuenta_a_booleano = # Convierte 50 a booleano\n",
        "\n",
        "print(f\"Cadena \"123\" a entero: {cadena_a_entero}, Tipo: {type(cadena_a_entero)}\")\n",
        "print(f\"Número 15.7 a cadena: {num_a_cadena}, Tipo: {type(num_a_cadena)}\")\n",
        "print(f\"Número 0 a booleano: {cero_a_booleano}, Tipo: {type(cero_a_booleano)}\")\n",
        "print(f\"Número 50 a booleano: {cincuenta_a_booleano}, Tipo: {type(cincuenta_a_booleano)}\")\n"
      ]
    },
    {
      "cell_type": "markdown",
      "metadata": {
        "id": "Mn1oS_Z86F2m"
      },
      "source": [
        "### Ejercicio 3: Operaciones con Tipos de Datos\n",
        "\n",
        "Realiza las siguientes operaciones y observa el resultado y el tipo de dato resultante:\n",
        "\n",
        "1.  Suma un entero (`10`) y un decimal (`5.5`).\n",
        "2.  Concatena dos cadenas de texto: `\"Hola\"` y `\" Mundo\"`.\n",
        "3.  Multiplica un entero (`3`) por una cadena de texto (`\"abc\"`).\n",
        "4.  Realiza una división entera (`//`) entre `10` y `3`.\n"
      ]
    },
    {
      "cell_type": "code",
      "execution_count": null,
      "metadata": {
        "id": "gLghsjPH6F2m"
      },
      "outputs": [],
      "source": [
        "# Escribe tu código aquí\n",
        "suma_numeros = # Suma 10 y 5.5\n",
        "concatenacion_textos = # Concatena \"Hola\" y \" Mundo\"\n",
        "multiplicacion_cadena = # Multiplica 3 por \"abc\"\n",
        "division_entera = # División entera de 10 entre 3\n",
        "\n",
        "print(f\"Suma de números: {suma_numeros}, Tipo: {type(suma_numeros)}\")\n",
        "print(f\"Concatenación de textos: {concatenacion_textos}, Tipo: {type(concatenacion_textos)}\")\n",
        "print(f\"Multiplicación de cadena: {multiplicacion_cadena}, Tipo: {type(multiplicacion_cadena)}\")\n",
        "print(f\"División entera: {division_entera}, Tipo: {type(division_entera)}\")\n"
      ]
    },
    {
      "cell_type": "markdown",
      "metadata": {
        "id": "7JsvfiR76F2m"
      },
      "source": [
        "## ¡Comprender el ADN de tus Datos es Clave!\n",
        "\n",
        "Dominar los tipos y estructuras de datos es fundamental para cualquier análisis. Cada herramienta maneja estas estructuras de forma ligeramente diferente, pero los conceptos base son universales y te permitirán manipular y transformar la información de manera efectiva.\n",
        "\n",
        "¡Esperamos que este cuaderno te sea de gran utilidad en tu camino por la ciencia de datos!\n"
      ]
    }
  ],
  "metadata": {
    "kernelspec": {
      "display_name": "Python 3",
      "language": "python",
      "name": "python3"
    },
    "language_info": {
      "codemirror_mode": {
        "name": "ipython",
        "version": 3
      },
      "file_extension": ".py",
      "mimetype": "text/x-python",
      "name": "python",
      "nbconvert_exporter": "python",
      "pygments_lexer": "ipython3",
      "version": "3.9.7"
    },
    "colab": {
      "provenance": []
    }
  },
  "nbformat": 4,
  "nbformat_minor": 0
}
