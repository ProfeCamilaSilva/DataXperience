{
  "cells": [
    {
      "cell_type": "markdown",
      "id": "39a1ee12",
      "metadata": {
        "id": "39a1ee12"
      },
      "source": [
        "# Operadores, Jerarquía de Operaciones y Funciones en Python\n",
        "\n",
        "¡Bienvenidos a este cuaderno interactivo! Aquí exploraremos los conceptos fundamentales de los operadores, la jerarquía de operaciones y las funciones en Python, con ejemplos claros y ejercicios prácticos para que puedas consolidar tu aprendizaje."
      ]
    },
    {
      "cell_type": "markdown",
      "id": "4225a020",
      "metadata": {
        "id": "4225a020"
      },
      "source": [
        "## Operadores y Jerarquía entre Operaciones\n",
        "\n",
        "Comprender cómo se procesan los cálculos en código es esencial para escribir programas correctos y eficientes. Los operadores son los bloques de construcción de cualquier expresión matemática o lógica en Python."
      ]
    },
    {
      "cell_type": "markdown",
      "id": "0d68e02b",
      "metadata": {
        "id": "0d68e02b"
      },
      "source": [
        "### Conceptos Fundamentales de Operadores\n",
        "\n",
        "Los operadores son símbolos especiales que realizan operaciones sobre uno o más valores (llamados operandos). Python clasifica los operadores en varias categorías:\n",
        "\n",
        "#### Categoría de Operadores\n",
        "\n",
        "| Categoría | Operadores | Descripción | Ejemplo y Resultado |\n",
        "| :-------- | :--------- | :---------- | :------------------ |\n",
        "| **Aritméticos** | `+` | Suma | `7 + 3  # 10` |\n",
        "|           | `-` | Resta | `7 - 3  # 4` |\n",
        "|           | `*` | Multiplicación | `7 * 3  # 21` |\n",
        "|           | `/` | División (flotante) | `9 / 2  # 4.5` |\n",
        "|           | `//` | División entera | `9 // 2  # 4` |\n",
        "|           | `%` | Módulo (resto) | `9 % 2  # 1` |\n",
        "|           | `**` | Exponenciación | `2 ** 3  # 8` |\n",
        "| **Comparación** | `==` | Igual a | `5 == 3  # False` |\n",
        "|           | `!=` | Diferente de | `5 != 3  # True` |\n",
        "|           | `<` | Menor que | `5 < 3  # False` |\n",
        "|           | `>` | Mayor que | `5 > 3  # True` |\n",
        "|           | `<=` | Menor o igual que | `5 <= 5  # True` |\n",
        "|           | `>=` | Mayor o igual que | `5 >= 3  # True` |\n",
        "| **Lógicos** | `and` | AND lógico | `True and False  # False` |\n",
        "|           | `or` | OR lógico | `True or False  # True` |\n",
        "|           | `not` | NOT lógico | `not True  # False` |\n",
        "\n",
        "*Los operadores de comparación siempre devuelven un valor booleano (`True` o `False`).*\n",
        "*Los operadores lógicos se utilizan para combinar expresiones booleanas.*"
      ]
    },
    {
      "cell_type": "markdown",
      "id": "79ee80b7",
      "metadata": {
        "id": "79ee80b7"
      },
      "source": [
        "#### Ejemplos de Operadores en Acción\n"
      ]
    },
    {
      "cell_type": "code",
      "execution_count": null,
      "id": "7e7410e4",
      "metadata": {
        "id": "7e7410e4",
        "colab": {
          "base_uri": "https://localhost:8080/"
        },
        "outputId": "f62cbee6-666a-42b3-a8ac-b52baa509fc7"
      },
      "outputs": [
        {
          "output_type": "stream",
          "name": "stdout",
          "text": [
            "Suma (10 + 5): 15\n",
            "Resta (10 - 5): 5\n",
            "Multiplicación (10 * 5): 50\n",
            "División (10 / 3): 3.3333333333333335\n",
            "División Entera (10 // 3): 3\n",
            "Módulo (10 % 3): 1\n",
            "Exponente (2 ** 3): 8\n",
            "5 == 5: True\n",
            "5 != 3: True\n",
            "5 > 3: True\n",
            "5 < 3: False\n",
            "5 >= 5: True\n",
            "5 <= 3: False\n",
            "True and False: False\n",
            "True or False: True\n",
            "not True: False\n"
          ]
        }
      ],
      "source": [
        "# Operadores Aritméticos\n",
        "print(f\"Suma (10 + 5): {10 + 5}\")\n",
        "print(f\"Resta (10 - 5): {10 - 5}\")\n",
        "print(f\"Multiplicación (10 * 5): {10 * 5}\")\n",
        "print(f\"División (10 / 3): {10 / 3}\")\n",
        "print(f\"División Entera (10 // 3): {10 // 3}\")\n",
        "print(f\"Módulo (10 % 3): {10 % 3}\")\n",
        "print(f\"Exponente (2 ** 3): {2 ** 3}\")\n",
        "\n",
        "# Operadores de Comparación\n",
        "print(f\"5 == 5: {5 == 5}\")\n",
        "print(f\"5 != 3: {5 != 3}\")\n",
        "print(f\"5 > 3: {5 > 3}\")\n",
        "print(f\"5 < 3: {5 < 3}\")\n",
        "print(f\"5 >= 5: {5 >= 5}\")\n",
        "print(f\"5 <= 3: {5 <= 3}\")\n",
        "\n",
        "# Operadores Lógicos\n",
        "print(f\"True and False: {True and False}\")\n",
        "print(f\"True or False: {True or False}\")\n",
        "print(f\"not True: {not True}\")\n"
      ]
    },
    {
      "cell_type": "code",
      "execution_count": null,
      "id": "65850885",
      "metadata": {
        "id": "65850885",
        "colab": {
          "base_uri": "https://localhost:8080/"
        },
        "outputId": "5ec4b83c-840d-46f6-eb3b-15f605862c0f"
      },
      "outputs": [
        {
          "output_type": "stream",
          "name": "stdout",
          "text": [
            "10 + 5 * 2 = 20\n",
            "(10 + 5) * 2 = 30\n",
            "¿a > b? True\n",
            "¿a < b? False\n",
            "¿Soleado Y sin viento? True\n",
            "¿Soleado O con viento? True\n",
            "(20 / 5) + 3 * 2 = 10.0\n"
          ]
        }
      ],
      "source": [
        "# Ejemplos de operadores y jerarquía\n",
        "\n",
        "# 1. Multiplicación y división antes de suma y resta\n",
        "resultado1 = 10 + 5 * 2\n",
        "# Se calcula 5 * 2 = 10, luego 10 + 10 = 20\n",
        "print(f\"10 + 5 * 2 = {resultado1}\") # Output: 20\n",
        "\n",
        "# 2. Uso de paréntesis para cambiar la jerarquía\n",
        "resultado2 = (10 + 5) * 2\n",
        "# Se calcula (10 + 5) = 15, luego 15 * 2 = 30\n",
        "print(f\"(10 + 5) * 2 = {resultado2}\") # Output: 30\n",
        "\n",
        "# 3. Operadores de comparación\n",
        "a = 15\n",
        "b = 8\n",
        "print(f\"¿a > b? {a > b}\") # Output: True\n",
        "print(f\"¿a < b? {a < b}\") # Output: False\n",
        "\n",
        "# 4. Operadores lógicos (AND, OR, NOT)\n",
        "es_soleado = True\n",
        "hay_viento = False\n",
        "\n",
        "# AND: Ambos deben ser verdaderos\n",
        "print(f\"¿Soleado Y sin viento? {es_soleado and not hay_viento}\") # Output: True\n",
        "\n",
        "# OR: Al menos uno debe ser verdadero\n",
        "print(f\"¿Soleado O con viento? {es_soleado or hay_viento}\") # Output: True\n",
        "\n",
        "# 5. Combinando operaciones\n",
        "x = 20\n",
        "y = 5\n",
        "z = 3\n",
        "calculo_complejo = (x / y) + z * 2\n",
        "# (20 / 5) = 4, luego 3 * 2 = 6, luego 4 + 6 = 10\n",
        "print(f\"(20 / 5) + 3 * 2 = {calculo_complejo}\") # Output: 10\n",
        "\n",
        "# --- ¡Zona para tu código modificable! ---\n",
        "# Intenta cambiar los valores de las variables o las operaciones\n",
        "# para ver cómo cambia el resultado.\n",
        "\n",
        "# Por ejemplo:\n",
        "# mi_numero = 7\n",
        "# otro_numero = 3\n",
        "# mi_resultado = (mi_numero + otro_numero) * 2\n",
        "# print(f\"Mi resultado modificado: {mi_resultado}\")"
      ]
    },
    {
      "cell_type": "markdown",
      "id": "d64fa56b",
      "metadata": {
        "id": "d64fa56b"
      },
      "source": [
        "### Jerarquía de Operaciones: La Regla de Oro\n",
        "\n",
        "La Jerarquía de Operaciones (también conocida como orden de operaciones o precedencia de operadores) es una regla fundamental en matemáticas y programación que define el orden en que se deben evaluar las operaciones dentro de una expresión. Seguir esta regla es crucial para obtener el resultado esperado.\n",
        "\n",
        "El orden de precedencia en Python (de mayor a menor) es el siguiente:\n",
        "\n",
        "1.  **Paréntesis `()`**: Las operaciones dentro de paréntesis se evalúan primero.\n",
        "2.  **Exponenciación `**`**: Potencias.\n",
        "3.  **Multiplicación, División, División Entera, Módulo `*, /, //, %`**: Se evalúan de izquierda a derecha.\n",
        "4.  **Suma y Resta `+, -`**: Se evalúan de izquierda a derecha.\n",
        "5.  **Operadores de Comparación `==, !=, <, >, <=, >=`**: Se evalúan después de las operaciones aritméticas.\n",
        "6.  **Operadores Lógicos `not, and, or`**: `not` tiene la mayor precedencia, seguido de `and`, y finalmente `or`.\n",
        "\n",
        "\n",
        "\n",
        "#### Ejemplos de Jerarquía de Operaciones\n"
      ]
    },
    {
      "cell_type": "code",
      "execution_count": null,
      "id": "15a0a384",
      "metadata": {
        "id": "15a0a384",
        "colab": {
          "base_uri": "https://localhost:8080/"
        },
        "outputId": "93665c01-a1e4-4d81-bb6c-b4be9cf011f0"
      },
      "outputs": [
        {
          "output_type": "stream",
          "name": "stdout",
          "text": [
            "5 + 4 * 2 = 13\n",
            "(5 + 4) * 2 = 18\n",
            "10 - 2 ** 3 / 4 + 1 = 9.0\n"
          ]
        }
      ],
      "source": [
        "# Ejemplo 1: Multiplicación antes que suma\n",
        "resultado_ej1 = 5 + 4 * 2  # Primero 4 * 2 = 8, luego 5 + 8 = 13\n",
        "print(f\"5 + 4 * 2 = {resultado_ej1}\") # Imprime: 13\n",
        "\n",
        "# Ejemplo 2: Los paréntesis cambian el orden\n",
        "resultado_ej2 = (5 + 4) * 2 # Primero (5 + 4) = 9, luego 9 * 2 = 18\n",
        "print(f\"(5 + 4) * 2 = {resultado_ej2}\") # Imprime: 18\n",
        "\n",
        "# Ejemplo 3: Combinando operadores\n",
        "resultado_ej3 = 10 - 2 ** 3 / 4 + 1 # 2**3=8, 8/4=2, 10-2=8, 8+1=9\n",
        "print(f\"10 - 2 ** 3 / 4 + 1 = {resultado_ej3}\") # Imprime: 9.0\n"
      ]
    },
    {
      "cell_type": "markdown",
      "id": "74f533b0",
      "metadata": {
        "id": "74f533b0"
      },
      "source": [
        "## Sintaxis y “Hola Mundo” de Funciones\n",
        "\n",
        "Las funciones son bloques de código reutilizable que realizan una tarea específica. Son fundamentales para organizar, modularizar y hacer tu código más legible y mantenible. ¡Evitan la repetición y promueven la eficiencia!\n",
        "\n",
        "### Definiendo una Función en Python\n",
        "\n",
        "La palabra clave `def` se usa para definir una función, seguida del nombre de la función, paréntesis para los parámetros y dos puntos (`:`). El cuerpo de la función debe estar indentado.\n"
      ]
    },
    {
      "cell_type": "code",
      "execution_count": null,
      "id": "4911b62d",
      "metadata": {
        "id": "4911b62d",
        "colab": {
          "base_uri": "https://localhost:8080/"
        },
        "outputId": "dd33dd2c-8ec3-4565-d406-998ee4481477"
      },
      "outputs": [
        {
          "output_type": "stream",
          "name": "stdout",
          "text": [
            "¡Hola, DataXperience!\n",
            "¡Hola, Estudiante!\n"
          ]
        }
      ],
      "source": [
        "def saludo(persona):\n",
        "    \"\"\"Función que imprime un saludo personalizado.\"\"\"\n",
        "    print(f\"¡Hola, {persona}!\")\n",
        "\n",
        "# Llamando a la función\n",
        "saludo(\"DataXperience\") # Salida: ¡Hola, DataXperience!\n",
        "saludo(\"Estudiante\")    # Salida: ¡Hola, Estudiante!\n"
      ]
    },
    {
      "cell_type": "markdown",
      "id": "7ba2140d",
      "metadata": {
        "id": "7ba2140d"
      },
      "source": [
        "**Puntos clave sobre las funciones:**\n",
        "*   **`def`**: Palabra clave para definir la función.\n",
        "*   **Parámetros**: Valores de entrada que la función puede recibir (entre paréntesis).\n",
        "*   **`return`**: Opcional. Permite que la función devuelva un resultado. Si no se usa, la función devuelve `None` por defecto.\n",
        "*   **Indentación**: Es crucial en Python. Define los bloques de código. Todo lo que esté dentro de la función debe estar indentado.\n",
        "*   **Docstrings (`\"\"\"...\"\"\"`)**: Cadenas de documentación que explican el propósito de la función. Son una buena práctica para hacer tu código auto-documentado.\n",
        "\n",
        "Las funciones te permiten reutilizar código, haciendo tus programas más limpios, organizados y fáciles de depurar.\n"
      ]
    },
    {
      "cell_type": "markdown",
      "id": "5a697e7e",
      "metadata": {
        "id": "5a697e7e"
      },
      "source": [
        "## Ejercicios Dinámicos\n",
        "\n",
        "¡Ahora es tu turno de poner en práctica lo aprendido! Completa los siguientes ejercicios en las celdas de código proporcionadas.\n"
      ]
    },
    {
      "cell_type": "markdown",
      "id": "320c50ad",
      "metadata": {
        "id": "320c50ad"
      },
      "source": [
        "### Ejercicio 1: Predicción y Verificación de Operaciones\n",
        "\n",
        "Sin ejecutar el código, predice el resultado de las siguientes expresiones basándote en la jerarquía de operaciones. Luego, escribe el código para verificar tus predicciones.\n",
        "\n",
        "1.  `10 + 2 * 3 - 1`\n",
        "2.  `10 / 2 + 3 ** 2`\n",
        "3.  `(10 + 2) * (3 - 1)`\n",
        "4.  `True and (5 > 3) or False`\n",
        "5.  `not (10 == 10) and (20 != 20)`\n"
      ]
    },
    {
      "cell_type": "code",
      "execution_count": null,
      "id": "9cfcbd48",
      "metadata": {
        "id": "9cfcbd48"
      },
      "outputs": [],
      "source": [
        "# Predicción 1:\n",
        "# Código 1:\n",
        "print(10 + 2 * 3 - 1)\n",
        "\n",
        "# Predicción 2:\n",
        "# Código 2:\n",
        "print(10 / 2 + 3 ** 2)\n",
        "\n",
        "# Predicción 3:\n",
        "# Código 3:\n",
        "print((10 + 2) * (3 - 1))\n",
        "\n",
        "# Predicción 4:\n",
        "# Código 4:\n",
        "print(True and (5 > 3) or False)\n",
        "\n",
        "# Predicción 5:\n",
        "# Código 5:\n",
        "print(not (10 == 10) and (20 != 20))\n"
      ]
    },
    {
      "cell_type": "markdown",
      "id": "c2b17901",
      "metadata": {
        "id": "c2b17901"
      },
      "source": [
        "### Ejercicio 2: Creando y Usando Funciones\n",
        "\n",
        "1.  Crea una función llamada `es_par` que reciba un número entero como parámetro y devuelva `True` si el número es par, y `False` si es impar. Luego, prueba la función con al menos dos números diferentes.\n",
        "2.  Crea una función llamada `calcular_promedio` que reciba una lista de números como parámetro y devuelva el promedio de esos números. Luego, prueba la función con una lista de ejemplo.\n"
      ]
    },
    {
      "cell_type": "code",
      "execution_count": null,
      "id": "5de38a3b",
      "metadata": {
        "id": "5de38a3b"
      },
      "outputs": [],
      "source": [
        "# Ejercicio 2.1: Función es_par\n",
        "def es_par(numero):\n",
        "    return numero % 2 == 0\n",
        "\n",
        "# Prueba la función aquí\n",
        "print(f\"¿Es 4 par? {es_par(4)}\")\n",
        "print(f\"¿Es 7 par? {es_par(7)}\")\n",
        "\n",
        "# Ejercicio 2.2: Función calcular_promedio\n",
        "def calcular_promedio(lista_numeros):\n",
        "    if not lista_numeros:\n",
        "        return 0 # Manejar el caso de lista vacía\n",
        "    return sum(lista_numeros) / len(lista_numeros)\n",
        "\n",
        "# Prueba la función aquí\n",
        "mis_numeros = [10, 20, 30, 40, 50]\n",
        "print(f\"El promedio de {mis_numeros} es: {calcular_promedio(mis_numeros)}\")\n",
        "mis_numeros_2 = [1, 2, 3]\n",
        "print(f\"El promedio de {mis_numeros_2} es: {calcular_promedio(mis_numeros_2)}\")\n"
      ]
    },
    {
      "cell_type": "code",
      "execution_count": null,
      "id": "97b1801c",
      "metadata": {
        "id": "97b1801c"
      },
      "outputs": [],
      "source": [
        "#Con parámetros y retorno\n",
        "\n",
        "def cuadrado(x):\n",
        "    return x * x\n",
        "\n",
        "#Sin parámetros\n",
        "\n",
        "def mostrar_bienvenida():\n",
        "    print(\"¡Bienvenido al programa!\")\n",
        "\n",
        "#Funciones anónimas (lambda)\n",
        "\n",
        "doble = lambda x: x * 2\n",
        "print(doble(4))  # Imprime 8\n"
      ]
    },
    {
      "cell_type": "code",
      "execution_count": null,
      "id": "aca07018",
      "metadata": {
        "id": "aca07018"
      },
      "outputs": [],
      "source": [
        "resultado = 3 + 4 * 2   # ¿Qué se resuelve primero?\n",
        "print(resultado)        # ¿Qué imprimr)\n",
        "\n",
        "# Imprime: 11\n"
      ]
    },
    {
      "cell_type": "code",
      "execution_count": null,
      "id": "cdb906d2",
      "metadata": {
        "id": "cdb906d2"
      },
      "outputs": [],
      "source": [
        "resultado = (2 + 3) ** 2 - 4 / 2\n",
        "resultado"
      ]
    },
    {
      "cell_type": "markdown",
      "id": "f7721d8e",
      "metadata": {
        "id": "f7721d8e"
      },
      "source": [
        "## Conclusión\n",
        "\n",
        "¡Felicidades! Has trabajado con operadores, la jerarquía de operaciones y las funciones en Python. Estos son conceptos fundamentales que te permitirán construir programas más complejos y eficientes. ¡Sigue practicando y explorando el mundo de la programación!\n",
        "\n",
        "¡Esperamos que este cuaderno te sea de gran utilidad en tu aprendizaje!\n"
      ]
    },
    {
      "cell_type": "markdown",
      "id": "2a3229ab",
      "metadata": {
        "id": "2a3229ab"
      },
      "source": [
        "## Trabajando con Porcentajes\n",
        "\n",
        "Un porcentaje representa una parte de 100. (Por ejemplo, 25% significa 25 de cada 100, o lo que es lo mismo: 25 / 100 = 0.25). Para calcular porcentajes correctamente:\n"
      ]
    },
    {
      "cell_type": "code",
      "execution_count": null,
      "id": "56d475a6",
      "metadata": {
        "id": "56d475a6",
        "colab": {
          "base_uri": "https://localhost:8080/"
        },
        "outputId": "9b36bc3f-7fd7-4643-cdb0-a5578e38f615"
      },
      "outputs": [
        {
          "output_type": "stream",
          "name": "stdout",
          "text": [
            "Ventas: [120, 80, 200]\n",
            "Total de ventas: 400\n",
            "Porcentajes: [30.0, 20.0, 50.0]\n"
          ]
        }
      ],
      "source": [
        "ventas = [120, 80, 200]\n",
        "total = sum(ventas)               # 400\n",
        "porcentajes = [(v / total) * 100 for v in ventas] # [30.0, 20.0, 50.0]\n",
        "\n",
        "print(f\"Ventas: {ventas}\")\n",
        "print(f\"Total de ventas: {total}\")\n",
        "print(f\"Porcentajes: {porcentajes}\")\n",
        "\n",
        "# La lista por comprensión agiliza cálculos.\n",
        "# Multiplicar por 100 tras la división convierte fracción en porcentaje."
      ]
    },
    {
      "cell_type": "markdown",
      "id": "0d037780",
      "metadata": {
        "id": "0d037780"
      },
      "source": [
        "## Lógica Booleana y Filtrado de Datos\n",
        "\n",
        "La lógica booleana trabaja con valores Verdadero (`True`) o Falso (`False`) y se usa para tomar decisiones o filtrar datos basándose en condiciones.\n",
        "\n",
        "| Operador | Significado | Ejemplo | Resultado |\n",
        "| :------- | :---------- | :------ | :-------- |\n",
        "| `and`    | Y lógico (ambas verdaderas) | `True and False` | `False` |\n",
        "| `or`     | O lógico (una o ambas) | `True or False` | `True` |\n",
        "| `not`    | Negación lógica | `not True` | `False` |\n",
        "\n",
        "Los operadores lógicos permiten combinar condiciones:\n"
      ]
    },
    {
      "cell_type": "code",
      "execution_count": null,
      "id": "741668a7",
      "metadata": {
        "id": "741668a7",
        "colab": {
          "base_uri": "https://localhost:8080/"
        },
        "outputId": "5aa540ef-6ba3-4d86-dd2d-2d67212ca97e"
      },
      "outputs": [
        {
          "output_type": "stream",
          "name": "stdout",
          "text": [
            "Condición (edad >= 18) and (ingresos > 1000): True\n"
          ]
        }
      ],
      "source": [
        "edad = 22\n",
        "ingresos = 1500\n",
        "\n",
        "condicion = (edad >= 18) and (ingresos > 1000) # True si ambas condiciones se cumplen.\n",
        "print(f\"Condición (edad >= 18) and (ingresos > 1000): {condicion}\")\n"
      ]
    },
    {
      "cell_type": "markdown",
      "id": "7cd0adbd",
      "metadata": {
        "id": "7cd0adbd"
      },
      "source": [
        "En pandas, filtrar un DataFrame usa la misma lógica:\n",
        "\n",
        "*   `&` en lugar de `and`\n",
        "*   `|` en lugar de `or`\n",
        "*   `~` en lugar de `not`\n"
      ]
    },
    {
      "cell_type": "code",
      "execution_count": null,
      "id": "53c33645",
      "metadata": {
        "id": "53c33645",
        "colab": {
          "base_uri": "https://localhost:8080/"
        },
        "outputId": "fd5fd240-0f35-424b-bda5-9048c2b18250"
      },
      "outputs": [
        {
          "output_type": "stream",
          "name": "stdout",
          "text": [
            "DataFrame original:\n",
            "   edad  ingresos\n",
            "0    20      1200\n",
            "1    17       800\n",
            "2    25      2000\n",
            "\n",
            "DataFrame filtrado (edad >= 18 Y ingresos > 1000):\n",
            "   edad  ingresos\n",
            "0    20      1200\n",
            "2    25      2000\n"
          ]
        }
      ],
      "source": [
        "import pandas as pd\n",
        "\n",
        "df = pd.DataFrame({\n",
        "    'edad': [20, 17, 25],\n",
        "    'ingresos': [1200, 800, 2000]\n",
        "})\n",
        "print(\"DataFrame original:\")\n",
        "print(df)\n",
        "\n",
        "df_filtrado = df[(df.edad >= 18) & (df.ingresos > 1000)]\n",
        "print(\"\\nDataFrame filtrado (edad >= 18 Y ingresos > 1000):\")\n",
        "print(df_filtrado)\n",
        "\n",
        "# Operadores lógicos permiten construir condiciones complejas.\n",
        "# Se usan para filtrar datos, controlar flujo, y evaluar reglas."
      ]
    },
    {
      "cell_type": "markdown",
      "id": "7ae5ea53",
      "metadata": {
        "id": "7ae5ea53"
      },
      "source": [
        "## Ecuaciones Lineales y Combinación de Operaciones\n",
        "\n",
        "Una ecuación lineal es una igualdad matemática que involucra una o más variables elevadas solo a la potencia 1 (es decir, sin exponente). Su forma más común es: `ax + b = c`; donde `x` es la incógnita y `a`, `b`, `c` son números reales.\n",
        "\n",
        "Puedes resolver ecuaciones sencillas combinando operadores:\n"
      ]
    },
    {
      "cell_type": "code",
      "execution_count": null,
      "id": "1d11a6be",
      "metadata": {
        "id": "1d11a6be",
        "colab": {
          "base_uri": "https://localhost:8080/"
        },
        "outputId": "25e519bc-d96e-4be7-c866-89c0a3a6f069"
      },
      "outputs": [
        {
          "output_type": "stream",
          "name": "stdout",
          "text": [
            "El valor de x en 3x + 6 = 21 es: 5.0\n"
          ]
        }
      ],
      "source": [
        "# Resolver 3x + 6 = 21\n",
        "# Restamos 6 a ambos lados: 3x = 21 - 6\n",
        "# Dividimos por 3: x = (21 - 6) / 3\n",
        "x = (21 - 6) / 3\n",
        "print(f\"El valor de x en 3x + 6 = 21 es: {x}\") # 5.0\n"
      ]
    },
    {
      "cell_type": "markdown",
      "id": "d7087857",
      "metadata": {
        "id": "d7087857"
      },
      "source": [
        "## Ejemplo de Código Python: Jerarquía de Operadores\n",
        "\n",
        "A continuación, encontrarás un bloque de código Python que puedes modificar para experimentar con operadores y jerarquía. ¡Intenta cambiar los valores o las operaciones para ver diferentes resultados!\n"
      ]
    },
    {
      "cell_type": "code",
      "execution_count": null,
      "id": "1e91ce31",
      "metadata": {
        "id": "1e91ce31",
        "colab": {
          "base_uri": "https://localhost:8080/"
        },
        "outputId": "1b9e3bbb-3ff1-4d96-9953-6a3b6106d381"
      },
      "outputs": [
        {
          "output_type": "stream",
          "name": "stdout",
          "text": [
            "10 + 5 * 2 = 20\n",
            "(10 + 5) * 2 = 30\n",
            "¿a > b? True\n",
            "¿a < b? False\n",
            "¿Soleado Y sin viento? True\n",
            "¿Soleado O con viento? True\n",
            "(20 / 5) + 3 * 2 = 10.0\n"
          ]
        }
      ],
      "source": [
        "# Ejemplos de operadores y jerarquía\n",
        "\n",
        "# 1. Multiplicación y división antes de suma y resta\n",
        "resultado1 = 10 + 5 * 2\n",
        "# Se calcula 5 * 2 = 10, luego 10 + 10 = 20\n",
        "print(f\"10 + 5 * 2 = {resultado1}\") # Output: 20\n",
        "\n",
        "# 2. Uso de paréntesis para cambiar la jerarquía\n",
        "resultado2 = (10 + 5) * 2\n",
        "# Se calcula (10 + 5) = 15, luego 15 * 2 = 30\n",
        "print(f\"(10 + 5) * 2 = {resultado2}\") # Output: 30\n",
        "\n",
        "# 3. Operadores de comparación\n",
        "a = 15\n",
        "b = 8\n",
        "print(f\"¿a > b? {a > b}\") # Output: {a > b}\n",
        "print(f\"¿a < b? {a < b}\") # Output: {a < b}\n",
        "\n",
        "# 4. Operadores lógicos (AND, OR, NOT)\n",
        "es_soleado = True\n",
        "hay_viento = False\n",
        "\n",
        "# AND: Ambos deben ser verdaderos\n",
        "print(f\"¿Soleado Y sin viento? {es_soleado and not hay_viento}\") # Output: {es_soleado and not hay_viento}\n",
        "\n",
        "# OR: Al menos uno debe ser verdadero\n",
        "print(f\"¿Soleado O con viento? {es_soleado or hay_viento}\") # Output: {es_soleado or hay_viento}\n",
        "\n",
        "# 5. Combinando operaciones\n",
        "x = 20\n",
        "y = 5\n",
        "z = 3\n",
        "calculo_complejo = (x / y) + z * 2\n",
        "# (20 / 5) = 4, luego 3 * 2 = 6, luego 4 + 6 = 10\n",
        "print(f\"(20 / 5) + 3 * 2 = {calculo_complejo}\") # Output: {calculo_complejo}\n",
        "\n",
        "# --- ¡Zona para tu código modificable! ---\n",
        "# Intenta cambiar los valores de las variables o las operaciones\n",
        "# para ver cómo cambia el resultado.\n",
        "\n",
        "# Por ejemplo:\n",
        "# mi_numero = 7\n",
        "# otro_numero = 3\n",
        "# mi_resultado = (mi_numero + otro_numero) * 2\n",
        "# print(f\"Mi resultado modificado: {mi_resultado}\")"
      ]
    },
    {
      "cell_type": "markdown",
      "id": "d05b1f4d",
      "metadata": {
        "id": "d05b1f4d"
      },
      "source": [
        "## ¡Consolida tus habilidades!\n",
        "\n",
        "La práctica constante con las herramientas y los conceptos de este módulo te permitirá construir una base sólida para el análisis de datos. Realiza los ejercicios y explora para afianzar tus conocimientos.\n",
        "\n",
        "¡Esperamos que este cuaderno te sea de gran utilidad!\n"
      ]
    }
  ],
  "metadata": {
    "colab": {
      "provenance": []
    },
    "language_info": {
      "name": "python"
    },
    "kernelspec": {
      "name": "python3",
      "display_name": "Python 3"
    }
  },
  "nbformat": 4,
  "nbformat_minor": 5
}